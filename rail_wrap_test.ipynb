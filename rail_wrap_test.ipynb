{
 "cells": [
  {
   "cell_type": "code",
   "execution_count": 1,
   "id": "1c2a2dbf",
   "metadata": {},
   "outputs": [],
   "source": [
    "# Training script for LazyConfig models\n",
    "try:\n",
    "    # ignore ShapelyDeprecationWarning from fvcore\n",
    "    import warnings\n",
    "\n",
    "    from shapely.errors import ShapelyDeprecationWarning\n",
    "\n",
    "    warnings.filterwarnings(\"ignore\", category=ShapelyDeprecationWarning)\n",
    "\n",
    "except:\n",
    "    pass\n",
    "warnings.filterwarnings(\"ignore\", category=RuntimeWarning)\n",
    "warnings.filterwarnings(\"ignore\", category=UserWarning)\n",
    "\n",
    "# Some basic setup:\n",
    "# Setup detectron2 logger\n",
    "from detectron2.utils.logger import setup_logger\n",
    "\n",
    "setup_logger()\n",
    "\n",
    "import gc\n",
    "import os\n",
    "import time\n",
    "\n",
    "import detectron2.utils.comm as comm\n",
    "\n",
    "# import some common libraries\n",
    "import numpy as np\n",
    "import torch\n",
    "\n",
    "# import some common detectron2 utilities\n",
    "from detectron2.config import LazyConfig, get_cfg\n",
    "import detectron2.data as data\n",
    "from detectron2.engine import (\n",
    "    launch,\n",
    ")\n",
    "\n",
    "from deepdisc.data_format.augment_image import train_augs\n",
    "from deepdisc.data_format.image_readers import DC2ImageReader\n",
    "from deepdisc.data_format.register_data import register_data_set#, register_loaded_data_set\n",
    "from deepdisc.model.loaders import (\n",
    "    RedshiftFlatDictMapper,\n",
    "    return_test_loader,\n",
    "    return_train_loader,\n",
    ")\n",
    "from deepdisc.model.models import RedshiftPointCasROIHeads, RedshiftPointROIHeads, RedshiftPDFROIHeads, return_lazy_model\n",
    "from deepdisc.training.trainers import (\n",
    "    return_evallosshook,\n",
    "    return_lazy_trainer,\n",
    "    return_optimizer,\n",
    "    return_savehook,\n",
    "    return_schedulerhook,\n",
    ")\n",
    "from deepdisc.utils.parse_arguments import make_training_arg_parser\n",
    "\n"
   ]
  },
  {
   "cell_type": "code",
   "execution_count": 2,
   "id": "6167f21e-0bbc-45cb-bc06-aac14f765fa4",
   "metadata": {},
   "outputs": [],
   "source": [
    "#import importlib\n",
    "#importlib.reload(rail.estimation.algos.deepdisc)"
   ]
  },
  {
   "cell_type": "code",
   "execution_count": 3,
   "id": "5244b7ff-1501-47ad-b74e-c575f9758089",
   "metadata": {},
   "outputs": [],
   "source": [
    "#from rail.estimation.algos.deepdisc import DeepDiscInformer\n",
    "import rail\n",
    "from rail.estimation.algos.deepdisc import *\n",
    "from rail.core.data import TableHandle\n",
    "from rail.core.stage import RailStage\n",
    "\n",
    "from rail.deepdisc.configs import *"
   ]
  },
  {
   "cell_type": "code",
   "execution_count": 4,
   "id": "4e82e6de-f6ec-46b5-a6a7-60e79cd79c31",
   "metadata": {},
   "outputs": [],
   "source": [
    "cfgfile = \"/home/shared/hsc/detectron2/configs/COCO-InstanceSegmentation/mask_rcnn_R_50_FPN_1x.py\"\n",
    "dirpath = './tests/deepdisc/test_data/dc2/'\n",
    "output_dir = './'\n",
    "output_name = 'test'\n",
    "\n",
    "trainfile = dirpath + \"flattened_data_test.npy\"\n",
    "testfile = dirpath + \"flattened_data_test.npy\"\n",
    "classes = ['object']\n",
    "numclasses = 1"
   ]
  },
  {
   "cell_type": "code",
   "execution_count": 5,
   "id": "4ed14575-d55b-4400-90f9-752f27cc75c6",
   "metadata": {},
   "outputs": [
    {
     "data": {
      "text/plain": [
       "'detectron2://ImageNetPretrained/MSRA/R-50.pkl'"
      ]
     },
     "execution_count": 5,
     "metadata": {},
     "output_type": "execute_result"
    }
   ],
   "source": [
    "cfg = get_lazy_config(cfgfile, 1, 1)\n",
    "cfg.train.init_checkpoint"
   ]
  },
  {
   "cell_type": "code",
   "execution_count": 6,
   "id": "ffd06982-1e98-4b8a-a3a8-b68ac71cd6bc",
   "metadata": {},
   "outputs": [],
   "source": [
    "DS = RailStage.data_store\n",
    "DS.__class__.allow_overwrite = True"
   ]
  },
  {
   "cell_type": "code",
   "execution_count": null,
   "id": "9940c5c2-b692-4e3b-a595-0afec0c21e93",
   "metadata": {},
   "outputs": [],
   "source": []
  },
  {
   "cell_type": "code",
   "execution_count": 7,
   "id": "ef5887b5-f2d2-4047-8d81-af04dfa54bf7",
   "metadata": {},
   "outputs": [],
   "source": [
    "testdata = np.load('./tests/deepdisc/test_data/dc2/flattened_data_test.npy')\n",
    "mapper = RedshiftFlatDictMapper().map_data"
   ]
  },
  {
   "cell_type": "code",
   "execution_count": 8,
   "id": "d7e9a2e4-0bae-4b0d-9e62-60fd09795e8a",
   "metadata": {},
   "outputs": [],
   "source": [
    "dataset_dicts={}\n",
    "dds = []\n",
    "for row in testdata:\n",
    "    dds.append(mapper(row))\n",
    "dataset_dicts['test'] = dds"
   ]
  },
  {
   "cell_type": "code",
   "execution_count": 9,
   "id": "01f48f9e-16a3-423d-a550-ed9298b6fafb",
   "metadata": {},
   "outputs": [],
   "source": [
    "training = DS.add_data(\"training\", testdata, TableHandle)\n",
    "testing = DS.add_data(\"testing\", testdata, TableHandle)"
   ]
  },
  {
   "cell_type": "code",
   "execution_count": 10,
   "id": "a57e206a-c5c6-4526-a278-868ef2a6047b",
   "metadata": {},
   "outputs": [],
   "source": [
    "deep_dict = dict(epochs=200,\n",
    "                numclasses=1,\n",
    "                batch_size=1,\n",
    "                output_dir ='./',\n",
    "                cfgfile=\"/home/shared/hsc/detectron2/configs/COCO-InstanceSegmentation/mask_rcnn_R_50_FPN_1x.py\",\n",
    "                output_name ='test_informer')"
   ]
  },
  {
   "cell_type": "code",
   "execution_count": 11,
   "id": "d611ae20-a7c7-4f52-9390-1d27eca138f0",
   "metadata": {},
   "outputs": [],
   "source": [
    "#Inform = DeepDiscInformer.make_stage(name='Inform_DeepDISC', model='detectron2://ImageNetPretrained/MSRA/R-50.pkl', **deep_dict)\n",
    "Inform = DeepDiscInformer.make_stage(name='Inform_DeepDISC', model='test_informer.pkl', **deep_dict)\n"
   ]
  },
  {
   "cell_type": "code",
   "execution_count": 12,
   "id": "87b6a9d1-697e-4bde-abee-e519253daa6f",
   "metadata": {},
   "outputs": [
    {
     "name": "stdout",
     "output_type": "stream",
     "text": [
      "\u001b[32m[12/01 16:04:36 d2.data.build]: \u001b[0mMaking batched data loader with batch_size=1\n",
      "\u001b[32m[12/01 16:04:36 d2.checkpoint.detection_checkpoint]: \u001b[0m[DetectionCheckpointer] Loading from detectron2://ImageNetPretrained/MSRA/R-50.pkl ...\n",
      "\u001b[32m[12/01 16:04:36 d2.checkpoint.c2_model_loading]: \u001b[0mRenaming Caffe2 weights ......\n",
      "\u001b[5m\u001b[31mWARNING\u001b[0m \u001b[32m[12/01 16:04:36 d2.checkpoint.c2_model_loading]: \u001b[0mShape of stem.conv1.weight in checkpoint is torch.Size([64, 3, 7, 7]), while shape of backbone.bottom_up.stem.conv1.weight in model is torch.Size([64, 6, 7, 7]).\n",
      "\u001b[5m\u001b[31mWARNING\u001b[0m \u001b[32m[12/01 16:04:36 d2.checkpoint.c2_model_loading]: \u001b[0mstem.conv1.weight will not be loaded. Please double check and see if this is desired.\n",
      "\u001b[32m[12/01 16:04:36 d2.checkpoint.c2_model_loading]: \u001b[0mFollowing weights matched with submodule backbone.bottom_up - Total num: 53\n"
     ]
    },
    {
     "name": "stderr",
     "output_type": "stream",
     "text": [
      "Some model parameters or buffers are not found in the checkpoint:\n",
      "\u001b[34mbackbone.bottom_up.stem.conv1.weight\u001b[0m\n",
      "\u001b[34mbackbone.fpn_lateral2.{bias, weight}\u001b[0m\n",
      "\u001b[34mbackbone.fpn_lateral3.{bias, weight}\u001b[0m\n",
      "\u001b[34mbackbone.fpn_lateral4.{bias, weight}\u001b[0m\n",
      "\u001b[34mbackbone.fpn_lateral5.{bias, weight}\u001b[0m\n",
      "\u001b[34mbackbone.fpn_output2.{bias, weight}\u001b[0m\n",
      "\u001b[34mbackbone.fpn_output3.{bias, weight}\u001b[0m\n",
      "\u001b[34mbackbone.fpn_output4.{bias, weight}\u001b[0m\n",
      "\u001b[34mbackbone.fpn_output5.{bias, weight}\u001b[0m\n",
      "\u001b[34mproposal_generator.rpn_head.anchor_deltas.{bias, weight}\u001b[0m\n",
      "\u001b[34mproposal_generator.rpn_head.conv.{bias, weight}\u001b[0m\n",
      "\u001b[34mproposal_generator.rpn_head.objectness_logits.{bias, weight}\u001b[0m\n",
      "\u001b[34mroi_heads.box_head.fc1.{bias, weight}\u001b[0m\n",
      "\u001b[34mroi_heads.box_head.fc2.{bias, weight}\u001b[0m\n",
      "\u001b[34mroi_heads.box_predictor.bbox_pred.{bias, weight}\u001b[0m\n",
      "\u001b[34mroi_heads.box_predictor.cls_score.{bias, weight}\u001b[0m\n",
      "\u001b[34mroi_heads.mask_head.deconv.{bias, weight}\u001b[0m\n",
      "\u001b[34mroi_heads.mask_head.mask_fcn1.{bias, weight}\u001b[0m\n",
      "\u001b[34mroi_heads.mask_head.mask_fcn2.{bias, weight}\u001b[0m\n",
      "\u001b[34mroi_heads.mask_head.mask_fcn3.{bias, weight}\u001b[0m\n",
      "\u001b[34mroi_heads.mask_head.mask_fcn4.{bias, weight}\u001b[0m\n",
      "\u001b[34mroi_heads.mask_head.predictor.{bias, weight}\u001b[0m\n",
      "\u001b[34mroi_heads.redshift_fc.0.{bias, weight}\u001b[0m\n",
      "\u001b[34mroi_heads.redshift_fc.2.{bias, weight}\u001b[0m\n",
      "The checkpoint state_dict contains keys that are not used by the model:\n",
      "  \u001b[35mfc1000.{bias, weight}\u001b[0m\n",
      "  \u001b[35mstem.conv1.{bias, weight}\u001b[0m\n"
     ]
    },
    {
     "name": "stdout",
     "output_type": "stream",
     "text": [
      "Model training:\n",
      "\u001b[32m[12/01 16:04:36 d2.engine.train_loop]: \u001b[0mStarting training from iteration 0\n",
      "<detectron2.solver.lr_scheduler.LRMultiplier object at 0x7ffdcb30e5e0>\n",
      "Iteration:  5  time:  3.109453245997429e-07 dict_keys(['loss_cls', 'loss_box_reg', 'redshift_loss', 'loss_rpn_cls', 'loss_rpn_loc']) [0.08168353140354156, 0.03492044284939766, 0.09005818186712308, 0.5837008953094482, 0.0014377956977114081] val loss:  0 lr:  [0.001]\n",
      "Iteration:  10  time:  4.341127350926399e-07 dict_keys(['loss_cls', 'loss_box_reg', 'redshift_loss', 'loss_rpn_cls', 'loss_rpn_loc']) [0.13382689654827118, 0.028655963018536568, 0.07374486869537594, 0.2618156671524048, 0.001036638393998146] val loss:  0.7522368614356524 lr:  [0.001]\n",
      "Iteration:  15  time:  5.069887265563011e-07 dict_keys(['loss_cls', 'loss_box_reg', 'redshift_loss', 'loss_rpn_cls', 'loss_rpn_loc']) [0.04372570291161537, 0.003985135350376368, 0.08474627610075508, 0.06478501111268997, 0.0014642772730439901] val loss:  0.33172891637948587 lr:  [0.001]\n",
      "Iteration:  20  time:  4.019821062684059e-07 dict_keys(['loss_cls', 'loss_box_reg', 'redshift_loss', 'loss_rpn_cls', 'loss_rpn_loc']) [0.03475077077746391, 0.003710945136845112, 0.09153193463134793, 0.01992051675915718, 0.001922686817124486] val loss:  0.1755276260549259 lr:  [0.001]\n",
      "Iteration:  25  time:  3.7299469113349915e-07 dict_keys(['loss_cls', 'loss_box_reg', 'redshift_loss', 'loss_rpn_cls', 'loss_rpn_loc']) [0.029858851805329323, 0.04676828905940056, 0.08362461941286906, 0.013905270956456661, 0.0017017220379784703] val loss:  0.10865864910658948 lr:  [0.001]\n",
      "Iteration:  30  time:  4.550674930214882e-07 dict_keys(['loss_cls', 'loss_box_reg', 'redshift_loss', 'loss_rpn_cls', 'loss_rpn_loc']) [0.015754520893096924, 0.028439991176128387, 0.0412594835802579, 0.011500919237732887, 0.0005161553854122758] val loss:  0.1287624323845205 lr:  [0.001]\n",
      "Iteration:  35  time:  3.9301812648773193e-07 dict_keys(['loss_cls', 'loss_box_reg', 'redshift_loss', 'loss_rpn_cls', 'loss_rpn_loc']) [0.009403858333826065, 0.016370313242077827, 0.04112824662938523, 0.00884317047894001, 0.00039032456697896123] val loss:  0.10912978217955532 lr:  [0.001]\n",
      "Iteration:  40  time:  5.310866981744766e-07 dict_keys(['loss_cls', 'loss_box_reg', 'redshift_loss', 'loss_rpn_cls', 'loss_rpn_loc']) [0.0075805834494531155, 0.020917344838380814, 0.03729918118180989, 0.008307586424052715, 0.0002391332236584276] val loss:  0.08043115591386293 lr:  [0.001]\n",
      "Iteration:  45  time:  5.100155249238014e-07 dict_keys(['loss_cls', 'loss_box_reg', 'redshift_loss', 'loss_rpn_cls', 'loss_rpn_loc']) [0.005823255050927401, 0.010860390961170197, 0.061612952457748255, 0.008494595065712929, 0.00021078865393064916] val loss:  0.07317366478887098 lr:  [0.001]\n",
      "Iteration:  50  time:  3.9802398532629013e-07 dict_keys(['loss_cls', 'loss_box_reg', 'redshift_loss', 'loss_rpn_cls', 'loss_rpn_loc']) [0.006321036256849766, 0.008257586508989334, 0.14011164962025702, 0.0058977906592190266, 0.00023431875160895288] val loss:  0.05749770067586381 lr:  [0.001]\n",
      "Iteration:  55  time:  3.4191180020570755e-07 dict_keys(['loss_cls', 'loss_box_reg', 'redshift_loss', 'loss_rpn_cls', 'loss_rpn_loc']) [0.004319334868341684, 0.009978089481592178, 0.03005771813337852, 0.006796455010771751, 0.00025519850896671414] val loss:  0.04909265195804774 lr:  [0.001]\n",
      "Iteration:  60  time:  6.329501047730446e-07 dict_keys(['loss_cls', 'loss_box_reg', 'redshift_loss', 'loss_rpn_cls', 'loss_rpn_loc']) [0.003416558727622032, 0.0065187010914087296, 0.052554423820168686, 0.005206729285418987, 0.00017488251614850014] val loss:  0.04966312302766396 lr:  [0.001]\n",
      "Iteration:  65  time:  6.780028343200684e-07 dict_keys(['loss_cls', 'loss_box_reg', 'redshift_loss', 'loss_rpn_cls', 'loss_rpn_loc']) [0.0015035446267575026, 0.012794178910553455, 0.024237723616492873, 0.004740616772323847, 0.00013024017971474677] val loss:  0.04337089994874272 lr:  [0.001]\n",
      "Iteration:  70  time:  4.5297201722860336e-07 dict_keys(['loss_cls', 'loss_box_reg', 'redshift_loss', 'loss_rpn_cls', 'loss_rpn_loc']) [0.0013423688942566514, 0.009437726810574532, 0.17232573673725063, 0.004361364059150219, 0.00013263977598398924] val loss:  0.040580265992902875 lr:  [0.001]\n",
      "Iteration:  75  time:  4.289904609322548e-07 dict_keys(['loss_cls', 'loss_box_reg', 'redshift_loss', 'loss_rpn_cls', 'loss_rpn_loc']) [0.0018407058669254184, 0.009150562807917595, 0.04257206272939794, 0.003737374674528837, 0.00011732434359146282] val loss:  0.03739372135872042 lr:  [0.001]\n",
      "Iteration:  80  time:  4.769535735249519e-07 dict_keys(['loss_cls', 'loss_box_reg', 'redshift_loss', 'loss_rpn_cls', 'loss_rpn_loc']) [0.0013392168330028653, 0.007832864299416542, 0.015221086064408453, 0.0031773399095982313, 0.00015019398415461183] val loss:  0.034155759021769025 lr:  [0.001]\n",
      "Iteration:  85  time:  3.9301812648773193e-07 dict_keys(['loss_cls', 'loss_box_reg', 'redshift_loss', 'loss_rpn_cls', 'loss_rpn_loc']) [0.0015536743449047208, 0.010162675753235817, 0.06448525317072987, 0.0035599111579358578, 0.00015701455413363874] val loss:  0.02641549732056657 lr:  [0.001]\n",
      "Iteration:  90  time:  4.380708560347557e-07 dict_keys(['loss_cls', 'loss_box_reg', 'redshift_loss', 'loss_rpn_cls', 'loss_rpn_loc']) [0.00075023208046332, 0.010079698637127876, 0.021020245227370178, 0.003338821465149522, 0.00016420410247519612] val loss:  0.026835176440575564 lr:  [0.001]\n",
      "Iteration:  95  time:  5.060574039816856e-07 dict_keys(['loss_cls', 'loss_box_reg', 'redshift_loss', 'loss_rpn_cls', 'loss_rpn_loc']) [0.002060302533209324, 0.006320229731500149, 0.06934330684405085, 0.00336087285540998, 0.00020605826284736395] val loss:  0.027471545874894848 lr:  [0.001]\n",
      "Iteration:  100  time:  4.400499165058136e-07 dict_keys(['loss_cls', 'loss_box_reg', 'redshift_loss', 'loss_rpn_cls', 'loss_rpn_loc']) [0.0012362533016130328, 0.00876096822321415, 0.010289708766382334, 0.003236417192965746, 0.00015645692474208772] val loss:  0.02240795126510352 lr:  [0.001]\n",
      "Iteration:  105  time:  5.84055669605732e-07 dict_keys(['loss_cls', 'loss_box_reg', 'redshift_loss', 'loss_rpn_cls', 'loss_rpn_loc']) [0.0004708997148554772, 0.007026956416666508, 0.008131401182365449, 0.0026230039075016975, 0.00011259363236604258] val loss:  0.021231887249382037 lr:  [0.001]\n",
      "Iteration:  110  time:  5.100155249238014e-07 dict_keys(['loss_cls', 'loss_box_reg', 'redshift_loss', 'loss_rpn_cls', 'loss_rpn_loc']) [0.0003258445067331195, 0.007749936543405056, 0.21722314075127824, 0.0021397224627435207, 4.501812509261072e-05] val loss:  0.02033980139625392 lr:  [0.001]\n",
      "Iteration:  115  time:  3.390014171600342e-07 dict_keys(['loss_cls', 'loss_box_reg', 'redshift_loss', 'loss_rpn_cls', 'loss_rpn_loc']) [0.0006538847228512168, 0.0038458756171166897, 0.06755450624547328, 0.0022913680877536535, 7.886330422479659e-05] val loss:  0.01275809805176652 lr:  [0.001]\n",
      "Iteration:  120  time:  4.330649971961975e-07 dict_keys(['loss_cls', 'loss_box_reg', 'redshift_loss', 'loss_rpn_cls', 'loss_rpn_loc']) [0.0010391970863565803, 0.0020232521928846836, 0.03827237529200901, 0.002883888315409422, 2.201021561631933e-05] val loss:  0.011139309875024678 lr:  [0.001]\n",
      "Iteration:  125  time:  4.420289769768715e-07 dict_keys(['loss_cls', 'loss_box_reg', 'redshift_loss', 'loss_rpn_cls', 'loss_rpn_loc']) [0.0005594199174083769, 0.0029655620455741882, 0.017447705917981726, 0.0030684913508594036, 4.3413107050582767e-05] val loss:  0.008793358328858237 lr:  [0.001]\n",
      "Iteration:  130  time:  3.2992102205753326e-07 dict_keys(['loss_cls', 'loss_box_reg', 'redshift_loss', 'loss_rpn_cls', 'loss_rpn_loc']) [0.0002579478023108095, 0.005291569046676159, 0.04860624959991394, 0.002433313522487879, 0.00011269665992585942] val loss:  0.012175202648582673 lr:  [0.001]\n",
      "Iteration:  135  time:  5.470355972647667e-07 dict_keys(['loss_cls', 'loss_box_reg', 'redshift_loss', 'loss_rpn_cls', 'loss_rpn_loc']) [0.00020546487940009683, 0.00696205347776413, 0.0848488514375666, 0.002046427922323346, 0.00022498145699501038] val loss:  0.01134993044781668 lr:  [0.001]\n",
      "Iteration:  140  time:  3.5495031625032425e-07 dict_keys(['loss_cls', 'loss_box_reg', 'redshift_loss', 'loss_rpn_cls', 'loss_rpn_loc']) [0.00025785400066524744, 0.007668136619031429, 0.046160169086485875, 0.0015077487332746387, 7.593615737278014e-05] val loss:  0.012925891755238606 lr:  [0.001]\n",
      "Iteration:  145  time:  7.50063918530941e-07 dict_keys(['loss_cls', 'loss_box_reg', 'redshift_loss', 'loss_rpn_cls', 'loss_rpn_loc']) [0.0005431085592135787, 0.009755834937095642, 0.01723867891891554, 0.001376267638988793, 7.533664756920189e-05] val loss:  0.009421532146899309 lr:  [0.001]\n",
      "Iteration:  150  time:  3.939494490623474e-07 dict_keys(['loss_cls', 'loss_box_reg', 'redshift_loss', 'loss_rpn_cls', 'loss_rpn_loc']) [0.0005165893235243857, 0.003146640956401825, 0.032725250318214515, 0.0022328661289066076, 6.681845843559131e-05] val loss:  0.011877270219189644 lr:  [0.001]\n",
      "Iteration:  155  time:  3.9301812648773193e-07 dict_keys(['loss_cls', 'loss_box_reg', 'redshift_loss', 'loss_rpn_cls', 'loss_rpn_loc']) [0.0006555143045261502, 0.0028127869591116905, -0.00454703302329445, 0.001421624212525785, 9.660125942900777e-05] val loss:  0.002940799886751405 lr:  [0.001]\n",
      "Iteration:  160  time:  5.449401214718819e-07 dict_keys(['loss_cls', 'loss_box_reg', 'redshift_loss', 'loss_rpn_cls', 'loss_rpn_loc']) [0.00029968071612529457, 0.0031677579972893, 0.27294868530644106, 0.00156367477029562, 6.633705197600648e-05] val loss:  0.0005710213480760555 lr:  [0.001]\n",
      "Iteration:  165  time:  5.540205165743828e-07 dict_keys(['loss_cls', 'loss_box_reg', 'redshift_loss', 'loss_rpn_cls', 'loss_rpn_loc']) [0.00019785104086622596, 0.0034537159372121096, 0.27178740756969993, 0.0014246617211028934, 5.8494068071013317e-05] val loss:  -0.0006353612845722452 lr:  [0.001]\n",
      "Iteration:  170  time:  4.00003045797348e-07 dict_keys(['loss_cls', 'loss_box_reg', 'redshift_loss', 'loss_rpn_cls', 'loss_rpn_loc']) [0.000162715747137554, 0.003951130900532007, 0.023080771776035833, 0.0013645184226334095, 0.00011151986109325662] val loss:  0.0006629668053285635 lr:  [0.001]\n",
      "Iteration:  175  time:  3.33995558321476e-07 dict_keys(['loss_cls', 'loss_box_reg', 'redshift_loss', 'loss_rpn_cls', 'loss_rpn_loc']) [0.0001660683483351022, 0.00502434466034174, 0.08112130335523798, 0.0010626396397128701, 0.0001292663800995797] val loss:  0.004926208904898105 lr:  [0.001]\n",
      "Iteration:  180  time:  3.8102734833955765e-07 dict_keys(['loss_cls', 'loss_box_reg', 'redshift_loss', 'loss_rpn_cls', 'loss_rpn_loc']) [0.00018133445701096207, 0.00857775378972292, 0.00450512435811376, 0.001422584056854248, 0.00018389300385024399] val loss:  0.005633664424265461 lr:  [0.001]\n",
      "Iteration:  185  time:  4.239846020936966e-07 dict_keys(['loss_cls', 'loss_box_reg', 'redshift_loss', 'loss_rpn_cls', 'loss_rpn_loc']) [0.0002154427202185616, 0.0077083520591259, -0.0033527782081867576, 0.0010053631849586964, 0.0002056951925624162] val loss:  0.006415239762759345 lr:  [0.001]\n",
      "Iteration:  190  time:  4.3993350118398666e-07 dict_keys(['loss_cls', 'loss_box_reg', 'redshift_loss', 'loss_rpn_cls', 'loss_rpn_loc']) [0.00023210101062431931, 0.005965257529169321, 0.005861548962344865, 0.001065748743712902, 0.00019734184024855494] val loss:  0.004375628746189552 lr:  [0.001]\n",
      "Iteration:  195  time:  5.100155249238014e-07 dict_keys(['loss_cls', 'loss_box_reg', 'redshift_loss', 'loss_rpn_cls', 'loss_rpn_loc']) [0.00022458888997789472, 0.004876782186329365, 0.00369428682395892, 0.0012872678926214576, 0.0001509735593572259] val loss:  0.0017667198695290763 lr:  [0.001]\n",
      "Iteration:  200  time:  5.230540409684181e-07 dict_keys(['loss_cls', 'loss_box_reg', 'redshift_loss', 'loss_rpn_cls', 'loss_rpn_loc']) [0.00028022535843774676, 0.004052847158163786, 0.0036970292105493853, 0.0008060223190113902, 0.00014228235522750765] val loss:  -0.0010413239489452056 lr:  [0.001]\n",
      "saving test_informer\n",
      "Inserting handle into data store.  model_Inform_DeepDISC: inprogress_test_informer.pkl, Inform_DeepDISC\n"
     ]
    },
    {
     "data": {
      "text/plain": [
       "<rail.core.data.ModelHandle at 0x7fff90638e20>"
      ]
     },
     "execution_count": 12,
     "metadata": {},
     "output_type": "execute_result"
    }
   ],
   "source": [
    "Inform.inform(training)"
   ]
  },
  {
   "cell_type": "markdown",
   "id": "1c69b958",
   "metadata": {
    "tags": []
   },
   "source": [
    "### Inference"
   ]
  },
  {
   "cell_type": "code",
   "execution_count": 13,
   "id": "7360caf2-5b3d-4998-be0c-3ca28fb5e035",
   "metadata": {},
   "outputs": [],
   "source": [
    "#Estimator = DeepDiscEstimator.make_stage(name='DeepDiscEstimator',\n",
    "#                                       model=Inform.get_handle('model'), **deep_dict)\n",
    "\n",
    "Estimator = DeepDiscPDFEstimator.make_stage(name='DeepDiscEstimator',\n",
    "                                       model=Inform.get_handle('model'), hdf5_groupname=None, **deep_dict)"
   ]
  },
  {
   "cell_type": "code",
   "execution_count": 14,
   "id": "c74bb222-f53c-415c-acab-f8b978a2af5d",
   "metadata": {},
   "outputs": [
    {
     "name": "stdout",
     "output_type": "stream",
     "text": [
      "\u001b[32m[12/01 16:06:19 d2.checkpoint.detection_checkpoint]: \u001b[0m[DetectionCheckpointer] Loading from ./test_informer.pth ...\n",
      "Processing Data\n",
      "Matching objects\n",
      "[] []\n"
     ]
    },
    {
     "ename": "ValueError",
     "evalue": "Shape of xbins in xvals (200) != shape of xbins in yvals (0)",
     "output_type": "error",
     "traceback": [
      "\u001b[0;31m---------------------------------------------------------------------------\u001b[0m",
      "\u001b[0;31mValueError\u001b[0m                                Traceback (most recent call last)",
      "Cell \u001b[0;32mIn[14], line 1\u001b[0m\n\u001b[0;32m----> 1\u001b[0m results \u001b[38;5;241m=\u001b[39m \u001b[43mEstimator\u001b[49m\u001b[38;5;241;43m.\u001b[39;49m\u001b[43mestimate\u001b[49m\u001b[43m(\u001b[49m\u001b[43mtesting\u001b[49m\u001b[43m)\u001b[49m\n",
      "File \u001b[0;32m~/.conda/envs/ddrailnv/lib/python3.9/site-packages/rail/estimation/estimator.py:97\u001b[0m, in \u001b[0;36mCatEstimator.estimate\u001b[0;34m(self, input_data)\u001b[0m\n\u001b[1;32m     95\u001b[0m \u001b[38;5;28mself\u001b[39m\u001b[38;5;241m.\u001b[39mset_data(\u001b[38;5;124m'\u001b[39m\u001b[38;5;124minput\u001b[39m\u001b[38;5;124m'\u001b[39m, input_data)\n\u001b[1;32m     96\u001b[0m \u001b[38;5;28mself\u001b[39m\u001b[38;5;241m.\u001b[39mrun()\n\u001b[0;32m---> 97\u001b[0m \u001b[38;5;28;43mself\u001b[39;49m\u001b[38;5;241;43m.\u001b[39;49m\u001b[43mfinalize\u001b[49m\u001b[43m(\u001b[49m\u001b[43m)\u001b[49m\n\u001b[1;32m     98\u001b[0m \u001b[38;5;28;01mreturn\u001b[39;00m \u001b[38;5;28mself\u001b[39m\u001b[38;5;241m.\u001b[39mget_handle(\u001b[38;5;124m'\u001b[39m\u001b[38;5;124moutput\u001b[39m\u001b[38;5;124m'\u001b[39m)\n",
      "File \u001b[0;32m~/rail_deepdisc/src/rail/estimation/algos/deepdisc.py:224\u001b[0m, in \u001b[0;36mDeepDiscPDFEstimator.finalize\u001b[0;34m(self)\u001b[0m\n\u001b[1;32m    222\u001b[0m \u001b[38;5;28;01mdef\u001b[39;00m \u001b[38;5;21mfinalize\u001b[39m(\u001b[38;5;28mself\u001b[39m):\n\u001b[1;32m    223\u001b[0m     zmode \u001b[38;5;241m=\u001b[39m np\u001b[38;5;241m.\u001b[39marray([\u001b[38;5;28mself\u001b[39m\u001b[38;5;241m.\u001b[39mzgrid[np\u001b[38;5;241m.\u001b[39margmax(pdf)] \u001b[38;5;28;01mfor\u001b[39;00m pdf \u001b[38;5;129;01min\u001b[39;00m \u001b[38;5;28mself\u001b[39m\u001b[38;5;241m.\u001b[39mpdfs])\u001b[38;5;241m.\u001b[39mflatten()\n\u001b[0;32m--> 224\u001b[0m     qp_distn \u001b[38;5;241m=\u001b[39m \u001b[43mqp\u001b[49m\u001b[38;5;241;43m.\u001b[39;49m\u001b[43mEnsemble\u001b[49m\u001b[43m(\u001b[49m\u001b[43mqp\u001b[49m\u001b[38;5;241;43m.\u001b[39;49m\u001b[43minterp\u001b[49m\u001b[43m,\u001b[49m\u001b[43m \u001b[49m\u001b[43mdata\u001b[49m\u001b[38;5;241;43m=\u001b[39;49m\u001b[38;5;28;43mdict\u001b[39;49m\u001b[43m(\u001b[49m\u001b[43mxvals\u001b[49m\u001b[38;5;241;43m=\u001b[39;49m\u001b[38;5;28;43mself\u001b[39;49m\u001b[38;5;241;43m.\u001b[39;49m\u001b[43mzgrid\u001b[49m\u001b[43m,\u001b[49m\u001b[43m \u001b[49m\u001b[43myvals\u001b[49m\u001b[38;5;241;43m=\u001b[39;49m\u001b[38;5;28;43mself\u001b[39;49m\u001b[38;5;241;43m.\u001b[39;49m\u001b[43mpdfs\u001b[49m\u001b[43m)\u001b[49m\u001b[43m)\u001b[49m\n\u001b[1;32m    225\u001b[0m     qp_distn\u001b[38;5;241m.\u001b[39mset_ancil(\u001b[38;5;28mdict\u001b[39m(zmode\u001b[38;5;241m=\u001b[39mzmode))\n\u001b[1;32m    226\u001b[0m     qp_distn \u001b[38;5;241m=\u001b[39m \u001b[38;5;28mself\u001b[39m\u001b[38;5;241m.\u001b[39mcalculate_point_estimates(qp_distn)\n",
      "File \u001b[0;32m~/.conda/envs/ddrailnv/lib/python3.9/site-packages/qp/ensemble.py:34\u001b[0m, in \u001b[0;36mEnsemble.__init__\u001b[0;34m(self, gen_func, data, ancil)\u001b[0m\n\u001b[1;32m     32\u001b[0m \u001b[38;5;66;03m#start_time = timeit.default_timer()\u001b[39;00m\n\u001b[1;32m     33\u001b[0m \u001b[38;5;28mself\u001b[39m\u001b[38;5;241m.\u001b[39m_gen_func \u001b[38;5;241m=\u001b[39m gen_func\n\u001b[0;32m---> 34\u001b[0m \u001b[38;5;28mself\u001b[39m\u001b[38;5;241m.\u001b[39m_frozen \u001b[38;5;241m=\u001b[39m \u001b[38;5;28;43mself\u001b[39;49m\u001b[38;5;241;43m.\u001b[39;49m\u001b[43m_gen_func\u001b[49m\u001b[43m(\u001b[49m\u001b[38;5;241;43m*\u001b[39;49m\u001b[38;5;241;43m*\u001b[39;49m\u001b[43mdata\u001b[49m\u001b[43m)\u001b[49m\n\u001b[1;32m     35\u001b[0m \u001b[38;5;28mself\u001b[39m\u001b[38;5;241m.\u001b[39m_gen_obj \u001b[38;5;241m=\u001b[39m \u001b[38;5;28mself\u001b[39m\u001b[38;5;241m.\u001b[39m_frozen\u001b[38;5;241m.\u001b[39mdist\n\u001b[1;32m     36\u001b[0m \u001b[38;5;28mself\u001b[39m\u001b[38;5;241m.\u001b[39m_gen_class \u001b[38;5;241m=\u001b[39m \u001b[38;5;28mtype\u001b[39m(\u001b[38;5;28mself\u001b[39m\u001b[38;5;241m.\u001b[39m_gen_obj)\n",
      "File \u001b[0;32m~/.conda/envs/ddrailnv/lib/python3.9/site-packages/qp/pdf_gen.py:136\u001b[0m, in \u001b[0;36mPdf_gen.create\u001b[0;34m(cls, **kwds)\u001b[0m\n\u001b[1;32m    133\u001b[0m \u001b[38;5;250m\u001b[39m\u001b[38;5;124;03m\"\"\"Create and return a `scipy.stats.rv_frozen` object using the\u001b[39;00m\n\u001b[1;32m    134\u001b[0m \u001b[38;5;124;03mkeyword arguemntets provided\"\"\"\u001b[39;00m\n\u001b[1;32m    135\u001b[0m \u001b[38;5;66;03m# pylint: disable=not-callable\u001b[39;00m\n\u001b[0;32m--> 136\u001b[0m obj, kwds_freeze \u001b[38;5;241m=\u001b[39m \u001b[38;5;28;43mcls\u001b[39;49m\u001b[38;5;241;43m.\u001b[39;49m\u001b[43mcreate_gen\u001b[49m\u001b[43m(\u001b[49m\u001b[38;5;241;43m*\u001b[39;49m\u001b[38;5;241;43m*\u001b[39;49m\u001b[43mkwds\u001b[49m\u001b[43m)\u001b[49m\n\u001b[1;32m    137\u001b[0m \u001b[38;5;28;01mreturn\u001b[39;00m obj(\u001b[38;5;241m*\u001b[39m\u001b[38;5;241m*\u001b[39mkwds_freeze)\n",
      "File \u001b[0;32m~/.conda/envs/ddrailnv/lib/python3.9/site-packages/qp/pdf_gen.py:349\u001b[0m, in \u001b[0;36mPdf_rows_gen.create_gen\u001b[0;34m(cls, **kwds)\u001b[0m\n\u001b[1;32m    345\u001b[0m \u001b[38;5;129m@classmethod\u001b[39m\n\u001b[1;32m    346\u001b[0m \u001b[38;5;28;01mdef\u001b[39;00m \u001b[38;5;21mcreate_gen\u001b[39m(\u001b[38;5;28mcls\u001b[39m, \u001b[38;5;241m*\u001b[39m\u001b[38;5;241m*\u001b[39mkwds):\n\u001b[1;32m    347\u001b[0m \u001b[38;5;250m    \u001b[39m\u001b[38;5;124;03m\"\"\"Create and return a `scipy.stats.rv_continuous` object using the\u001b[39;00m\n\u001b[1;32m    348\u001b[0m \u001b[38;5;124;03m    keyword arguemntets provided\"\"\"\u001b[39;00m\n\u001b[0;32m--> 349\u001b[0m     \u001b[38;5;28;01mreturn\u001b[39;00m (\u001b[38;5;28;43mcls\u001b[39;49m\u001b[43m(\u001b[49m\u001b[38;5;241;43m*\u001b[39;49m\u001b[38;5;241;43m*\u001b[39;49m\u001b[43mkwds\u001b[49m\u001b[43m)\u001b[49m, {})\n",
      "File \u001b[0;32m~/.conda/envs/ddrailnv/lib/python3.9/site-packages/qp/interp_pdf.py:68\u001b[0m, in \u001b[0;36minterp_gen.__init__\u001b[0;34m(self, xvals, yvals, *args, **kwargs)\u001b[0m\n\u001b[1;32m     57\u001b[0m \u001b[38;5;250m\u001b[39m\u001b[38;5;124;03m\"\"\"\u001b[39;00m\n\u001b[1;32m     58\u001b[0m \u001b[38;5;124;03mCreate a new distribution by interpolating the given values\u001b[39;00m\n\u001b[1;32m     59\u001b[0m \n\u001b[0;32m   (...)\u001b[0m\n\u001b[1;32m     65\u001b[0m \u001b[38;5;124;03m  The y-values used to do the interpolation\u001b[39;00m\n\u001b[1;32m     66\u001b[0m \u001b[38;5;124;03m\"\"\"\u001b[39;00m\n\u001b[1;32m     67\u001b[0m \u001b[38;5;28;01mif\u001b[39;00m np\u001b[38;5;241m.\u001b[39msize(xvals) \u001b[38;5;241m!=\u001b[39m np\u001b[38;5;241m.\u001b[39mshape(yvals)[\u001b[38;5;241m-\u001b[39m\u001b[38;5;241m1\u001b[39m]: \u001b[38;5;66;03m# pragma: no cover\u001b[39;00m\n\u001b[0;32m---> 68\u001b[0m     \u001b[38;5;28;01mraise\u001b[39;00m \u001b[38;5;167;01mValueError\u001b[39;00m(\u001b[38;5;124m\"\u001b[39m\u001b[38;5;124mShape of xbins in xvals (\u001b[39m\u001b[38;5;132;01m%s\u001b[39;00m\u001b[38;5;124m) != shape of xbins in yvals (\u001b[39m\u001b[38;5;132;01m%s\u001b[39;00m\u001b[38;5;124m)\u001b[39m\u001b[38;5;124m\"\u001b[39m \u001b[38;5;241m%\u001b[39m\n\u001b[1;32m     69\u001b[0m                      (np\u001b[38;5;241m.\u001b[39msize(xvals), np\u001b[38;5;241m.\u001b[39mshape(yvals)[\u001b[38;5;241m-\u001b[39m\u001b[38;5;241m1\u001b[39m]))\n\u001b[1;32m     70\u001b[0m \u001b[38;5;28mself\u001b[39m\u001b[38;5;241m.\u001b[39m_xvals \u001b[38;5;241m=\u001b[39m np\u001b[38;5;241m.\u001b[39masarray(xvals)\n\u001b[1;32m     72\u001b[0m \u001b[38;5;66;03m# Set support\u001b[39;00m\n",
      "\u001b[0;31mValueError\u001b[0m: Shape of xbins in xvals (200) != shape of xbins in yvals (0)"
     ]
    }
   ],
   "source": [
    "\n",
    "results = Estimator.estimate(testing)\n",
    "\n"
   ]
  },
  {
   "cell_type": "code",
   "execution_count": 15,
   "id": "5b402ba2-3779-44e7-8654-113f19731464",
   "metadata": {},
   "outputs": [],
   "source": [
    "res = results.read()"
   ]
  },
  {
   "cell_type": "code",
   "execution_count": 16,
   "id": "42326512-837e-4ac6-87c6-2d59c90312db",
   "metadata": {},
   "outputs": [
    {
     "data": {
      "text/plain": [
       "<qp.ensemble.Ensemble at 0x7ffddd806e50>"
      ]
     },
     "execution_count": 16,
     "metadata": {},
     "output_type": "execute_result"
    }
   ],
   "source": [
    "res"
   ]
  },
  {
   "cell_type": "code",
   "execution_count": null,
   "id": "f7417fa3-0c51-4a04-837c-f9e54431eeda",
   "metadata": {},
   "outputs": [],
   "source": []
  }
 ],
 "metadata": {
  "kernelspec": {
   "display_name": "Python [conda env:.conda-ddrailnv]",
   "language": "python",
   "name": "conda-env-.conda-ddrailnv-py"
  },
  "language_info": {
   "codemirror_mode": {
    "name": "ipython",
    "version": 3
   },
   "file_extension": ".py",
   "mimetype": "text/x-python",
   "name": "python",
   "nbconvert_exporter": "python",
   "pygments_lexer": "ipython3",
   "version": "3.9.18"
  }
 },
 "nbformat": 4,
 "nbformat_minor": 5
}
