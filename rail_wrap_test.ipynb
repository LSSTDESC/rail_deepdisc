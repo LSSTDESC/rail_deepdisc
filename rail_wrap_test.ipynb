{
 "cells": [
  {
   "cell_type": "code",
   "execution_count": 1,
   "id": "1c2a2dbf",
   "metadata": {},
   "outputs": [],
   "source": [
    "# Training script for LazyConfig models\n",
    "try:\n",
    "    # ignore ShapelyDeprecationWarning from fvcore\n",
    "    import warnings\n",
    "\n",
    "    from shapely.errors import ShapelyDeprecationWarning\n",
    "\n",
    "    warnings.filterwarnings(\"ignore\", category=ShapelyDeprecationWarning)\n",
    "\n",
    "except:\n",
    "    pass\n",
    "warnings.filterwarnings(\"ignore\", category=RuntimeWarning)\n",
    "warnings.filterwarnings(\"ignore\", category=UserWarning)\n",
    "\n",
    "# Some basic setup:\n",
    "# Setup detectron2 logger\n",
    "from detectron2.utils.logger import setup_logger\n",
    "\n",
    "setup_logger()\n",
    "\n",
    "import gc\n",
    "import os\n",
    "import time\n",
    "\n",
    "import detectron2.utils.comm as comm\n",
    "\n",
    "# import some common libraries\n",
    "import numpy as np\n",
    "import torch\n",
    "\n",
    "# import some common detectron2 utilities\n",
    "from detectron2.config import LazyConfig, get_cfg\n",
    "import detectron2.data as data\n",
    "from detectron2.engine import (\n",
    "    launch,\n",
    ")\n",
    "\n",
    "from deepdisc.data_format.augment_image import train_augs\n",
    "from deepdisc.data_format.image_readers import DC2ImageReader\n",
    "from deepdisc.data_format.register_data import (\n",
    "    register_data_set,\n",
    ")  # , register_loaded_data_set\n",
    "from deepdisc.model.loaders import (\n",
    "    RedshiftFlatDictMapper,\n",
    "    return_test_loader,\n",
    "    return_train_loader,\n",
    ")\n",
    "from deepdisc.model.models import (\n",
    "    RedshiftPointCasROIHeads,\n",
    "    RedshiftPointROIHeads,\n",
    "    RedshiftPDFROIHeads,\n",
    "    return_lazy_model,\n",
    ")\n",
    "from deepdisc.training.trainers import (\n",
    "    return_evallosshook,\n",
    "    return_lazy_trainer,\n",
    "    return_optimizer,\n",
    "    return_savehook,\n",
    "    return_schedulerhook,\n",
    ")\n",
    "from deepdisc.utils.parse_arguments import make_training_arg_parser"
   ]
  },
  {
   "cell_type": "code",
   "execution_count": 2,
   "id": "6167f21e-0bbc-45cb-bc06-aac14f765fa4",
   "metadata": {},
   "outputs": [],
   "source": [
    "# import importlib\n",
    "# importlib.reload(rail.estimation.algos.deepdisc)"
   ]
  },
  {
   "cell_type": "code",
   "execution_count": 3,
   "id": "5244b7ff-1501-47ad-b74e-c575f9758089",
   "metadata": {},
   "outputs": [],
   "source": [
    "# from rail.estimation.algos.deepdisc import DeepDiscInformer\n",
    "import rail\n",
    "from rail.estimation.algos.deepdisc import *\n",
    "from rail.core.data import TableHandle, JsonHandle\n",
    "from rail.core.stage import RailStage\n",
    "\n",
    "from rail.deepdisc.configs import *"
   ]
  },
  {
   "cell_type": "code",
   "execution_count": 4,
   "id": "4e82e6de-f6ec-46b5-a6a7-60e79cd79c31",
   "metadata": {},
   "outputs": [],
   "source": [
    "#/home/shared/hsc/DC2/test_data/dataset_3/flattened_images_train_small.npy\n",
    "cfgfile = \"/home/shared/hsc/detectron2/configs/COCO-InstanceSegmentation/mask_rcnn_R_50_FPN_1x.py\"\n",
    "dirpath = \"./tests/deepdisc/test_data/dc2/\"\n",
    "output_dir = \"./\"\n",
    "output_name = \"test\"\n",
    "\n",
    "#trainfile = dirpath + \"flattened_data_test.npy\"\n",
    "trainfile = \"/home/shared/hsc/DC2/test_data/dataset_3/flattened_images_train.hdf5\"\n",
    "testfile = \"/home/shared/hsc/DC2/test_data/dataset_3/flattened_images_test.hdf5\"\n",
    "metadatafile = \"/home/shared/hsc/DC2/test_data/dataset_3/train_metadata.json\"\n",
    "test_metadatafile = \"/home/shared/hsc/DC2/test_data/dataset_3/test_metadata.json\"\n",
    "\n",
    "classes = [\"object\"]\n",
    "numclasses = 1"
   ]
  },
  {
   "cell_type": "code",
   "execution_count": 5,
   "id": "4ed14575-d55b-4400-90f9-752f27cc75c6",
   "metadata": {},
   "outputs": [
    {
     "data": {
      "text/plain": [
       "'detectron2://ImageNetPretrained/MSRA/R-50.pkl'"
      ]
     },
     "execution_count": 5,
     "metadata": {},
     "output_type": "execute_result"
    }
   ],
   "source": [
    "cfg = get_lazy_config(cfgfile, 1, 1)\n",
    "cfg.train.init_checkpoint"
   ]
  },
  {
   "cell_type": "code",
   "execution_count": 6,
   "id": "ffd06982-1e98-4b8a-a3a8-b68ac71cd6bc",
   "metadata": {},
   "outputs": [],
   "source": [
    "DS = RailStage.data_store\n",
    "DS.__class__.allow_overwrite = True"
   ]
  },
  {
   "cell_type": "code",
   "execution_count": null,
   "id": "c476d78e-9c5d-44a5-9489-de1b9e0d39f1",
   "metadata": {},
   "outputs": [],
   "source": []
  },
  {
   "cell_type": "code",
   "execution_count": 7,
   "id": "9940c5c2-b692-4e3b-a595-0afec0c21e93",
   "metadata": {},
   "outputs": [],
   "source": [
    "from deepdisc.data_format.file_io import get_data_from_json\n",
    "\n",
    "#testdata = np.load(trainfile, allow_pickle=True)\n",
    "#testdata = DS.read_file(\"testdata\", TableHandle, trainfile)\n",
    "metadata = get_data_from_json(metadatafile)\n",
    "test_metadata = get_data_from_json(test_metadatafile)"
   ]
  },
  {
   "cell_type": "code",
   "execution_count": 12,
   "id": "01f48f9e-16a3-423d-a550-ed9298b6fafb",
   "metadata": {},
   "outputs": [],
   "source": [
    "#training = DS.add_data(\"training\", testdata(), TableHandle, path=trainfile) #()[\"images\"]\n",
    "#testing = DS.add_data(\"testing\", testdata, TableHandle)\n",
    "\n",
    "training = DS.add_data(\"training\", data=None, handle_class=TableHandle, path=trainfile) #()[\"images\"]\n",
    "testing = DS.add_data(\"testing\", data=None, handle_class=TableHandle, path=testfile)\n",
    "\n",
    "metadatahandle = DS.add_data(\"metadata\", metadata, JsonHandle, path=metadatafile)\n",
    "#metadatahandle = DS.add_data(\"test_metadata\", test_metadata, JsonHandle, path=test_metadatafile)"
   ]
  },
  {
   "cell_type": "code",
   "execution_count": 9,
   "id": "a57e206a-c5c6-4526-a278-868ef2a6047b",
   "metadata": {},
   "outputs": [],
   "source": [
    "deep_dict = dict(\n",
    "    chunk_size=100,\n",
    "    epochs=20,\n",
    "    numclasses=1,\n",
    "    batch_size=1,\n",
    "    output_dir=\"./\",\n",
    "    cfgfile=\"/home/shared/hsc/detectron2/configs/COCO-InstanceSegmentation/mask_rcnn_R_50_FPN_1x.py\",\n",
    "    output_name=\"test_informer\",\n",
    "#     hdf5_groupname=\"images\",\n",
    "    \n",
    ")"
   ]
  },
  {
   "cell_type": "code",
   "execution_count": 13,
   "id": "d611ae20-a7c7-4f52-9390-1d27eca138f0",
   "metadata": {},
   "outputs": [],
   "source": [
    "# Inform = DeepDiscInformer.make_stage(name='Inform_DeepDISC', model='detectron2://ImageNetPretrained/MSRA/R-50.pkl', **deep_dict)\n",
    "Inform = DeepDiscInformer.make_stage(\n",
    "    name=\"Inform_DeepDISC\", model=\"test_informer.pkl\", **deep_dict\n",
    ")"
   ]
  },
  {
   "cell_type": "code",
   "execution_count": 14,
   "id": "87b6a9d1-697e-4bde-abee-e519253daa6f",
   "metadata": {},
   "outputs": [
    {
     "name": "stdout",
     "output_type": "stream",
     "text": [
      "caching data\n",
      "\u001b[32m[12/06 21:11:37 d2.data.common]: \u001b[0mSerializing the dataset using: <class 'detectron2.data.common._TorchSerializedList'>\n",
      "\u001b[32m[12/06 21:11:37 d2.data.common]: \u001b[0mSerializing 1000 elements to byte tensors and concatenating them all ...\n",
      "\u001b[32m[12/06 21:12:01 d2.data.common]: \u001b[0mSerialized dataset takes 274.77 MiB\n",
      "\u001b[32m[12/06 21:12:01 d2.data.build]: \u001b[0mMaking batched data loader with batch_size=1\n",
      "\u001b[32m[12/06 21:12:01 d2.data.common]: \u001b[0mSerializing the dataset using: <class 'detectron2.data.common._TorchSerializedList'>\n",
      "\u001b[32m[12/06 21:12:01 d2.data.common]: \u001b[0mSerializing 1000 elements to byte tensors and concatenating them all ...\n",
      "\u001b[32m[12/06 21:12:08 d2.data.common]: \u001b[0mSerialized dataset takes 274.77 MiB\n",
      "\u001b[32m[12/06 21:12:08 d2.checkpoint.detection_checkpoint]: \u001b[0m[DetectionCheckpointer] Loading from detectron2://ImageNetPretrained/MSRA/R-50.pkl ...\n",
      "\u001b[32m[12/06 21:12:08 d2.checkpoint.c2_model_loading]: \u001b[0mRenaming Caffe2 weights ......\n",
      "\u001b[5m\u001b[31mWARNING\u001b[0m \u001b[32m[12/06 21:12:08 d2.checkpoint.c2_model_loading]: \u001b[0mShape of stem.conv1.weight in checkpoint is torch.Size([64, 3, 7, 7]), while shape of backbone.bottom_up.stem.conv1.weight in model is torch.Size([64, 6, 7, 7]).\n",
      "\u001b[5m\u001b[31mWARNING\u001b[0m \u001b[32m[12/06 21:12:08 d2.checkpoint.c2_model_loading]: \u001b[0mstem.conv1.weight will not be loaded. Please double check and see if this is desired.\n",
      "\u001b[32m[12/06 21:12:08 d2.checkpoint.c2_model_loading]: \u001b[0mFollowing weights matched with submodule backbone.bottom_up - Total num: 53\n"
     ]
    },
    {
     "name": "stderr",
     "output_type": "stream",
     "text": [
      "Some model parameters or buffers are not found in the checkpoint:\n",
      "\u001b[34mbackbone.bottom_up.stem.conv1.weight\u001b[0m\n",
      "\u001b[34mbackbone.fpn_lateral2.{bias, weight}\u001b[0m\n",
      "\u001b[34mbackbone.fpn_lateral3.{bias, weight}\u001b[0m\n",
      "\u001b[34mbackbone.fpn_lateral4.{bias, weight}\u001b[0m\n",
      "\u001b[34mbackbone.fpn_lateral5.{bias, weight}\u001b[0m\n",
      "\u001b[34mbackbone.fpn_output2.{bias, weight}\u001b[0m\n",
      "\u001b[34mbackbone.fpn_output3.{bias, weight}\u001b[0m\n",
      "\u001b[34mbackbone.fpn_output4.{bias, weight}\u001b[0m\n",
      "\u001b[34mbackbone.fpn_output5.{bias, weight}\u001b[0m\n",
      "\u001b[34mproposal_generator.rpn_head.anchor_deltas.{bias, weight}\u001b[0m\n",
      "\u001b[34mproposal_generator.rpn_head.conv.{bias, weight}\u001b[0m\n",
      "\u001b[34mproposal_generator.rpn_head.objectness_logits.{bias, weight}\u001b[0m\n",
      "\u001b[34mroi_heads.box_head.fc1.{bias, weight}\u001b[0m\n",
      "\u001b[34mroi_heads.box_head.fc2.{bias, weight}\u001b[0m\n",
      "\u001b[34mroi_heads.box_predictor.bbox_pred.{bias, weight}\u001b[0m\n",
      "\u001b[34mroi_heads.box_predictor.cls_score.{bias, weight}\u001b[0m\n",
      "\u001b[34mroi_heads.mask_head.deconv.{bias, weight}\u001b[0m\n",
      "\u001b[34mroi_heads.mask_head.mask_fcn1.{bias, weight}\u001b[0m\n",
      "\u001b[34mroi_heads.mask_head.mask_fcn2.{bias, weight}\u001b[0m\n",
      "\u001b[34mroi_heads.mask_head.mask_fcn3.{bias, weight}\u001b[0m\n",
      "\u001b[34mroi_heads.mask_head.mask_fcn4.{bias, weight}\u001b[0m\n",
      "\u001b[34mroi_heads.mask_head.predictor.{bias, weight}\u001b[0m\n",
      "\u001b[34mroi_heads.redshift_fc.0.{bias, weight}\u001b[0m\n",
      "\u001b[34mroi_heads.redshift_fc.2.{bias, weight}\u001b[0m\n",
      "The checkpoint state_dict contains keys that are not used by the model:\n",
      "  \u001b[35mfc1000.{bias, weight}\u001b[0m\n",
      "  \u001b[35mstem.conv1.{bias, weight}\u001b[0m\n"
     ]
    },
    {
     "name": "stdout",
     "output_type": "stream",
     "text": [
      "Model training:\n",
      "\u001b[32m[12/06 21:12:09 d2.engine.train_loop]: \u001b[0mStarting training from iteration 0\n",
      "<detectron2.solver.lr_scheduler.LRMultiplier object at 0x7ffdaab7c310>\n",
      "Iteration:  5  time:  4.260800778865814e-07 dict_keys(['loss_cls', 'loss_box_reg', 'redshift_loss', 'loss_rpn_cls', 'loss_rpn_loc']) [0.6661180257797241, 0.19525235891342163, 0.10094676911830902, 0.6357252597808838, 0.18379457294940948] val loss:  0 lr:  [0.001]\n",
      "Iteration:  10  time:  4.100147634744644e-07 dict_keys(['loss_cls', 'loss_box_reg', 'redshift_loss', 'loss_rpn_cls', 'loss_rpn_loc']) [0.6154966950416565, 0.22101737558841705, 0.1035844087600708, 0.4806888997554779, 0.16354289650917053] val loss:  0 lr:  [0.001]\n",
      "Iteration:  15  time:  7.299240678548813e-07 dict_keys(['loss_cls', 'loss_box_reg', 'redshift_loss', 'loss_rpn_cls', 'loss_rpn_loc']) [0.5481612682342529, 0.25607243180274963, 0.10527437925338745, 0.2947094440460205, 0.20163220167160034] val loss:  0 lr:  [0.001]\n",
      "Iteration:  20  time:  3.988388925790787e-07 dict_keys(['loss_cls', 'loss_box_reg', 'redshift_loss', 'loss_rpn_cls', 'loss_rpn_loc']) [0.5323953628540039, 0.2100413739681244, 0.1057656779885292, 0.21855385601520538, 0.19157637655735016] val loss:  0 lr:  [0.001]\n",
      "saving test_informer\n",
      "Inserting handle into data store.  model_Inform_DeepDISC: inprogress_test_informer.pkl, Inform_DeepDISC\n"
     ]
    },
    {
     "data": {
      "text/plain": [
       "<rail.core.data.ModelHandle at 0x7ffdab3eda30>"
      ]
     },
     "execution_count": 14,
     "metadata": {},
     "output_type": "execute_result"
    }
   ],
   "source": [
    "Inform.inform(training, metadatahandle)"
   ]
  },
  {
   "cell_type": "markdown",
   "id": "1c69b958",
   "metadata": {
    "tags": []
   },
   "source": [
    "### Inference"
   ]
  },
  {
   "cell_type": "code",
   "execution_count": 15,
   "id": "7070dcb2-0de8-42af-af8d-f40c689b7cb1",
   "metadata": {},
   "outputs": [],
   "source": [
    "metadatahandle = DS.add_data(\"metadata\", test_metadata, JsonHandle, path=test_metadatafile)"
   ]
  },
  {
   "cell_type": "code",
   "execution_count": 16,
   "id": "7360caf2-5b3d-4998-be0c-3ca28fb5e035",
   "metadata": {},
   "outputs": [],
   "source": [
    "# Estimator = DeepDiscEstimator.make_stage(name='DeepDiscEstimator',\n",
    "#                                       model=Inform.get_handle('model'), **deep_dict)\n",
    "\n",
    "Estimator = DeepDiscPDFEstimator.make_stage(\n",
    "    name=\"DeepDiscEstimator\",\n",
    "    model=Inform.get_handle(\"model\"),\n",
    "    #hdf5_groupname=\"images\",\n",
    "    **deep_dict,\n",
    ")"
   ]
  },
  {
   "cell_type": "code",
   "execution_count": null,
   "id": "c74bb222-f53c-415c-acab-f8b978a2af5d",
   "metadata": {},
   "outputs": [
    {
     "name": "stdout",
     "output_type": "stream",
     "text": [
      "caching data\n",
      "\u001b[32m[12/06 21:13:50 d2.checkpoint.detection_checkpoint]: \u001b[0m[DetectionCheckpointer] Loading from ./test_informer.pth ...\n",
      "Processing Data\n",
      "Matching objects\n"
     ]
    }
   ],
   "source": [
    "results = Estimator.estimate(testing, metadatahandle)"
   ]
  },
  {
   "cell_type": "code",
   "execution_count": 31,
   "id": "5b402ba2-3779-44e7-8654-113f19731464",
   "metadata": {},
   "outputs": [
    {
     "ename": "NameError",
     "evalue": "name 'results' is not defined",
     "output_type": "error",
     "traceback": [
      "\u001b[0;31m---------------------------------------------------------------------------\u001b[0m",
      "\u001b[0;31mNameError\u001b[0m                                 Traceback (most recent call last)",
      "Cell \u001b[0;32mIn[31], line 1\u001b[0m\n\u001b[0;32m----> 1\u001b[0m res \u001b[38;5;241m=\u001b[39m \u001b[43mresults\u001b[49m\u001b[38;5;241m.\u001b[39mread()\n",
      "\u001b[0;31mNameError\u001b[0m: name 'results' is not defined"
     ]
    }
   ],
   "source": [
    "res = results.read()"
   ]
  },
  {
   "cell_type": "code",
   "execution_count": null,
   "id": "f7417fa3-0c51-4a04-837c-f9e54431eeda",
   "metadata": {},
   "outputs": [],
   "source": []
  }
 ],
 "metadata": {
  "kernelspec": {
   "display_name": "Python [conda env:.conda-ddrailnv]",
   "language": "python",
   "name": "conda-env-.conda-ddrailnv-py"
  },
  "language_info": {
   "codemirror_mode": {
    "name": "ipython",
    "version": 3
   },
   "file_extension": ".py",
   "mimetype": "text/x-python",
   "name": "python",
   "nbconvert_exporter": "python",
   "pygments_lexer": "ipython3",
   "version": "3.9.18"
  }
 },
 "nbformat": 4,
 "nbformat_minor": 5
}
