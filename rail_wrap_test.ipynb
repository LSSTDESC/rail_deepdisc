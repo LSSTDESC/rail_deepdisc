{
 "cells": [
  {
   "cell_type": "code",
   "execution_count": 1,
   "id": "1c2a2dbf",
   "metadata": {},
   "outputs": [],
   "source": [
    "# Training script for LazyConfig models\n",
    "try:\n",
    "    # ignore ShapelyDeprecationWarning from fvcore\n",
    "    import warnings\n",
    "\n",
    "    from shapely.errors import ShapelyDeprecationWarning\n",
    "\n",
    "    warnings.filterwarnings(\"ignore\", category=ShapelyDeprecationWarning)\n",
    "\n",
    "except:\n",
    "    pass\n",
    "warnings.filterwarnings(\"ignore\", category=RuntimeWarning)\n",
    "warnings.filterwarnings(\"ignore\", category=UserWarning)\n",
    "\n",
    "# Some basic setup:\n",
    "# Setup detectron2 logger\n",
    "from detectron2.utils.logger import setup_logger\n",
    "\n",
    "setup_logger()\n",
    "\n",
    "import gc\n",
    "import os\n",
    "import time\n",
    "\n",
    "import detectron2.utils.comm as comm\n",
    "\n",
    "# import some common libraries\n",
    "import numpy as np\n",
    "import torch\n",
    "\n",
    "# import some common detectron2 utilities\n",
    "from detectron2.config import LazyConfig, get_cfg\n",
    "import detectron2.data as data\n",
    "from detectron2.engine import (\n",
    "    launch,\n",
    ")\n",
    "\n",
    "from deepdisc.data_format.augment_image import train_augs\n",
    "from deepdisc.data_format.image_readers import DC2ImageReader\n",
    "from deepdisc.data_format.register_data import register_data_set, register_loaded_data_set\n",
    "from deepdisc.model.loaders import (\n",
    "    RedshiftFlatDictMapper,\n",
    "    return_test_loader,\n",
    "    return_train_loader,\n",
    ")\n",
    "from deepdisc.model.models import RedshiftPointCasROIHeads, RedshiftPointROIHeads, RedshiftPDFROIHeads, return_lazy_model\n",
    "from deepdisc.training.trainers import (\n",
    "    return_evallosshook,\n",
    "    return_lazy_trainer,\n",
    "    return_optimizer,\n",
    "    return_savehook,\n",
    "    return_schedulerhook,\n",
    ")\n",
    "from deepdisc.utils.parse_arguments import make_training_arg_parser\n",
    "\n"
   ]
  },
  {
   "cell_type": "code",
   "execution_count": 2,
   "id": "6167f21e-0bbc-45cb-bc06-aac14f765fa4",
   "metadata": {},
   "outputs": [],
   "source": [
    "#import importlib\n",
    "#importlib.reload(rail.estimation.algos.deepdisc)"
   ]
  },
  {
   "cell_type": "code",
   "execution_count": 3,
   "id": "5244b7ff-1501-47ad-b74e-c575f9758089",
   "metadata": {},
   "outputs": [],
   "source": [
    "#from rail.estimation.algos.deepdisc import DeepDiscInformer\n",
    "import rail\n",
    "from rail.estimation.algos.deepdisc import *\n",
    "from rail.core.data import TableHandle\n",
    "from rail.core.stage import RailStage\n",
    "\n",
    "from rail.deepdisc.configs import *"
   ]
  },
  {
   "cell_type": "code",
   "execution_count": 4,
   "id": "4e82e6de-f6ec-46b5-a6a7-60e79cd79c31",
   "metadata": {},
   "outputs": [],
   "source": [
    "cfgfile = \"/home/shared/hsc/detectron2/configs/COCO-InstanceSegmentation/mask_rcnn_R_50_FPN_1x.py\"\n",
    "dirpath = './tests/deepdisc/test_data/'\n",
    "output_dir = './'\n",
    "output_name = 'test'\n",
    "\n",
    "trainfile = dirpath + \"flattened_data_test.npy\"\n",
    "testfile = dirpath + \"flattened_data_test.npy\"\n",
    "classes = ['object']\n",
    "numclasses = 1"
   ]
  },
  {
   "cell_type": "code",
   "execution_count": 5,
   "id": "4ed14575-d55b-4400-90f9-752f27cc75c6",
   "metadata": {},
   "outputs": [
    {
     "data": {
      "text/plain": [
       "'detectron2://ImageNetPretrained/MSRA/R-50.pkl'"
      ]
     },
     "execution_count": 5,
     "metadata": {},
     "output_type": "execute_result"
    }
   ],
   "source": [
    "cfg = get_lazy_config(cfgfile, 1, 1)\n",
    "cfg.train.init_checkpoint"
   ]
  },
  {
   "cell_type": "code",
   "execution_count": 6,
   "id": "ffd06982-1e98-4b8a-a3a8-b68ac71cd6bc",
   "metadata": {},
   "outputs": [],
   "source": [
    "DS = RailStage.data_store\n",
    "DS.__class__.allow_overwrite = True"
   ]
  },
  {
   "cell_type": "code",
   "execution_count": null,
   "id": "9940c5c2-b692-4e3b-a595-0afec0c21e93",
   "metadata": {},
   "outputs": [],
   "source": []
  },
  {
   "cell_type": "code",
   "execution_count": 7,
   "id": "ef5887b5-f2d2-4047-8d81-af04dfa54bf7",
   "metadata": {},
   "outputs": [],
   "source": [
    "testdata = np.load('./tests/deepdisc/test_data/flattened_data_test.npy')\n",
    "mapper = RedshiftFlatDictMapper().map_data"
   ]
  },
  {
   "cell_type": "code",
   "execution_count": 8,
   "id": "d7e9a2e4-0bae-4b0d-9e62-60fd09795e8a",
   "metadata": {},
   "outputs": [],
   "source": [
    "dataset_dicts={}\n",
    "dds = []\n",
    "for row in testdata:\n",
    "    dds.append(mapper(row))\n",
    "dataset_dicts['test'] = dds"
   ]
  },
  {
   "cell_type": "code",
   "execution_count": 9,
   "id": "01f48f9e-16a3-423d-a550-ed9298b6fafb",
   "metadata": {},
   "outputs": [],
   "source": [
    "training = DS.add_data(\"training\", testdata, TableHandle)\n",
    "testing = DS.add_data(\"testing\", testdata, TableHandle)"
   ]
  },
  {
   "cell_type": "code",
   "execution_count": 10,
   "id": "a57e206a-c5c6-4526-a278-868ef2a6047b",
   "metadata": {},
   "outputs": [],
   "source": [
    "deep_dict = dict(epochs=200,\n",
    "                numclasses=1,\n",
    "                batch_size=1,\n",
    "                output_dir ='./',\n",
    "                cfgfile=\"/home/shared/hsc/detectron2/configs/COCO-InstanceSegmentation/mask_rcnn_R_50_FPN_1x.py\",\n",
    "                output_name ='test_informer')"
   ]
  },
  {
   "cell_type": "code",
   "execution_count": 11,
   "id": "d611ae20-a7c7-4f52-9390-1d27eca138f0",
   "metadata": {},
   "outputs": [],
   "source": [
    "Inform = DeepDiscInformer.make_stage(name='Inform_DeepDISC', model='detectron2://ImageNetPretrained/MSRA/R-50.pkl', **deep_dict)"
   ]
  },
  {
   "cell_type": "code",
   "execution_count": 12,
   "id": "87b6a9d1-697e-4bde-abee-e519253daa6f",
   "metadata": {},
   "outputs": [
    {
     "name": "stdout",
     "output_type": "stream",
     "text": [
      "\u001b[32m[11/13 10:24:06 d2.data.build]: \u001b[0mMaking batched data loader with batch_size=1\n",
      "\u001b[32m[11/13 10:24:06 d2.checkpoint.detection_checkpoint]: \u001b[0m[DetectionCheckpointer] Loading from detectron2://ImageNetPretrained/MSRA/R-50.pkl ...\n",
      "\u001b[32m[11/13 10:24:06 d2.checkpoint.c2_model_loading]: \u001b[0mRenaming Caffe2 weights ......\n",
      "\u001b[5m\u001b[31mWARNING\u001b[0m \u001b[32m[11/13 10:24:06 d2.checkpoint.c2_model_loading]: \u001b[0mShape of stem.conv1.weight in checkpoint is torch.Size([64, 3, 7, 7]), while shape of backbone.bottom_up.stem.conv1.weight in model is torch.Size([64, 6, 7, 7]).\n",
      "\u001b[5m\u001b[31mWARNING\u001b[0m \u001b[32m[11/13 10:24:06 d2.checkpoint.c2_model_loading]: \u001b[0mstem.conv1.weight will not be loaded. Please double check and see if this is desired.\n",
      "\u001b[32m[11/13 10:24:06 d2.checkpoint.c2_model_loading]: \u001b[0mFollowing weights matched with submodule backbone.bottom_up - Total num: 53\n"
     ]
    },
    {
     "name": "stderr",
     "output_type": "stream",
     "text": [
      "Some model parameters or buffers are not found in the checkpoint:\n",
      "\u001b[34mbackbone.bottom_up.stem.conv1.weight\u001b[0m\n",
      "\u001b[34mbackbone.fpn_lateral2.{bias, weight}\u001b[0m\n",
      "\u001b[34mbackbone.fpn_lateral3.{bias, weight}\u001b[0m\n",
      "\u001b[34mbackbone.fpn_lateral4.{bias, weight}\u001b[0m\n",
      "\u001b[34mbackbone.fpn_lateral5.{bias, weight}\u001b[0m\n",
      "\u001b[34mbackbone.fpn_output2.{bias, weight}\u001b[0m\n",
      "\u001b[34mbackbone.fpn_output3.{bias, weight}\u001b[0m\n",
      "\u001b[34mbackbone.fpn_output4.{bias, weight}\u001b[0m\n",
      "\u001b[34mbackbone.fpn_output5.{bias, weight}\u001b[0m\n",
      "\u001b[34mproposal_generator.rpn_head.anchor_deltas.{bias, weight}\u001b[0m\n",
      "\u001b[34mproposal_generator.rpn_head.conv.{bias, weight}\u001b[0m\n",
      "\u001b[34mproposal_generator.rpn_head.objectness_logits.{bias, weight}\u001b[0m\n",
      "\u001b[34mroi_heads.box_head.fc1.{bias, weight}\u001b[0m\n",
      "\u001b[34mroi_heads.box_head.fc2.{bias, weight}\u001b[0m\n",
      "\u001b[34mroi_heads.box_predictor.bbox_pred.{bias, weight}\u001b[0m\n",
      "\u001b[34mroi_heads.box_predictor.cls_score.{bias, weight}\u001b[0m\n",
      "\u001b[34mroi_heads.mask_head.deconv.{bias, weight}\u001b[0m\n",
      "\u001b[34mroi_heads.mask_head.mask_fcn1.{bias, weight}\u001b[0m\n",
      "\u001b[34mroi_heads.mask_head.mask_fcn2.{bias, weight}\u001b[0m\n",
      "\u001b[34mroi_heads.mask_head.mask_fcn3.{bias, weight}\u001b[0m\n",
      "\u001b[34mroi_heads.mask_head.mask_fcn4.{bias, weight}\u001b[0m\n",
      "\u001b[34mroi_heads.mask_head.predictor.{bias, weight}\u001b[0m\n",
      "\u001b[34mroi_heads.redshift_fc.0.{bias, weight}\u001b[0m\n",
      "\u001b[34mroi_heads.redshift_fc.2.{bias, weight}\u001b[0m\n",
      "\u001b[34mroi_heads.redshift_fc.4.{bias, weight}\u001b[0m\n",
      "\u001b[34mroi_heads.redshift_fc.6.{bias, weight}\u001b[0m\n",
      "The checkpoint state_dict contains keys that are not used by the model:\n",
      "  \u001b[35mfc1000.{bias, weight}\u001b[0m\n",
      "  \u001b[35mstem.conv1.{bias, weight}\u001b[0m\n"
     ]
    },
    {
     "name": "stdout",
     "output_type": "stream",
     "text": [
      "Model training:\n",
      "\u001b[32m[11/13 10:24:06 d2.engine.train_loop]: \u001b[0mStarting training from iteration 0\n",
      "<detectron2.solver.lr_scheduler.LRMultiplier object at 0x7ffded4b02b0>\n",
      "Iteration:  5  time:  5.066394805908203e-07 dict_keys(['loss_cls', 'loss_box_reg', 'redshift_loss', 'loss_rpn_cls', 'loss_rpn_loc']) [0.11903350800275803, 0.03577851876616478, 0.09980647185236222, 0.5482555627822876, 0.0015891127986833453] val loss:  0 lr:  [0.001]\n",
      "Iteration:  10  time:  7.152557373046875e-07 dict_keys(['loss_cls', 'loss_box_reg', 'redshift_loss', 'loss_rpn_cls', 'loss_rpn_loc']) [0.060518886893987656, 0.0006565641378983855, 0.2705414659215257, 0.28805726766586304, 0.0015572018455713987] val loss:  1.1954501225081935 lr:  [0.001]\n",
      "Iteration:  15  time:  7.916241884231567e-07 dict_keys(['loss_cls', 'loss_box_reg', 'redshift_loss', 'loss_rpn_cls', 'loss_rpn_loc']) [0.14890310168266296, 0.014716686680912971, 0.05737171447435511, 0.06985528767108917, 0.0015809936448931694] val loss:  0.335162097174467 lr:  [0.001]\n",
      "Iteration:  20  time:  4.628673195838928e-07 dict_keys(['loss_cls', 'loss_box_reg', 'redshift_loss', 'loss_rpn_cls', 'loss_rpn_loc']) [0.0907844826579094, 0.027517501264810562, 1.7622067402362953, 0.09928306937217712, 0.0010653943754732609] val loss:  0.3681408690845357 lr:  [0.001]\n",
      "Iteration:  25  time:  7.385388016700745e-07 dict_keys(['loss_cls', 'loss_box_reg', 'redshift_loss', 'loss_rpn_cls', 'loss_rpn_loc']) [0.06662245839834213, 0.030214909464120865, 0.40322778678047755, 0.0743742287158966, 0.000952543574385345] val loss:  0.2141252651005658 lr:  [0.001]\n",
      "Iteration:  30  time:  4.4330954551696777e-07 dict_keys(['loss_cls', 'loss_box_reg', 'redshift_loss', 'loss_rpn_cls', 'loss_rpn_loc']) [0.0675119087100029, 0.026775943115353584, 0.15613195041690542, 0.05802266299724579, 0.0008339218329638243] val loss:  0.21948189674487978 lr:  [0.001]\n",
      "Iteration:  35  time:  7.674098014831543e-07 dict_keys(['loss_cls', 'loss_box_reg', 'redshift_loss', 'loss_rpn_cls', 'loss_rpn_loc']) [0.06741142272949219, 0.02063215710222721, 0.08078591369574956, 0.030949465930461884, 0.0010522850789129734] val loss:  0.18448510115603925 lr:  [0.001]\n",
      "Iteration:  40  time:  6.426125764846802e-07 dict_keys(['loss_cls', 'loss_box_reg', 'redshift_loss', 'loss_rpn_cls', 'loss_rpn_loc']) [0.07524693757295609, 0.04249381646513939, 0.15333866915608804, 0.017404969781637192, 0.0013043687213212252] val loss:  0.16485943220767513 lr:  [0.001]\n",
      "Iteration:  45  time:  4.498288035392761e-07 dict_keys(['loss_cls', 'loss_box_reg', 'redshift_loss', 'loss_rpn_cls', 'loss_rpn_loc']) [0.06455137580633163, 0.037940144538879395, 0.1153718971487254, 0.015637118369340897, 0.001324302051216364] val loss:  0.1141346508567127 lr:  [0.001]\n",
      "Iteration:  50  time:  3.3620744943618774e-07 dict_keys(['loss_cls', 'loss_box_reg', 'redshift_loss', 'loss_rpn_cls', 'loss_rpn_loc']) [0.04237225651741028, 0.023481423035264015, 1.0465761116239207, 0.01472073420882225, 0.0009287199936807156] val loss:  0.10006697823277533 lr:  [0.001]\n",
      "Iteration:  55  time:  5.448237061500549e-07 dict_keys(['loss_cls', 'loss_box_reg', 'redshift_loss', 'loss_rpn_cls', 'loss_rpn_loc']) [0.049406226724386215, 0.024877356365323067, 0.36437480336179207, 0.01516980491578579, 0.00046441121958196163] val loss:  0.138637959292116 lr:  [0.001]\n",
      "Iteration:  60  time:  6.360933184623718e-07 dict_keys(['loss_cls', 'loss_box_reg', 'redshift_loss', 'loss_rpn_cls', 'loss_rpn_loc']) [0.03939864784479141, 0.0034274738281965256, 0.019186164335054292, 0.031713228672742844, 0.000633259245660156] val loss:  0.18126639519874133 lr:  [0.001]\n",
      "Iteration:  65  time:  4.759058356285095e-07 dict_keys(['loss_cls', 'loss_box_reg', 'redshift_loss', 'loss_rpn_cls', 'loss_rpn_loc']) [0.037946563214063644, 0.00533969234675169, 3.218757593955253e-05, 0.03388921916484833, 0.0004990689922124147] val loss:  0.30519350958860736 lr:  [0.001]\n",
      "Iteration:  70  time:  4.461035132408142e-07 dict_keys(['loss_cls', 'loss_box_reg', 'redshift_loss', 'loss_rpn_cls', 'loss_rpn_loc']) [0.03639759123325348, 0.0043357242830097675, 0.9721732530847716, 0.032972052693367004, 0.00038969883462414145] val loss:  0.173964551844131 lr:  [0.001]\n",
      "Iteration:  75  time:  3.9301812648773193e-07 dict_keys(['loss_cls', 'loss_box_reg', 'redshift_loss', 'loss_rpn_cls', 'loss_rpn_loc']) [0.03781392425298691, 0.0015672168228775263, 0.2453650720173599, 0.0308949314057827, 0.0004115239134989679] val loss:  0.07232127278050617 lr:  [0.001]\n",
      "Iteration:  80  time:  4.116445779800415e-07 dict_keys(['loss_cls', 'loss_box_reg', 'redshift_loss', 'loss_rpn_cls', 'loss_rpn_loc']) [0.06211630254983902, 0.004942487925291061, 0.020215934997215062, 0.02578139118850231, 0.00020929277525283396] val loss:  0.10863155986526978 lr:  [0.001]\n",
      "Iteration:  85  time:  4.852190613746643e-07 dict_keys(['loss_cls', 'loss_box_reg', 'redshift_loss', 'loss_rpn_cls', 'loss_rpn_loc']) [0.03519817441701889, 0.0012890375219285488, 0.4887639586852087, 0.023818399757146835, 0.0002067861205432564] val loss:  0.093006890101456 lr:  [0.001]\n",
      "Iteration:  90  time:  6.249174475669861e-07 dict_keys(['loss_cls', 'loss_box_reg', 'redshift_loss', 'loss_rpn_cls', 'loss_rpn_loc']) [0.03575344383716583, 0.0010899801272898912, 0.1267763301927752, 0.021213507279753685, 0.0002301594358868897] val loss:  0.14292871767342352 lr:  [0.001]\n",
      "Iteration:  95  time:  5.681067705154419e-07 dict_keys(['loss_cls', 'loss_box_reg', 'redshift_loss', 'loss_rpn_cls', 'loss_rpn_loc']) [0.06198260933160782, 0.005210282746702433, 0.356025338984398, 0.01835419237613678, 0.00018758773512672633] val loss:  0.06311506855665658 lr:  [0.001]\n",
      "Iteration:  100  time:  6.640329957008362e-07 dict_keys(['loss_cls', 'loss_box_reg', 'redshift_loss', 'loss_rpn_cls', 'loss_rpn_loc']) [0.04956818372011185, 0.004988460335880518, 5.1973241478513345e-05, 0.018740687519311905, 0.0001767121721059084] val loss:  0.06921236853786594 lr:  [0.001]\n",
      "Iteration:  105  time:  6.742775440216064e-07 dict_keys(['loss_cls', 'loss_box_reg', 'redshift_loss', 'loss_rpn_cls', 'loss_rpn_loc']) [0.042393527925014496, 0.00442632706835866, 0.01636758795057206, 0.018839966505765915, 0.0001747352653183043] val loss:  0.07508910322310622 lr:  [0.001]\n",
      "Iteration:  110  time:  3.986060619354248e-07 dict_keys(['loss_cls', 'loss_box_reg', 'redshift_loss', 'loss_rpn_cls', 'loss_rpn_loc']) [0.037262268364429474, 0.0050528389401733875, 0.8982079315993583, 0.014501632191240788, 0.00016653919010423124] val loss:  0.06806780766208881 lr:  [0.001]\n",
      "Iteration:  115  time:  3.864988684654236e-07 dict_keys(['loss_cls', 'loss_box_reg', 'redshift_loss', 'loss_rpn_cls', 'loss_rpn_loc']) [0.033513836562633514, 0.0053895385935902596, 0.16590020837289926, 0.014495306648314, 0.0001317467394983396] val loss:  0.0840170223296794 lr:  [0.001]\n",
      "Iteration:  120  time:  6.07222318649292e-07 dict_keys(['loss_cls', 'loss_box_reg', 'redshift_loss', 'loss_rpn_cls', 'loss_rpn_loc']) [0.022370075806975365, 0.003259844146668911, 0.13323484134241506, 0.01389435213059187, 9.79401811491698e-05] val loss:  0.21009110775085899 lr:  [0.001]\n",
      "Iteration:  125  time:  4.3492764234542847e-07 dict_keys(['loss_cls', 'loss_box_reg', 'redshift_loss', 'loss_rpn_cls', 'loss_rpn_loc']) [0.029324427247047424, 0.003493555588647723, 0.03413837553851185, 0.013042178004980087, 0.00015919866564217955] val loss:  0.09924376989370745 lr:  [0.001]\n",
      "Iteration:  130  time:  4.7404319047927856e-07 dict_keys(['loss_cls', 'loss_box_reg', 'redshift_loss', 'loss_rpn_cls', 'loss_rpn_loc']) [0.04398758336901665, 0.0034402525052428246, 0.03742528404673986, 0.014057712629437447, 0.00010231052146991715] val loss:  0.08289310913300191 lr:  [0.001]\n",
      "Iteration:  135  time:  4.172325134277344e-07 dict_keys(['loss_cls', 'loss_box_reg', 'redshift_loss', 'loss_rpn_cls', 'loss_rpn_loc']) [0.03791222721338272, 0.0051532466895878315, 0.07837453732645147, 0.013589481823146343, 0.00013819623563904315] val loss:  0.1092519862389621 lr:  [0.001]\n",
      "Iteration:  140  time:  4.544854164123535e-07 dict_keys(['loss_cls', 'loss_box_reg', 'redshift_loss', 'loss_rpn_cls', 'loss_rpn_loc']) [0.024503318592905998, 0.003336191177368164, 0.20269634420003146, 0.009642263874411583, 9.282409155275673e-05] val loss:  0.05305525717263202 lr:  [0.001]\n",
      "Iteration:  145  time:  6.221234798431396e-07 dict_keys(['loss_cls', 'loss_box_reg', 'redshift_loss', 'loss_rpn_cls', 'loss_rpn_loc']) [0.02584689110517502, 0.0033383555710315704, 0.1377829747767209, 0.009095661342144012, 7.620063843205571e-05] val loss:  0.05637190799881337 lr:  [0.001]\n",
      "Iteration:  150  time:  5.522742867469788e-07 dict_keys(['loss_cls', 'loss_box_reg', 'redshift_loss', 'loss_rpn_cls', 'loss_rpn_loc']) [0.01546517200767994, 0.0037485635839402676, 0.09879725500971032, 0.008324774913489819, 7.29402236174792e-05] val loss:  0.039716156876167176 lr:  [0.001]\n",
      "Iteration:  155  time:  4.759058356285095e-07 dict_keys(['loss_cls', 'loss_box_reg', 'redshift_loss', 'loss_rpn_cls', 'loss_rpn_loc']) [0.017859982326626778, 0.005731870420277119, 0.0006104979031969683, 0.008192845620214939, 8.490023174090311e-05] val loss:  0.03219511490564109 lr:  [0.001]\n",
      "Iteration:  160  time:  6.742775440216064e-07 dict_keys(['loss_cls', 'loss_box_reg', 'redshift_loss', 'loss_rpn_cls', 'loss_rpn_loc']) [0.02171354927122593, 0.0038803042843937874, 0.8683642810314746, 0.006330722942948341, 3.159491461701691e-05] val loss:  0.03343989926053898 lr:  [0.001]\n",
      "Iteration:  165  time:  9.117648005485535e-07 dict_keys(['loss_cls', 'loss_box_reg', 'redshift_loss', 'loss_rpn_cls', 'loss_rpn_loc']) [0.016038667410612106, 0.0029153828509151936, 0.9575337118056483, 0.007954047992825508, 4.888957482762635e-05] val loss:  0.024662065188561004 lr:  [0.001]\n",
      "Iteration:  170  time:  6.370246410369873e-07 dict_keys(['loss_cls', 'loss_box_reg', 'redshift_loss', 'loss_rpn_cls', 'loss_rpn_loc']) [0.009027148596942425, 0.002585549373179674, 0.05539397201606746, 0.007208174094557762, 6.453884998336434e-05] val loss:  0.03208486578374709 lr:  [0.001]\n",
      "Iteration:  175  time:  4.470348358154297e-07 dict_keys(['loss_cls', 'loss_box_reg', 'redshift_loss', 'loss_rpn_cls', 'loss_rpn_loc']) [0.005358207505196333, 0.005894967820495367, 0.48629012275121336, 0.005735456477850676, 0.00014521459524985403] val loss:  0.08408913749407343 lr:  [0.001]\n",
      "Iteration:  180  time:  3.939494490623474e-07 dict_keys(['loss_cls', 'loss_box_reg', 'redshift_loss', 'loss_rpn_cls', 'loss_rpn_loc']) [0.023180831223726273, 0.012141452170908451, 0.42893971606866255, 0.008266412653028965, 0.0004866348172072321] val loss:  0.035786282721336236 lr:  [0.001]\n",
      "Iteration:  185  time:  8.689239621162415e-07 dict_keys(['loss_cls', 'loss_box_reg', 'redshift_loss', 'loss_rpn_cls', 'loss_rpn_loc']) [0.024333467707037926, 0.008868152275681496, 0.001874577596454491, 0.011696183122694492, 0.00034005451016128063] val loss:  0.14197550194676847 lr:  [0.001]\n",
      "Iteration:  190  time:  4.591420292854309e-07 dict_keys(['loss_cls', 'loss_box_reg', 'redshift_loss', 'loss_rpn_cls', 'loss_rpn_loc']) [0.014917188324034214, 0.003307629842311144, 9.434589144782518e-05, 0.00996257085353136, 0.0002659629681147635] val loss:  0.045821415977697975 lr:  [0.001]\n",
      "Iteration:  195  time:  7.82310962677002e-07 dict_keys(['loss_cls', 'loss_box_reg', 'redshift_loss', 'loss_rpn_cls', 'loss_rpn_loc']) [0.016184572130441666, 0.0067298524081707, 0.0627054992662221, 0.011092456057667732, 0.0002728051331359893] val loss:  0.10287778575340958 lr:  [0.001]\n",
      "Iteration:  200  time:  6.062909960746765e-07 dict_keys(['loss_cls', 'loss_box_reg', 'redshift_loss', 'loss_rpn_cls', 'loss_rpn_loc']) [0.012826461344957352, 0.005436180625110865, 0.11014086413296476, 0.00947156548500061, 0.00020339913317002356] val loss:  0.03991031392823145 lr:  [0.001]\n",
      "saving test_informer\n",
      "Inserting handle into data store.  model_Inform_DeepDISC: detectron2:/ImageNetPretrained/MSRA/inprogress_R-50.pkl, Inform_DeepDISC\n"
     ]
    },
    {
     "data": {
      "text/plain": [
       "<rail.core.data.ModelHandle at 0x7ffded4d5ca0>"
      ]
     },
     "execution_count": 12,
     "metadata": {},
     "output_type": "execute_result"
    }
   ],
   "source": [
    "Inform.inform(training)"
   ]
  },
  {
   "cell_type": "markdown",
   "id": "1c69b958",
   "metadata": {
    "tags": []
   },
   "source": [
    "### Inference"
   ]
  },
  {
   "cell_type": "code",
   "execution_count": 13,
   "id": "7360caf2-5b3d-4998-be0c-3ca28fb5e035",
   "metadata": {},
   "outputs": [],
   "source": [
    "Estimator = DeepDiscEstimator.make_stage(name='DeepDiscEstimator',\n",
    "                                       model=Inform.get_handle('model'), **deep_dict)\n",
    "\n"
   ]
  },
  {
   "cell_type": "code",
   "execution_count": 14,
   "id": "c74bb222-f53c-415c-acab-f8b978a2af5d",
   "metadata": {},
   "outputs": [
    {
     "name": "stdout",
     "output_type": "stream",
     "text": [
      "\u001b[32m[11/13 10:26:14 d2.checkpoint.detection_checkpoint]: \u001b[0m[DetectionCheckpointer] Loading from ./test_informer.pth ...\n",
      "Processing Data\n",
      "Matching objects\n",
      "Inserting handle into data store.  output_DeepDiscEstimator: inprogress_output_DeepDiscEstimator, DeepDiscEstimator\n"
     ]
    }
   ],
   "source": [
    "\n",
    "results = Estimator.estimate(testing)\n",
    "\n"
   ]
  },
  {
   "cell_type": "code",
   "execution_count": 16,
   "id": "5b402ba2-3779-44e7-8654-113f19731464",
   "metadata": {},
   "outputs": [
    {
     "data": {
      "text/plain": [
       "array([[0.7065985 ],\n",
       "       [0.7069705 ],\n",
       "       [0.7081492 ],\n",
       "       [0.70758307],\n",
       "       [0.67893815],\n",
       "       [0.7039544 ],\n",
       "       [0.7056419 ],\n",
       "       [0.70814717],\n",
       "       [0.69938725],\n",
       "       [0.6995264 ]], dtype=float32)"
      ]
     },
     "execution_count": 16,
     "metadata": {},
     "output_type": "execute_result"
    }
   ],
   "source": [
    "results.read()"
   ]
  },
  {
   "cell_type": "code",
   "execution_count": null,
   "id": "42326512-837e-4ac6-87c6-2d59c90312db",
   "metadata": {},
   "outputs": [],
   "source": []
  },
  {
   "cell_type": "code",
   "execution_count": null,
   "id": "f7417fa3-0c51-4a04-837c-f9e54431eeda",
   "metadata": {},
   "outputs": [],
   "source": []
  }
 ],
 "metadata": {
  "kernelspec": {
   "display_name": "Python [conda env:.conda-ddrailnv]",
   "language": "python",
   "name": "conda-env-.conda-ddrailnv-py"
  },
  "language_info": {
   "codemirror_mode": {
    "name": "ipython",
    "version": 3
   },
   "file_extension": ".py",
   "mimetype": "text/x-python",
   "name": "python",
   "nbconvert_exporter": "python",
   "pygments_lexer": "ipython3",
   "version": "3.9.18"
  }
 },
 "nbformat": 4,
 "nbformat_minor": 5
}
