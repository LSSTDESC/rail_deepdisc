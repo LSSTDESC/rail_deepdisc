{
 "cells": [
  {
   "cell_type": "code",
   "execution_count": 1,
   "id": "1c2a2dbf",
   "metadata": {},
   "outputs": [],
   "source": [
    "# Training script for LazyConfig models\n",
    "try:\n",
    "    # ignore ShapelyDeprecationWarning from fvcore\n",
    "    import warnings\n",
    "\n",
    "    from shapely.errors import ShapelyDeprecationWarning\n",
    "\n",
    "    warnings.filterwarnings(\"ignore\", category=ShapelyDeprecationWarning)\n",
    "\n",
    "except:\n",
    "    pass\n",
    "warnings.filterwarnings(\"ignore\", category=RuntimeWarning)\n",
    "warnings.filterwarnings(\"ignore\", category=UserWarning)\n",
    "\n",
    "# Some basic setup:\n",
    "# Setup detectron2 logger\n",
    "from detectron2.utils.logger import setup_logger\n",
    "\n",
    "setup_logger()\n",
    "\n",
    "import gc\n",
    "import os\n",
    "import time\n",
    "\n",
    "import detectron2.utils.comm as comm\n",
    "\n",
    "# import some common libraries\n",
    "import numpy as np\n",
    "import torch\n",
    "\n",
    "# import some common detectron2 utilities\n",
    "from detectron2.config import LazyConfig, get_cfg\n",
    "import detectron2.data as data\n",
    "from detectron2.engine import (\n",
    "    launch,\n",
    ")\n",
    "\n",
    "from deepdisc.data_format.augment_image import train_augs\n",
    "from deepdisc.data_format.image_readers import DC2ImageReader\n",
    "from deepdisc.data_format.register_data import register_data_set, register_loaded_data_set\n",
    "from deepdisc.model.loaders import (\n",
    "    RedshiftFlatDictMapper,\n",
    "    return_test_loader,\n",
    "    return_train_loader,\n",
    ")\n",
    "from deepdisc.model.models import RedshiftPointCasROIHeads, RedshiftPointROIHeads, RedshiftPDFROIHeads, return_lazy_model\n",
    "from deepdisc.training.trainers import (\n",
    "    return_evallosshook,\n",
    "    return_lazy_trainer,\n",
    "    return_optimizer,\n",
    "    return_savehook,\n",
    "    return_schedulerhook,\n",
    ")\n",
    "from deepdisc.utils.parse_arguments import make_training_arg_parser\n",
    "\n"
   ]
  },
  {
   "cell_type": "code",
   "execution_count": 2,
   "id": "6167f21e-0bbc-45cb-bc06-aac14f765fa4",
   "metadata": {},
   "outputs": [],
   "source": [
    "#import importlib\n",
    "#importlib.reload(rail.estimation.algos.deepdisc)"
   ]
  },
  {
   "cell_type": "code",
   "execution_count": 3,
   "id": "5244b7ff-1501-47ad-b74e-c575f9758089",
   "metadata": {},
   "outputs": [
    {
     "ename": "ImportError",
     "evalue": "/home/g4merz/detectron2/detectron2/_C.cpython-39-powerpc64le-linux-gnu.so: undefined symbol: _ZNK3c1010TensorImpl36is_contiguous_nondefault_policy_implENS_12MemoryFormatE",
     "output_type": "error",
     "traceback": [
      "\u001b[0;31m---------------------------------------------------------------------------\u001b[0m",
      "\u001b[0;31mImportError\u001b[0m                               Traceback (most recent call last)",
      "Cell \u001b[0;32mIn[3], line 3\u001b[0m\n\u001b[1;32m      1\u001b[0m \u001b[38;5;66;03m#from rail.estimation.algos.deepdisc import DeepDiscInformer\u001b[39;00m\n\u001b[1;32m      2\u001b[0m \u001b[38;5;28;01mimport\u001b[39;00m \u001b[38;5;21;01mrail\u001b[39;00m\n\u001b[0;32m----> 3\u001b[0m \u001b[38;5;28;01mfrom\u001b[39;00m \u001b[38;5;21;01mrail\u001b[39;00m\u001b[38;5;21;01m.\u001b[39;00m\u001b[38;5;21;01mestimation\u001b[39;00m\u001b[38;5;21;01m.\u001b[39;00m\u001b[38;5;21;01malgos\u001b[39;00m\u001b[38;5;21;01m.\u001b[39;00m\u001b[38;5;21;01mdeepdisc\u001b[39;00m \u001b[38;5;28;01mimport\u001b[39;00m \u001b[38;5;241m*\u001b[39m\n\u001b[1;32m      4\u001b[0m \u001b[38;5;28;01mfrom\u001b[39;00m \u001b[38;5;21;01mrail\u001b[39;00m\u001b[38;5;21;01m.\u001b[39;00m\u001b[38;5;21;01mcore\u001b[39;00m\u001b[38;5;21;01m.\u001b[39;00m\u001b[38;5;21;01mdata\u001b[39;00m \u001b[38;5;28;01mimport\u001b[39;00m TableHandle\n\u001b[1;32m      5\u001b[0m \u001b[38;5;28;01mfrom\u001b[39;00m \u001b[38;5;21;01mrail\u001b[39;00m\u001b[38;5;21;01m.\u001b[39;00m\u001b[38;5;21;01mcore\u001b[39;00m\u001b[38;5;21;01m.\u001b[39;00m\u001b[38;5;21;01mstage\u001b[39;00m \u001b[38;5;28;01mimport\u001b[39;00m RailStage\n",
      "File \u001b[0;32m~/rail_deepdisc/src/rail/estimation/algos/deepdisc.py:25\u001b[0m\n\u001b[1;32m     17\u001b[0m \u001b[38;5;28;01mfrom\u001b[39;00m \u001b[38;5;21;01mdeepdisc\u001b[39;00m\u001b[38;5;21;01m.\u001b[39;00m\u001b[38;5;21;01mtraining\u001b[39;00m\u001b[38;5;21;01m.\u001b[39;00m\u001b[38;5;21;01mtrainers\u001b[39;00m \u001b[38;5;28;01mimport\u001b[39;00m (\n\u001b[1;32m     18\u001b[0m     return_evallosshook,\n\u001b[1;32m     19\u001b[0m     return_lazy_trainer,\n\u001b[0;32m   (...)\u001b[0m\n\u001b[1;32m     22\u001b[0m     return_schedulerhook,\n\u001b[1;32m     23\u001b[0m )\n\u001b[1;32m     24\u001b[0m \u001b[38;5;28;01mfrom\u001b[39;00m \u001b[38;5;21;01mrail\u001b[39;00m\u001b[38;5;21;01m.\u001b[39;00m\u001b[38;5;21;01mdeepdisc\u001b[39;00m\u001b[38;5;21;01m.\u001b[39;00m\u001b[38;5;21;01mconfigs\u001b[39;00m \u001b[38;5;28;01mimport\u001b[39;00m \u001b[38;5;241m*\u001b[39m\n\u001b[0;32m---> 25\u001b[0m \u001b[38;5;28;01mfrom\u001b[39;00m \u001b[38;5;21;01mdeepdisc\u001b[39;00m\u001b[38;5;21;01m.\u001b[39;00m\u001b[38;5;21;01minference\u001b[39;00m\u001b[38;5;21;01m.\u001b[39;00m\u001b[38;5;21;01mmatch_objects\u001b[39;00m \u001b[38;5;28;01mimport\u001b[39;00m get_matched_object_classes_new, get_matched_z_pdfs_new, get_matched_z_points_new\n\u001b[1;32m     26\u001b[0m \u001b[38;5;28;01mfrom\u001b[39;00m \u001b[38;5;21;01mdeepdisc\u001b[39;00m\u001b[38;5;21;01m.\u001b[39;00m\u001b[38;5;21;01minference\u001b[39;00m\u001b[38;5;21;01m.\u001b[39;00m\u001b[38;5;21;01mpredictors\u001b[39;00m \u001b[38;5;28;01mimport\u001b[39;00m return_predictor_transformer\n\u001b[1;32m     27\u001b[0m \u001b[38;5;28;01mimport\u001b[39;00m \u001b[38;5;21;01mqp\u001b[39;00m\n",
      "File \u001b[0;32m~/deepdisc/src/deepdisc/inference/match_objects.py:6\u001b[0m\n\u001b[1;32m      3\u001b[0m \u001b[38;5;28;01mfrom\u001b[39;00m \u001b[38;5;21;01mdetectron2\u001b[39;00m \u001b[38;5;28;01mimport\u001b[39;00m structures\n\u001b[1;32m      4\u001b[0m \u001b[38;5;28;01mfrom\u001b[39;00m \u001b[38;5;21;01mdetectron2\u001b[39;00m\u001b[38;5;21;01m.\u001b[39;00m\u001b[38;5;21;01mstructures\u001b[39;00m \u001b[38;5;28;01mimport\u001b[39;00m BoxMode\n\u001b[0;32m----> 6\u001b[0m \u001b[38;5;28;01mimport\u001b[39;00m \u001b[38;5;21;01mdeepdisc\u001b[39;00m\u001b[38;5;21;01m.\u001b[39;00m\u001b[38;5;21;01mastrodet\u001b[39;00m\u001b[38;5;21;01m.\u001b[39;00m\u001b[38;5;21;01mastrodet\u001b[39;00m \u001b[38;5;28;01mas\u001b[39;00m \u001b[38;5;21;01mtoolkit\u001b[39;00m\n\u001b[1;32m      7\u001b[0m \u001b[38;5;28;01mfrom\u001b[39;00m \u001b[38;5;21;01mdeepdisc\u001b[39;00m\u001b[38;5;21;01m.\u001b[39;00m\u001b[38;5;21;01minference\u001b[39;00m\u001b[38;5;21;01m.\u001b[39;00m\u001b[38;5;21;01mpredictors\u001b[39;00m \u001b[38;5;28;01mimport\u001b[39;00m get_predictions, get_predictions_new\n\u001b[1;32m     10\u001b[0m \u001b[38;5;28;01mdef\u001b[39;00m \u001b[38;5;21mget_matched_object_inds\u001b[39m(dataset_dict, outputs):\n",
      "File \u001b[0;32m~/deepdisc/src/deepdisc/astrodet/astrodet.py:75\u001b[0m\n\u001b[1;32m     73\u001b[0m \u001b[38;5;66;03m# yufeng 6/11 import cocoevaluator\u001b[39;00m\n\u001b[1;32m     74\u001b[0m \u001b[38;5;28;01mfrom\u001b[39;00m \u001b[38;5;21;01mdetectron2\u001b[39;00m\u001b[38;5;21;01m.\u001b[39;00m\u001b[38;5;21;01mevaluation\u001b[39;00m\u001b[38;5;21;01m.\u001b[39;00m\u001b[38;5;21;01mcoco_evaluation\u001b[39;00m \u001b[38;5;28;01mimport\u001b[39;00m COCOEvaluator\n\u001b[0;32m---> 75\u001b[0m \u001b[38;5;28;01mfrom\u001b[39;00m \u001b[38;5;21;01mdetectron2\u001b[39;00m\u001b[38;5;21;01m.\u001b[39;00m\u001b[38;5;21;01mevaluation\u001b[39;00m\u001b[38;5;21;01m.\u001b[39;00m\u001b[38;5;21;01mfast_eval_api\u001b[39;00m \u001b[38;5;28;01mimport\u001b[39;00m COCOeval_opt\n\u001b[1;32m     76\u001b[0m \u001b[38;5;28;01mfrom\u001b[39;00m \u001b[38;5;21;01mdetectron2\u001b[39;00m\u001b[38;5;21;01m.\u001b[39;00m\u001b[38;5;21;01mmodeling\u001b[39;00m \u001b[38;5;28;01mimport\u001b[39;00m build_model\n\u001b[1;32m     77\u001b[0m \u001b[38;5;28;01mfrom\u001b[39;00m \u001b[38;5;21;01mdetectron2\u001b[39;00m\u001b[38;5;21;01m.\u001b[39;00m\u001b[38;5;21;01msolver\u001b[39;00m \u001b[38;5;28;01mimport\u001b[39;00m build_lr_scheduler, build_optimizer\n",
      "File \u001b[0;32m~/detectron2/detectron2/evaluation/fast_eval_api.py:8\u001b[0m\n\u001b[1;32m      5\u001b[0m \u001b[38;5;28;01mimport\u001b[39;00m \u001b[38;5;21;01mtime\u001b[39;00m\n\u001b[1;32m      6\u001b[0m \u001b[38;5;28;01mfrom\u001b[39;00m \u001b[38;5;21;01mpycocotools\u001b[39;00m\u001b[38;5;21;01m.\u001b[39;00m\u001b[38;5;21;01mcocoeval\u001b[39;00m \u001b[38;5;28;01mimport\u001b[39;00m COCOeval\n\u001b[0;32m----> 8\u001b[0m \u001b[38;5;28;01mfrom\u001b[39;00m \u001b[38;5;21;01mdetectron2\u001b[39;00m \u001b[38;5;28;01mimport\u001b[39;00m _C\n\u001b[1;32m     10\u001b[0m logger \u001b[38;5;241m=\u001b[39m logging\u001b[38;5;241m.\u001b[39mgetLogger(\u001b[38;5;18m__name__\u001b[39m)\n\u001b[1;32m     13\u001b[0m \u001b[38;5;28;01mclass\u001b[39;00m \u001b[38;5;21;01mCOCOeval_opt\u001b[39;00m(COCOeval):\n",
      "\u001b[0;31mImportError\u001b[0m: /home/g4merz/detectron2/detectron2/_C.cpython-39-powerpc64le-linux-gnu.so: undefined symbol: _ZNK3c1010TensorImpl36is_contiguous_nondefault_policy_implENS_12MemoryFormatE"
     ]
    }
   ],
   "source": [
    "#from rail.estimation.algos.deepdisc import DeepDiscInformer\n",
    "import rail\n",
    "from rail.estimation.algos.deepdisc import *\n",
    "from rail.core.data import TableHandle\n",
    "from rail.core.stage import RailStage\n",
    "\n",
    "from rail.deepdisc.configs import *"
   ]
  },
  {
   "cell_type": "code",
   "execution_count": 18,
   "id": "4e82e6de-f6ec-46b5-a6a7-60e79cd79c31",
   "metadata": {},
   "outputs": [],
   "source": [
    "cfgfile = \"/home/shared/hsc/detectron2/configs/COCO-InstanceSegmentation/mask_rcnn_R_50_FPN_1x.py\"\n",
    "dirpath = './tests/deepdisc/test_data/dc2/'\n",
    "output_dir = './'\n",
    "output_name = 'test'\n",
    "\n",
    "trainfile = dirpath + \"flattened_data_test.npy\"\n",
    "testfile = dirpath + \"flattened_data_test.npy\"\n",
    "classes = ['object']\n",
    "numclasses = 1"
   ]
  },
  {
   "cell_type": "code",
   "execution_count": 19,
   "id": "4ed14575-d55b-4400-90f9-752f27cc75c6",
   "metadata": {},
   "outputs": [
    {
     "data": {
      "text/plain": [
       "'detectron2://ImageNetPretrained/MSRA/R-50.pkl'"
      ]
     },
     "execution_count": 19,
     "metadata": {},
     "output_type": "execute_result"
    }
   ],
   "source": [
    "cfg = get_lazy_config(cfgfile, 1, 1)\n",
    "cfg.train.init_checkpoint"
   ]
  },
  {
   "cell_type": "code",
   "execution_count": 20,
   "id": "ffd06982-1e98-4b8a-a3a8-b68ac71cd6bc",
   "metadata": {},
   "outputs": [],
   "source": [
    "DS = RailStage.data_store\n",
    "DS.__class__.allow_overwrite = True"
   ]
  },
  {
   "cell_type": "code",
   "execution_count": null,
   "id": "9940c5c2-b692-4e3b-a595-0afec0c21e93",
   "metadata": {},
   "outputs": [],
   "source": []
  },
  {
   "cell_type": "code",
   "execution_count": 21,
   "id": "ef5887b5-f2d2-4047-8d81-af04dfa54bf7",
   "metadata": {},
   "outputs": [],
   "source": [
    "testdata = np.load('./tests/deepdisc/test_data/flattened_data_test.npy')\n",
    "mapper = RedshiftFlatDictMapper().map_data"
   ]
  },
  {
   "cell_type": "code",
   "execution_count": 22,
   "id": "d7e9a2e4-0bae-4b0d-9e62-60fd09795e8a",
   "metadata": {},
   "outputs": [],
   "source": [
    "dataset_dicts={}\n",
    "dds = []\n",
    "for row in testdata:\n",
    "    dds.append(mapper(row))\n",
    "dataset_dicts['test'] = dds"
   ]
  },
  {
   "cell_type": "code",
   "execution_count": 23,
   "id": "01f48f9e-16a3-423d-a550-ed9298b6fafb",
   "metadata": {},
   "outputs": [],
   "source": [
    "training = DS.add_data(\"training\", testdata, TableHandle)\n",
    "testing = DS.add_data(\"testing\", testdata, TableHandle)"
   ]
  },
  {
   "cell_type": "code",
   "execution_count": 24,
   "id": "a57e206a-c5c6-4526-a278-868ef2a6047b",
   "metadata": {},
   "outputs": [],
   "source": [
    "deep_dict = dict(epochs=200,\n",
    "                numclasses=1,\n",
    "                batch_size=1,\n",
    "                output_dir ='./',\n",
    "                cfgfile=\"/home/shared/hsc/detectron2/configs/COCO-InstanceSegmentation/mask_rcnn_R_50_FPN_1x.py\",\n",
    "                output_name ='test_informer')"
   ]
  },
  {
   "cell_type": "code",
   "execution_count": 25,
   "id": "d611ae20-a7c7-4f52-9390-1d27eca138f0",
   "metadata": {},
   "outputs": [],
   "source": [
    "#Inform = DeepDiscInformer.make_stage(name='Inform_DeepDISC', model='detectron2://ImageNetPretrained/MSRA/R-50.pkl', **deep_dict)\n",
    "Inform = DeepDiscInformer.make_stage(name='Inform_DeepDISC', model='test_informer.pkl', **deep_dict)\n"
   ]
  },
  {
   "cell_type": "code",
   "execution_count": 26,
   "id": "87b6a9d1-697e-4bde-abee-e519253daa6f",
   "metadata": {},
   "outputs": [
    {
     "name": "stdout",
     "output_type": "stream",
     "text": [
      "\u001b[32m[11/13 17:54:39 d2.data.build]: \u001b[0mMaking batched data loader with batch_size=1\n",
      "\u001b[32m[11/13 17:54:39 d2.checkpoint.detection_checkpoint]: \u001b[0m[DetectionCheckpointer] Loading from detectron2://ImageNetPretrained/MSRA/R-50.pkl ...\n",
      "\u001b[32m[11/13 17:54:39 d2.checkpoint.c2_model_loading]: \u001b[0mRenaming Caffe2 weights ......\n",
      "\u001b[5m\u001b[31mWARNING\u001b[0m \u001b[32m[11/13 17:54:39 d2.checkpoint.c2_model_loading]: \u001b[0mShape of stem.conv1.weight in checkpoint is torch.Size([64, 3, 7, 7]), while shape of backbone.bottom_up.stem.conv1.weight in model is torch.Size([64, 6, 7, 7]).\n",
      "\u001b[5m\u001b[31mWARNING\u001b[0m \u001b[32m[11/13 17:54:39 d2.checkpoint.c2_model_loading]: \u001b[0mstem.conv1.weight will not be loaded. Please double check and see if this is desired.\n",
      "\u001b[32m[11/13 17:54:39 d2.checkpoint.c2_model_loading]: \u001b[0mFollowing weights matched with submodule backbone.bottom_up - Total num: 53\n"
     ]
    },
    {
     "name": "stderr",
     "output_type": "stream",
     "text": [
      "Some model parameters or buffers are not found in the checkpoint:\n",
      "\u001b[34mbackbone.bottom_up.stem.conv1.weight\u001b[0m\n",
      "\u001b[34mbackbone.fpn_lateral2.{bias, weight}\u001b[0m\n",
      "\u001b[34mbackbone.fpn_lateral3.{bias, weight}\u001b[0m\n",
      "\u001b[34mbackbone.fpn_lateral4.{bias, weight}\u001b[0m\n",
      "\u001b[34mbackbone.fpn_lateral5.{bias, weight}\u001b[0m\n",
      "\u001b[34mbackbone.fpn_output2.{bias, weight}\u001b[0m\n",
      "\u001b[34mbackbone.fpn_output3.{bias, weight}\u001b[0m\n",
      "\u001b[34mbackbone.fpn_output4.{bias, weight}\u001b[0m\n",
      "\u001b[34mbackbone.fpn_output5.{bias, weight}\u001b[0m\n",
      "\u001b[34mproposal_generator.rpn_head.anchor_deltas.{bias, weight}\u001b[0m\n",
      "\u001b[34mproposal_generator.rpn_head.conv.{bias, weight}\u001b[0m\n",
      "\u001b[34mproposal_generator.rpn_head.objectness_logits.{bias, weight}\u001b[0m\n",
      "\u001b[34mroi_heads.box_head.fc1.{bias, weight}\u001b[0m\n",
      "\u001b[34mroi_heads.box_head.fc2.{bias, weight}\u001b[0m\n",
      "\u001b[34mroi_heads.box_predictor.bbox_pred.{bias, weight}\u001b[0m\n",
      "\u001b[34mroi_heads.box_predictor.cls_score.{bias, weight}\u001b[0m\n",
      "\u001b[34mroi_heads.mask_head.deconv.{bias, weight}\u001b[0m\n",
      "\u001b[34mroi_heads.mask_head.mask_fcn1.{bias, weight}\u001b[0m\n",
      "\u001b[34mroi_heads.mask_head.mask_fcn2.{bias, weight}\u001b[0m\n",
      "\u001b[34mroi_heads.mask_head.mask_fcn3.{bias, weight}\u001b[0m\n",
      "\u001b[34mroi_heads.mask_head.mask_fcn4.{bias, weight}\u001b[0m\n",
      "\u001b[34mroi_heads.mask_head.predictor.{bias, weight}\u001b[0m\n",
      "\u001b[34mroi_heads.redshift_fc.0.{bias, weight}\u001b[0m\n",
      "\u001b[34mroi_heads.redshift_fc.2.{bias, weight}\u001b[0m\n",
      "The checkpoint state_dict contains keys that are not used by the model:\n",
      "  \u001b[35mfc1000.{bias, weight}\u001b[0m\n",
      "  \u001b[35mstem.conv1.{bias, weight}\u001b[0m\n"
     ]
    },
    {
     "name": "stdout",
     "output_type": "stream",
     "text": [
      "Model training:\n",
      "\u001b[32m[11/13 17:54:39 d2.engine.train_loop]: \u001b[0mStarting training from iteration 0\n",
      "<detectron2.solver.lr_scheduler.LRMultiplier object at 0x7ffdcdcac0a0>\n",
      "Iteration:  5  time:  5.960464477539062e-07 dict_keys(['loss_cls', 'loss_box_reg', 'redshift_loss', 'loss_rpn_cls', 'loss_rpn_loc']) [0.041020460426807404, 0.0014066596049815416, -0.11685660752750682, 0.6119621992111206, 0.0015525119379162788] val loss:  0 lr:  [0.001]\n",
      "Iteration:  10  time:  4.200264811515808e-07 dict_keys(['loss_cls', 'loss_box_reg', 'redshift_loss', 'loss_rpn_cls', 'loss_rpn_loc']) [2.693814992904663, 0.02068205550312996, 0.5057649953934207, 0.029834140092134476, 0.0053380196914076805] val loss:  0.28951588092405833 lr:  [0.001]\n",
      "Iteration:  15  time:  4.7124922275543213e-07 dict_keys(['loss_cls', 'loss_box_reg', 'redshift_loss', 'loss_rpn_cls', 'loss_rpn_loc']) [0.19103406369686127, 0.03369484096765518, 0.22095394029769067, 0.07634739577770233, 0.0011992242652922869] val loss:  0.21306689881697838 lr:  [0.001]\n",
      "Iteration:  20  time:  4.2747706174850464e-07 dict_keys(['loss_cls', 'loss_box_reg', 'redshift_loss', 'loss_rpn_cls', 'loss_rpn_loc']) [0.045389123260974884, 0.00741912703961134, 0.0704605103745094, 0.04544196277856827, 0.0008601074805483222] val loss:  -0.020540924435418217 lr:  [0.001]\n",
      "Iteration:  25  time:  5.559995770454407e-07 dict_keys(['loss_cls', 'loss_box_reg', 'redshift_loss', 'loss_rpn_cls', 'loss_rpn_loc']) [0.07755501568317413, 0.028057999908924103, 0.30352574968355406, 0.028760520741343498, 0.0002691164845600724] val loss:  -0.1535985126104451 lr:  [0.001]\n",
      "Iteration:  30  time:  4.721805453300476e-07 dict_keys(['loss_cls', 'loss_box_reg', 'redshift_loss', 'loss_rpn_cls', 'loss_rpn_loc']) [0.03506823629140854, 0.007780248299241066, 0.28949231640991, 0.022569414228200912, 0.00038670311914756894] val loss:  -0.1672674039148525 lr:  [0.001]\n",
      "Iteration:  35  time:  6.547197699546814e-07 dict_keys(['loss_cls', 'loss_box_reg', 'redshift_loss', 'loss_rpn_cls', 'loss_rpn_loc']) [0.05561056360602379, 0.046192020177841187, 0.13468921635639264, 0.01887322962284088, 0.00029934500344097614] val loss:  -0.3037983448506225 lr:  [0.001]\n",
      "Iteration:  40  time:  4.246830940246582e-07 dict_keys(['loss_cls', 'loss_box_reg', 'redshift_loss', 'loss_rpn_cls', 'loss_rpn_loc']) [0.05683688819408417, 0.08799517154693604, -0.5473151146787552, 0.017504721879959106, 0.0002640809689182788] val loss:  -0.3245090749142787 lr:  [0.001]\n",
      "Iteration:  45  time:  4.5821070671081543e-07 dict_keys(['loss_cls', 'loss_box_reg', 'redshift_loss', 'loss_rpn_cls', 'loss_rpn_loc']) [0.04443040117621422, 0.04000801965594292, 0.40303526552373303, 0.015966981649398804, 0.00020784646039828658] val loss:  -0.43880506467411173 lr:  [0.001]\n",
      "Iteration:  50  time:  8.530914783477783e-07 dict_keys(['loss_cls', 'loss_box_reg', 'redshift_loss', 'loss_rpn_cls', 'loss_rpn_loc']) [0.037947021424770355, 0.055063001811504364, 0.5197685531413117, 0.013138854876160622, 0.0004921104409731925] val loss:  -0.5966961072959094 lr:  [0.001]\n",
      "Iteration:  55  time:  4.516914486885071e-07 dict_keys(['loss_cls', 'loss_box_reg', 'redshift_loss', 'loss_rpn_cls', 'loss_rpn_loc']) [0.012242818251252174, 0.06803908199071884, 10.853231702229015, 0.013032497838139534, 0.00024431408382952213] val loss:  -0.6754426873651689 lr:  [0.001]\n",
      "Iteration:  60  time:  4.898756742477417e-07 dict_keys(['loss_cls', 'loss_box_reg', 'redshift_loss', 'loss_rpn_cls', 'loss_rpn_loc']) [0.011763694696128368, 0.08380621671676636, -0.4106638250508863, 0.010852525010704994, 0.00031508240499533713] val loss:  -0.6254414879321311 lr:  [0.001]\n",
      "Iteration:  65  time:  4.814937710762024e-07 dict_keys(['loss_cls', 'loss_box_reg', 'redshift_loss', 'loss_rpn_cls', 'loss_rpn_loc']) [0.005109451245516539, 0.022462572902441025, -0.6191511627034565, 0.010599540546536446, 0.00026600330602377653] val loss:  -0.3622418568747079 lr:  [0.001]\n",
      "Iteration:  70  time:  4.5262277126312256e-07 dict_keys(['loss_cls', 'loss_box_reg', 'redshift_loss', 'loss_rpn_cls', 'loss_rpn_loc']) [0.009573377668857574, 0.008230677805840969, 11.932376710722597, 0.01101708970963955, 0.00034945656079798937] val loss:  -0.6594575163062797 lr:  [0.001]\n",
      "Iteration:  75  time:  3.986060619354248e-07 dict_keys(['loss_cls', 'loss_box_reg', 'redshift_loss', 'loss_rpn_cls', 'loss_rpn_loc']) [0.0024105182383209467, 0.032278165221214294, -0.7268292429218683, 0.009409399703145027, 0.0007461124332621694] val loss:  -0.7247553827740234 lr:  [0.001]\n",
      "Iteration:  80  time:  3.9581209421157837e-07 dict_keys(['loss_cls', 'loss_box_reg', 'redshift_loss', 'loss_rpn_cls', 'loss_rpn_loc']) [0.017594819888472557, 0.05583890527486801, 2.544488873130944, 0.008021156303584576, 0.0002552031946834177] val loss:  -0.6869086345711567 lr:  [0.001]\n",
      "Iteration:  85  time:  4.908069968223572e-07 dict_keys(['loss_cls', 'loss_box_reg', 'redshift_loss', 'loss_rpn_cls', 'loss_rpn_loc']) [0.3436589241027832, 0.0649554580450058, -0.04206568795511301, 0.023456348106265068, 0.002831507008522749] val loss:  -0.5738891030563129 lr:  [0.001]\n",
      "Iteration:  90  time:  4.0046870708465576e-07 dict_keys(['loss_cls', 'loss_box_reg', 'redshift_loss', 'loss_rpn_cls', 'loss_rpn_loc']) [0.06209598481655121, 0.024672813713550568, 1.028668104236575, 0.01740841567516327, 0.0007280143909156322] val loss:  0.38418870069456346 lr:  [0.001]\n",
      "Iteration:  95  time:  6.407499313354492e-07 dict_keys(['loss_cls', 'loss_box_reg', 'redshift_loss', 'loss_rpn_cls', 'loss_rpn_loc']) [0.05346255749464035, 0.002803230658173561, -0.17242919628001085, 0.03408046066761017, 0.0011756464373320341] val loss:  0.11231738170437833 lr:  [0.001]\n",
      "Iteration:  100  time:  3.976747393608093e-07 dict_keys(['loss_cls', 'loss_box_reg', 'redshift_loss', 'loss_rpn_cls', 'loss_rpn_loc']) [0.05392797663807869, 0.01120445691049099, 0.8115028335326322, 0.03920760378241539, 0.0008966453606262803] val loss:  -0.15039532972549452 lr:  [0.001]\n",
      "Iteration:  105  time:  4.880130290985107e-07 dict_keys(['loss_cls', 'loss_box_reg', 'redshift_loss', 'loss_rpn_cls', 'loss_rpn_loc']) [0.07321387529373169, 0.025646843016147614, -0.2194919481573454, 0.0350189283490181, 0.0006352041382342577] val loss:  -0.19078998892914645 lr:  [0.001]\n",
      "Iteration:  110  time:  5.317851901054382e-07 dict_keys(['loss_cls', 'loss_box_reg', 'redshift_loss', 'loss_rpn_cls', 'loss_rpn_loc']) [0.0443602055311203, 0.009818486869335175, -0.38527718237457687, 0.02380223013460636, 0.0005291181732900441] val loss:  -0.20495257580885573 lr:  [0.001]\n",
      "Iteration:  115  time:  5.289912223815918e-07 dict_keys(['loss_cls', 'loss_box_reg', 'redshift_loss', 'loss_rpn_cls', 'loss_rpn_loc']) [0.05680953338742256, 0.013096675276756287, 7.666089222654428, 0.020820502191781998, 0.00022402896138373762] val loss:  -0.35724618777081285 lr:  [0.001]\n",
      "Iteration:  120  time:  5.327165126800537e-07 dict_keys(['loss_cls', 'loss_box_reg', 'redshift_loss', 'loss_rpn_cls', 'loss_rpn_loc']) [0.05621080473065376, 0.030744973570108414, -0.5386270427263247, 0.021726537495851517, 0.00028398598078638315] val loss:  -0.4718379724834818 lr:  [0.001]\n",
      "Iteration:  125  time:  5.746260285377502e-07 dict_keys(['loss_cls', 'loss_box_reg', 'redshift_loss', 'loss_rpn_cls', 'loss_rpn_loc']) [0.07195814698934555, 0.03338925912976265, -0.48233570708702134, 0.019410887733101845, 0.0004115703050047159] val loss:  -0.4680697327729517 lr:  [0.001]\n",
      "Iteration:  130  time:  6.426125764846802e-07 dict_keys(['loss_cls', 'loss_box_reg', 'redshift_loss', 'loss_rpn_cls', 'loss_rpn_loc']) [0.03645295649766922, 0.007764053996652365, 0.5595884319323912, 0.0187002532184124, 0.0002641420578584075] val loss:  -0.45219966447512006 lr:  [0.001]\n",
      "Iteration:  135  time:  4.55416738986969e-07 dict_keys(['loss_cls', 'loss_box_reg', 'redshift_loss', 'loss_rpn_cls', 'loss_rpn_loc']) [0.034826744347810745, 0.015298040583729744, -0.5556018422296107, 0.015029608272016048, 0.0003126763040199876] val loss:  -0.5142819945915824 lr:  [0.001]\n",
      "Iteration:  140  time:  4.7497451305389404e-07 dict_keys(['loss_cls', 'loss_box_reg', 'redshift_loss', 'loss_rpn_cls', 'loss_rpn_loc']) [0.018131375312805176, 0.015937700867652893, 0.3838340010542787, 0.01578322798013687, 0.00036521817673929036] val loss:  -0.4967735442733645 lr:  [0.001]\n",
      "Iteration:  145  time:  4.731118679046631e-07 dict_keys(['loss_cls', 'loss_box_reg', 'redshift_loss', 'loss_rpn_cls', 'loss_rpn_loc']) [0.010263707488775253, 0.006260232999920845, 0.09337600083955222, 0.01482202298939228, 0.00019949660054408014] val loss:  -0.5779811808807789 lr:  [0.001]\n",
      "Iteration:  150  time:  4.386529326438904e-07 dict_keys(['loss_cls', 'loss_box_reg', 'redshift_loss', 'loss_rpn_cls', 'loss_rpn_loc']) [0.012186531908810139, 0.0052132196724414825, 0.2616202091713916, 0.011869693174958229, 0.0001673941733315587] val loss:  -0.5931500774985841 lr:  [0.001]\n",
      "Iteration:  155  time:  4.5634806156158447e-07 dict_keys(['loss_cls', 'loss_box_reg', 'redshift_loss', 'loss_rpn_cls', 'loss_rpn_loc']) [0.013719327747821808, 0.05519567430019379, 0.29835080519167834, 0.011068965308368206, 0.00021590024698525667] val loss:  -0.6766931350971523 lr:  [0.001]\n",
      "Iteration:  160  time:  4.1816383600234985e-07 dict_keys(['loss_cls', 'loss_box_reg', 'redshift_loss', 'loss_rpn_cls', 'loss_rpn_loc']) [0.005204281769692898, 0.042684655636548996, 1.7774517427435117, 0.009899476543068886, 0.0002681537007447332] val loss:  -0.7499368024360951 lr:  [0.001]\n",
      "Iteration:  165  time:  4.628673195838928e-07 dict_keys(['loss_cls', 'loss_box_reg', 'redshift_loss', 'loss_rpn_cls', 'loss_rpn_loc']) [0.05929141119122505, 0.07518072426319122, 16.029462286965373, 0.009662697091698647, 0.00037390488432720304] val loss:  -0.7655059126246611 lr:  [0.001]\n",
      "Iteration:  170  time:  4.6100467443466187e-07 dict_keys(['loss_cls', 'loss_box_reg', 'redshift_loss', 'loss_rpn_cls', 'loss_rpn_loc']) [0.0025570583529770374, 0.019821666181087494, -0.7993064766534745, 0.009983465075492859, 0.00030980247538536787] val loss:  -0.617982186511375 lr:  [0.001]\n",
      "Iteration:  175  time:  5.373731255531311e-07 dict_keys(['loss_cls', 'loss_box_reg', 'redshift_loss', 'loss_rpn_cls', 'loss_rpn_loc']) [0.02080485224723816, 0.009681145660579205, 8.419746471931722, 0.007848297245800495, 0.0002636308781802654] val loss:  -0.7524287053397594 lr:  [0.001]\n",
      "Iteration:  180  time:  4.926696419715881e-07 dict_keys(['loss_cls', 'loss_box_reg', 'redshift_loss', 'loss_rpn_cls', 'loss_rpn_loc']) [0.0055784862488508224, 0.02681850641965866, 0.017403332924779136, 0.007530374452471733, 0.0005886093713343143] val loss:  -0.28941005638178185 lr:  [0.001]\n",
      "Iteration:  185  time:  4.675239324569702e-07 dict_keys(['loss_cls', 'loss_box_reg', 'redshift_loss', 'loss_rpn_cls', 'loss_rpn_loc']) [0.002122201258316636, 0.013722259551286697, -0.5448872959945839, 0.009452428668737411, 0.000332025287207216] val loss:  -0.026943247232017242 lr:  [0.001]\n",
      "Iteration:  190  time:  4.284083843231201e-07 dict_keys(['loss_cls', 'loss_box_reg', 'redshift_loss', 'loss_rpn_cls', 'loss_rpn_loc']) [0.008776889182627201, 0.012101024389266968, 8.983934518590708, 0.008678891696035862, 0.00013423834752757102] val loss:  -0.4240539717156224 lr:  [0.001]\n",
      "Iteration:  195  time:  4.852190613746643e-07 dict_keys(['loss_cls', 'loss_box_reg', 'redshift_loss', 'loss_rpn_cls', 'loss_rpn_loc']) [0.0028140561189502478, 0.015309548936784267, 0.002385161292283222, 0.00777530949562788, 0.00036902871215716004] val loss:  -0.6463917790189821 lr:  [0.001]\n",
      "Iteration:  200  time:  5.00120222568512e-07 dict_keys(['loss_cls', 'loss_box_reg', 'redshift_loss', 'loss_rpn_cls', 'loss_rpn_loc']) [0.003484805580228567, 0.01081506721675396, -0.5659294855187467, 0.0061873518861830235, 0.00017981082783080637] val loss:  -0.5592596754641364 lr:  [0.001]\n",
      "saving test_informer\n",
      "Inserting handle into data store.  model_Inform_DeepDISC: inprogress_test_informer.pkl, Inform_DeepDISC\n"
     ]
    },
    {
     "data": {
      "text/plain": [
       "<rail.core.data.ModelHandle at 0x7fff9471af70>"
      ]
     },
     "execution_count": 26,
     "metadata": {},
     "output_type": "execute_result"
    }
   ],
   "source": [
    "Inform.inform(training)"
   ]
  },
  {
   "cell_type": "markdown",
   "id": "1c69b958",
   "metadata": {
    "tags": []
   },
   "source": [
    "### Inference"
   ]
  },
  {
   "cell_type": "code",
   "execution_count": 27,
   "id": "7360caf2-5b3d-4998-be0c-3ca28fb5e035",
   "metadata": {},
   "outputs": [],
   "source": [
    "#Estimator = DeepDiscEstimator.make_stage(name='DeepDiscEstimator',\n",
    "#                                       model=Inform.get_handle('model'), **deep_dict)\n",
    "\n",
    "Estimator = DeepDiscPDFEstimator.make_stage(name='DeepDiscEstimator',\n",
    "                                       model=Inform.get_handle('model'), hdf5_groupname=None, **deep_dict)"
   ]
  },
  {
   "cell_type": "code",
   "execution_count": 28,
   "id": "c74bb222-f53c-415c-acab-f8b978a2af5d",
   "metadata": {},
   "outputs": [
    {
     "name": "stdout",
     "output_type": "stream",
     "text": [
      "\u001b[32m[11/13 17:55:51 d2.checkpoint.detection_checkpoint]: \u001b[0m[DetectionCheckpointer] Loading from ./test_informer.pth ...\n",
      "Processing Data\n",
      "Matching objects\n",
      "Inserting handle into data store.  output_DeepDiscEstimator: inprogress_output_DeepDiscEstimator.hdf5, DeepDiscEstimator\n"
     ]
    }
   ],
   "source": [
    "\n",
    "results = Estimator.estimate(testing)\n",
    "\n"
   ]
  },
  {
   "cell_type": "code",
   "execution_count": 29,
   "id": "5b402ba2-3779-44e7-8654-113f19731464",
   "metadata": {},
   "outputs": [],
   "source": [
    "res = results.read()"
   ]
  },
  {
   "cell_type": "code",
   "execution_count": 30,
   "id": "42326512-837e-4ac6-87c6-2d59c90312db",
   "metadata": {},
   "outputs": [
    {
     "data": {
      "text/plain": [
       "<qp.ensemble.Ensemble at 0x7ffdce59fe80>"
      ]
     },
     "execution_count": 30,
     "metadata": {},
     "output_type": "execute_result"
    }
   ],
   "source": [
    "res"
   ]
  },
  {
   "cell_type": "code",
   "execution_count": null,
   "id": "f7417fa3-0c51-4a04-837c-f9e54431eeda",
   "metadata": {},
   "outputs": [],
   "source": []
  }
 ],
 "metadata": {
  "kernelspec": {
   "display_name": "Python [conda env:.conda-ddrailnv]",
   "language": "python",
   "name": "conda-env-.conda-ddrailnv-py"
  },
  "language_info": {
   "codemirror_mode": {
    "name": "ipython",
    "version": 3
   },
   "file_extension": ".py",
   "mimetype": "text/x-python",
   "name": "python",
   "nbconvert_exporter": "python",
   "pygments_lexer": "ipython3",
   "version": "3.9.18"
  }
 },
 "nbformat": 4,
 "nbformat_minor": 5
}
