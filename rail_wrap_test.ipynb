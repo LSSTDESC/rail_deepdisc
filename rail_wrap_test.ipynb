{
 "cells": [
  {
   "cell_type": "code",
   "execution_count": 1,
   "id": "1c2a2dbf",
   "metadata": {},
   "outputs": [],
   "source": [
    "# Training script for LazyConfig models\n",
    "try:\n",
    "    # ignore ShapelyDeprecationWarning from fvcore\n",
    "    import warnings\n",
    "\n",
    "    from shapely.errors import ShapelyDeprecationWarning\n",
    "\n",
    "    warnings.filterwarnings(\"ignore\", category=ShapelyDeprecationWarning)\n",
    "\n",
    "except:\n",
    "    pass\n",
    "warnings.filterwarnings(\"ignore\", category=RuntimeWarning)\n",
    "warnings.filterwarnings(\"ignore\", category=UserWarning)\n",
    "\n",
    "# Some basic setup:\n",
    "# Setup detectron2 logger\n",
    "from detectron2.utils.logger import setup_logger\n",
    "\n",
    "setup_logger()\n",
    "\n",
    "import gc\n",
    "import os\n",
    "import time\n",
    "\n",
    "import detectron2.utils.comm as comm\n",
    "\n",
    "# import some common libraries\n",
    "import numpy as np\n",
    "import torch\n",
    "\n",
    "# import some common detectron2 utilities\n",
    "from detectron2.config import LazyConfig, get_cfg\n",
    "import detectron2.data as data\n",
    "from detectron2.engine import (\n",
    "    launch,\n",
    ")\n",
    "\n",
    "from deepdisc.data_format.augment_image import train_augs\n",
    "from deepdisc.data_format.image_readers import DC2ImageReader\n",
    "from deepdisc.data_format.register_data import register_data_set, register_loaded_data_set\n",
    "from deepdisc.model.loaders import (\n",
    "    RedshiftFlatDictMapper,\n",
    "    return_test_loader,\n",
    "    return_train_loader,\n",
    ")\n",
    "from deepdisc.model.models import RedshiftPointCasROIHeads, RedshiftPointROIHeads, RedshiftPDFROIHeads, return_lazy_model\n",
    "from deepdisc.training.trainers import (\n",
    "    return_evallosshook,\n",
    "    return_lazy_trainer,\n",
    "    return_optimizer,\n",
    "    return_savehook,\n",
    "    return_schedulerhook,\n",
    ")\n",
    "from deepdisc.utils.parse_arguments import make_training_arg_parser\n",
    "\n"
   ]
  },
  {
   "cell_type": "code",
   "execution_count": 2,
   "id": "6167f21e-0bbc-45cb-bc06-aac14f765fa4",
   "metadata": {},
   "outputs": [],
   "source": [
    "#import importlib\n",
    "#importlib.reload(rail.estimation.algos.deepdisc)"
   ]
  },
  {
   "cell_type": "code",
   "execution_count": 3,
   "id": "5244b7ff-1501-47ad-b74e-c575f9758089",
   "metadata": {},
   "outputs": [],
   "source": [
    "#from rail.estimation.algos.deepdisc import DeepDiscInformer\n",
    "import rail\n",
    "from rail.estimation.algos.deepdisc import *\n",
    "from rail.core.data import TableHandle\n",
    "from rail.core.stage import RailStage\n",
    "\n",
    "from rail.deepdisc.configs import *"
   ]
  },
  {
   "cell_type": "code",
   "execution_count": 4,
   "id": "4e82e6de-f6ec-46b5-a6a7-60e79cd79c31",
   "metadata": {},
   "outputs": [],
   "source": [
    "cfgfile = \"/home/shared/hsc/detectron2/configs/COCO-InstanceSegmentation/mask_rcnn_R_50_FPN_1x.py\"\n",
    "dirpath = './tests/deepdisc/test_data/dc2/'\n",
    "output_dir = './'\n",
    "output_name = 'test'\n",
    "\n",
    "trainfile = dirpath + \"flattened_data_test.npy\"\n",
    "testfile = dirpath + \"flattened_data_test.npy\"\n",
    "classes = ['object']\n",
    "numclasses = 1"
   ]
  },
  {
   "cell_type": "code",
   "execution_count": 5,
   "id": "4ed14575-d55b-4400-90f9-752f27cc75c6",
   "metadata": {},
   "outputs": [
    {
     "data": {
      "text/plain": [
       "'detectron2://ImageNetPretrained/MSRA/R-50.pkl'"
      ]
     },
     "execution_count": 5,
     "metadata": {},
     "output_type": "execute_result"
    }
   ],
   "source": [
    "cfg = get_lazy_config(cfgfile, 1, 1)\n",
    "cfg.train.init_checkpoint"
   ]
  },
  {
   "cell_type": "code",
   "execution_count": 6,
   "id": "ffd06982-1e98-4b8a-a3a8-b68ac71cd6bc",
   "metadata": {},
   "outputs": [],
   "source": [
    "DS = RailStage.data_store\n",
    "DS.__class__.allow_overwrite = True"
   ]
  },
  {
   "cell_type": "code",
   "execution_count": null,
   "id": "9940c5c2-b692-4e3b-a595-0afec0c21e93",
   "metadata": {},
   "outputs": [],
   "source": []
  },
  {
   "cell_type": "code",
   "execution_count": 7,
   "id": "ef5887b5-f2d2-4047-8d81-af04dfa54bf7",
   "metadata": {},
   "outputs": [],
   "source": [
    "testdata = np.load('./tests/deepdisc/test_data/dc2/flattened_data_test.npy')\n",
    "mapper = RedshiftFlatDictMapper().map_data"
   ]
  },
  {
   "cell_type": "code",
   "execution_count": 8,
   "id": "d7e9a2e4-0bae-4b0d-9e62-60fd09795e8a",
   "metadata": {},
   "outputs": [],
   "source": [
    "dataset_dicts={}\n",
    "dds = []\n",
    "for row in testdata:\n",
    "    dds.append(mapper(row))\n",
    "dataset_dicts['test'] = dds"
   ]
  },
  {
   "cell_type": "code",
   "execution_count": 9,
   "id": "01f48f9e-16a3-423d-a550-ed9298b6fafb",
   "metadata": {},
   "outputs": [],
   "source": [
    "training = DS.add_data(\"training\", testdata, TableHandle)\n",
    "testing = DS.add_data(\"testing\", testdata, TableHandle)"
   ]
  },
  {
   "cell_type": "code",
   "execution_count": 10,
   "id": "a57e206a-c5c6-4526-a278-868ef2a6047b",
   "metadata": {},
   "outputs": [],
   "source": [
    "deep_dict = dict(epochs=200,\n",
    "                numclasses=1,\n",
    "                batch_size=1,\n",
    "                output_dir ='./',\n",
    "                cfgfile=\"/home/shared/hsc/detectron2/configs/COCO-InstanceSegmentation/mask_rcnn_R_50_FPN_1x.py\",\n",
    "                output_name ='test_informer')"
   ]
  },
  {
   "cell_type": "code",
   "execution_count": 11,
   "id": "d611ae20-a7c7-4f52-9390-1d27eca138f0",
   "metadata": {},
   "outputs": [],
   "source": [
    "#Inform = DeepDiscInformer.make_stage(name='Inform_DeepDISC', model='detectron2://ImageNetPretrained/MSRA/R-50.pkl', **deep_dict)\n",
    "Inform = DeepDiscInformer.make_stage(name='Inform_DeepDISC', model='test_informer.pkl', **deep_dict)\n"
   ]
  },
  {
   "cell_type": "code",
   "execution_count": 12,
   "id": "87b6a9d1-697e-4bde-abee-e519253daa6f",
   "metadata": {},
   "outputs": [
    {
     "name": "stdout",
     "output_type": "stream",
     "text": [
      "\u001b[32m[11/16 13:20:02 d2.data.build]: \u001b[0mMaking batched data loader with batch_size=1\n",
      "\u001b[32m[11/16 13:20:02 d2.checkpoint.detection_checkpoint]: \u001b[0m[DetectionCheckpointer] Loading from detectron2://ImageNetPretrained/MSRA/R-50.pkl ...\n",
      "\u001b[32m[11/16 13:20:03 d2.checkpoint.c2_model_loading]: \u001b[0mRenaming Caffe2 weights ......\n",
      "\u001b[5m\u001b[31mWARNING\u001b[0m \u001b[32m[11/16 13:20:03 d2.checkpoint.c2_model_loading]: \u001b[0mShape of stem.conv1.weight in checkpoint is torch.Size([64, 3, 7, 7]), while shape of backbone.bottom_up.stem.conv1.weight in model is torch.Size([64, 6, 7, 7]).\n",
      "\u001b[5m\u001b[31mWARNING\u001b[0m \u001b[32m[11/16 13:20:03 d2.checkpoint.c2_model_loading]: \u001b[0mstem.conv1.weight will not be loaded. Please double check and see if this is desired.\n",
      "\u001b[32m[11/16 13:20:03 d2.checkpoint.c2_model_loading]: \u001b[0mFollowing weights matched with submodule backbone.bottom_up - Total num: 53\n"
     ]
    },
    {
     "name": "stderr",
     "output_type": "stream",
     "text": [
      "Some model parameters or buffers are not found in the checkpoint:\n",
      "\u001b[34mbackbone.bottom_up.stem.conv1.weight\u001b[0m\n",
      "\u001b[34mbackbone.fpn_lateral2.{bias, weight}\u001b[0m\n",
      "\u001b[34mbackbone.fpn_lateral3.{bias, weight}\u001b[0m\n",
      "\u001b[34mbackbone.fpn_lateral4.{bias, weight}\u001b[0m\n",
      "\u001b[34mbackbone.fpn_lateral5.{bias, weight}\u001b[0m\n",
      "\u001b[34mbackbone.fpn_output2.{bias, weight}\u001b[0m\n",
      "\u001b[34mbackbone.fpn_output3.{bias, weight}\u001b[0m\n",
      "\u001b[34mbackbone.fpn_output4.{bias, weight}\u001b[0m\n",
      "\u001b[34mbackbone.fpn_output5.{bias, weight}\u001b[0m\n",
      "\u001b[34mproposal_generator.rpn_head.anchor_deltas.{bias, weight}\u001b[0m\n",
      "\u001b[34mproposal_generator.rpn_head.conv.{bias, weight}\u001b[0m\n",
      "\u001b[34mproposal_generator.rpn_head.objectness_logits.{bias, weight}\u001b[0m\n",
      "\u001b[34mroi_heads.box_head.fc1.{bias, weight}\u001b[0m\n",
      "\u001b[34mroi_heads.box_head.fc2.{bias, weight}\u001b[0m\n",
      "\u001b[34mroi_heads.box_predictor.bbox_pred.{bias, weight}\u001b[0m\n",
      "\u001b[34mroi_heads.box_predictor.cls_score.{bias, weight}\u001b[0m\n",
      "\u001b[34mroi_heads.mask_head.deconv.{bias, weight}\u001b[0m\n",
      "\u001b[34mroi_heads.mask_head.mask_fcn1.{bias, weight}\u001b[0m\n",
      "\u001b[34mroi_heads.mask_head.mask_fcn2.{bias, weight}\u001b[0m\n",
      "\u001b[34mroi_heads.mask_head.mask_fcn3.{bias, weight}\u001b[0m\n",
      "\u001b[34mroi_heads.mask_head.mask_fcn4.{bias, weight}\u001b[0m\n",
      "\u001b[34mroi_heads.mask_head.predictor.{bias, weight}\u001b[0m\n",
      "\u001b[34mroi_heads.redshift_fc.0.{bias, weight}\u001b[0m\n",
      "\u001b[34mroi_heads.redshift_fc.2.{bias, weight}\u001b[0m\n",
      "The checkpoint state_dict contains keys that are not used by the model:\n",
      "  \u001b[35mfc1000.{bias, weight}\u001b[0m\n",
      "  \u001b[35mstem.conv1.{bias, weight}\u001b[0m\n"
     ]
    },
    {
     "name": "stdout",
     "output_type": "stream",
     "text": [
      "Model training:\n",
      "\u001b[32m[11/16 13:20:03 d2.engine.train_loop]: \u001b[0mStarting training from iteration 0\n",
      "<detectron2.solver.lr_scheduler.LRMultiplier object at 0x7ffde125d4c0>\n",
      "Iteration:  5  time:  4.7404319047927856e-07 dict_keys(['loss_cls', 'loss_box_reg', 'redshift_loss', 'loss_rpn_cls', 'loss_rpn_loc']) [0.049385979771614075, 0.0012573678977787495, 0.5765131230954346, 0.6248607635498047, 0.0011136078974232078] val loss:  0 lr:  [0.001]\n",
      "Iteration:  10  time:  4.163011908531189e-07 dict_keys(['loss_cls', 'loss_box_reg', 'redshift_loss', 'loss_rpn_cls', 'loss_rpn_loc']) [0.0789569839835167, 0.0018878413829952478, 0.3689945152391453, 0.3513900637626648, 0.0010535838082432747] val loss:  1.4558585790472982 lr:  [0.001]\n",
      "Iteration:  15  time:  3.6228448152542114e-07 dict_keys(['loss_cls', 'loss_box_reg', 'redshift_loss', 'loss_rpn_cls', 'loss_rpn_loc']) [0.16365645825862885, 0.03358888626098633, 0.3172131952957375, 0.12788912653923035, 0.001022582408040762] val loss:  0.8892644758887409 lr:  [0.001]\n",
      "Iteration:  20  time:  4.824250936508179e-07 dict_keys(['loss_cls', 'loss_box_reg', 'redshift_loss', 'loss_rpn_cls', 'loss_rpn_loc']) [0.05610353499650955, 0.04363333433866501, 2.3797334089792543, 0.06668181717395782, 0.0010783158941194415] val loss:  0.5729719570652324 lr:  [0.001]\n",
      "Iteration:  25  time:  5.392357707023621e-07 dict_keys(['loss_cls', 'loss_box_reg', 'redshift_loss', 'loss_rpn_cls', 'loss_rpn_loc']) [0.07045913487672806, 0.02402307465672493, 0.06864541057122509, 0.033995985984802246, 0.0009121489711105824] val loss:  0.25631801572724133 lr:  [0.001]\n",
      "Iteration:  30  time:  3.4552067518234253e-07 dict_keys(['loss_cls', 'loss_box_reg', 'redshift_loss', 'loss_rpn_cls', 'loss_rpn_loc']) [0.052620138972997665, 0.031816400587558746, 0.5465085657828128, 0.03476060926914215, 0.000898072321433574] val loss:  0.13357263290021415 lr:  [0.001]\n",
      "Iteration:  35  time:  5.457550287246704e-07 dict_keys(['loss_cls', 'loss_box_reg', 'redshift_loss', 'loss_rpn_cls', 'loss_rpn_loc']) [0.022240260615944862, 0.0021483376622200012, 0.40825670896167443, 0.021573111414909363, 0.0004506324476096779] val loss:  -0.02146896394072062 lr:  [0.001]\n",
      "Iteration:  40  time:  4.684552550315857e-07 dict_keys(['loss_cls', 'loss_box_reg', 'redshift_loss', 'loss_rpn_cls', 'loss_rpn_loc']) [0.022570738568902016, 0.005674924701452255, -0.20431646812083293, 0.021370641887187958, 0.0003511175746098161] val loss:  -0.2529361507783612 lr:  [0.001]\n",
      "Iteration:  45  time:  4.079192876815796e-07 dict_keys(['loss_cls', 'loss_box_reg', 'redshift_loss', 'loss_rpn_cls', 'loss_rpn_loc']) [0.018633170053362846, 0.039148617535829544, 1.346391568539642, 0.019026638939976692, 0.00026672976673580706] val loss:  -0.2321558878978407 lr:  [0.001]\n",
      "Iteration:  50  time:  4.796311259269714e-07 dict_keys(['loss_cls', 'loss_box_reg', 'redshift_loss', 'loss_rpn_cls', 'loss_rpn_loc']) [0.01764729619026184, 0.04363301396369934, 4.486320476681615, 0.017316514626145363, 0.00028327404288575053] val loss:  -0.031762792334469506 lr:  [0.001]\n",
      "Iteration:  55  time:  4.731118679046631e-07 dict_keys(['loss_cls', 'loss_box_reg', 'redshift_loss', 'loss_rpn_cls', 'loss_rpn_loc']) [0.006590847857296467, 0.01779695227742195, -0.24786386434495133, 0.01487721223384142, 0.00027690603747032583] val loss:  -0.2713304446540086 lr:  [0.001]\n",
      "Iteration:  60  time:  4.898756742477417e-07 dict_keys(['loss_cls', 'loss_box_reg', 'redshift_loss', 'loss_rpn_cls', 'loss_rpn_loc']) [0.003928380087018013, 0.010120337828993797, 1.0876653891858679, 0.010941563174128532, 0.0001570991735206917] val loss:  -0.20452412062033942 lr:  [0.001]\n",
      "Iteration:  65  time:  4.200264811515808e-07 dict_keys(['loss_cls', 'loss_box_reg', 'redshift_loss', 'loss_rpn_cls', 'loss_rpn_loc']) [0.0021454477682709694, 0.006657102610915899, -0.5191559815219404, 0.010533696971833706, 0.00011085333972005174] val loss:  -0.35258993784066406 lr:  [0.001]\n",
      "Iteration:  70  time:  4.367902874946594e-07 dict_keys(['loss_cls', 'loss_box_reg', 'redshift_loss', 'loss_rpn_cls', 'loss_rpn_loc']) [0.001329577760770917, 0.006988787092268467, 9.82980033943105, 0.008820912800729275, 8.818726928438991e-05] val loss:  -0.5228159326700075 lr:  [0.001]\n",
      "Iteration:  75  time:  4.861503839492798e-07 dict_keys(['loss_cls', 'loss_box_reg', 'redshift_loss', 'loss_rpn_cls', 'loss_rpn_loc']) [0.004566582385450602, 0.03827759250998497, -0.1418626540970871, 0.008091704919934273, 0.0001692734658718109] val loss:  -0.44461152708860796 lr:  [0.001]\n",
      "Iteration:  80  time:  4.302710294723511e-07 dict_keys(['loss_cls', 'loss_box_reg', 'redshift_loss', 'loss_rpn_cls', 'loss_rpn_loc']) [0.007509705610573292, 0.01203807070851326, -0.5833809738995424, 0.007015639450401068, 0.00012818427057936788] val loss:  -0.5455613004133066 lr:  [0.001]\n",
      "Iteration:  85  time:  5.047768354415894e-07 dict_keys(['loss_cls', 'loss_box_reg', 'redshift_loss', 'loss_rpn_cls', 'loss_rpn_loc']) [0.003526638727635145, 0.012664089910686016, 0.9457707124004535, 0.0068242656998336315, 0.0003821158315986395] val loss:  -0.5538320539210917 lr:  [0.001]\n",
      "Iteration:  90  time:  3.5855919122695923e-07 dict_keys(['loss_cls', 'loss_box_reg', 'redshift_loss', 'loss_rpn_cls', 'loss_rpn_loc']) [0.002306276699528098, 0.01649683713912964, 0.09338265264494244, 0.007038992363959551, 0.000190956678125076] val loss:  -0.5380777589683969 lr:  [0.001]\n",
      "Iteration:  95  time:  5.336478352546692e-07 dict_keys(['loss_cls', 'loss_box_reg', 'redshift_loss', 'loss_rpn_cls', 'loss_rpn_loc']) [0.0030557180289179087, 0.017962932586669922, 1.9415923492253833, 0.006509237922728062, 0.0005975655512884259] val loss:  -0.5649127663453809 lr:  [0.001]\n",
      "Iteration:  100  time:  3.4086406230926514e-07 dict_keys(['loss_cls', 'loss_box_reg', 'redshift_loss', 'loss_rpn_cls', 'loss_rpn_loc']) [0.0017080951947718859, 0.02193913236260414, -0.49849166664251743, 0.006108399014919996, 0.0004854179860558361] val loss:  -0.44852372706394816 lr:  [0.001]\n",
      "Iteration:  105  time:  4.98257577419281e-07 dict_keys(['loss_cls', 'loss_box_reg', 'redshift_loss', 'loss_rpn_cls', 'loss_rpn_loc']) [0.0009777768282219768, 0.013632685877382755, -0.641104492692431, 0.0062234061770141125, 0.00029296957654878497] val loss:  -0.5204911565447079 lr:  [0.001]\n",
      "Iteration:  110  time:  4.591420292854309e-07 dict_keys(['loss_cls', 'loss_box_reg', 'redshift_loss', 'loss_rpn_cls', 'loss_rpn_loc']) [0.0032142659183591604, 0.015913698822259903, 12.0216265491371, 0.005564898252487183, 0.00040555905434302986] val loss:  -0.6347175221439784 lr:  [0.001]\n",
      "Iteration:  115  time:  3.7066638469696045e-07 dict_keys(['loss_cls', 'loss_box_reg', 'redshift_loss', 'loss_rpn_cls', 'loss_rpn_loc']) [0.012005227617919445, 0.010074067860841751, 1.1606399825887015, 0.005484951660037041, 0.000376453303033486] val loss:  -0.5736787543133095 lr:  [0.001]\n",
      "Iteration:  120  time:  3.7904828786849976e-07 dict_keys(['loss_cls', 'loss_box_reg', 'redshift_loss', 'loss_rpn_cls', 'loss_rpn_loc']) [0.0008836663328111172, 0.021769490092992783, 0.7805226670300796, 0.0059625934809446335, 0.00042294675949960947] val loss:  -0.6964385338313483 lr:  [0.001]\n",
      "Iteration:  125  time:  4.908069968223572e-07 dict_keys(['loss_cls', 'loss_box_reg', 'redshift_loss', 'loss_rpn_cls', 'loss_rpn_loc']) [0.0034254416823387146, 0.011761507019400597, 0.06430130462822148, 0.004293769598007202, 0.0003468155045993626] val loss:  -0.5937397643356812 lr:  [0.001]\n",
      "Iteration:  130  time:  4.246830940246582e-07 dict_keys(['loss_cls', 'loss_box_reg', 'redshift_loss', 'loss_rpn_cls', 'loss_rpn_loc']) [0.0010801181197166443, 0.018724290654063225, 1.0713093043927, 0.005025594029575586, 0.0003503246698528528] val loss:  -0.5235207580849883 lr:  [0.001]\n",
      "Iteration:  135  time:  3.3248215913772583e-07 dict_keys(['loss_cls', 'loss_box_reg', 'redshift_loss', 'loss_rpn_cls', 'loss_rpn_loc']) [0.0010869269026443362, 0.007890772074460983, 1.8788443567487696, 0.005046913865953684, 0.0002519437111914158] val loss:  -0.5047263973651237 lr:  [0.001]\n",
      "Iteration:  140  time:  5.550682544708252e-07 dict_keys(['loss_cls', 'loss_box_reg', 'redshift_loss', 'loss_rpn_cls', 'loss_rpn_loc']) [0.0014989491319283843, 0.011814299039542675, 0.2715011231223936, 0.004156033042818308, 0.00016908999532461166] val loss:  -0.5137553418879068 lr:  [0.001]\n",
      "Iteration:  145  time:  4.684552550315857e-07 dict_keys(['loss_cls', 'loss_box_reg', 'redshift_loss', 'loss_rpn_cls', 'loss_rpn_loc']) [0.0007659788825549185, 0.006896620616316795, 0.9464450328746539, 0.004115529358386993, 0.00014114193618297577] val loss:  -0.5769852827644582 lr:  [0.001]\n",
      "Iteration:  150  time:  3.7159770727157593e-07 dict_keys(['loss_cls', 'loss_box_reg', 'redshift_loss', 'loss_rpn_cls', 'loss_rpn_loc']) [0.0014468785375356674, 0.006535015068948269, 0.12265511191770861, 0.004246939904987812, 8.8240769400727e-05] val loss:  -0.6022577215039456 lr:  [0.001]\n",
      "Iteration:  155  time:  5.112960934638977e-07 dict_keys(['loss_cls', 'loss_box_reg', 'redshift_loss', 'loss_rpn_cls', 'loss_rpn_loc']) [0.0014242625329643488, 0.006174622569233179, -0.6993043079207206, 0.004448253661394119, 0.00015166791854426265] val loss:  -0.6741354518824942 lr:  [0.001]\n",
      "Iteration:  160  time:  5.494803190231323e-07 dict_keys(['loss_cls', 'loss_box_reg', 'redshift_loss', 'loss_rpn_cls', 'loss_rpn_loc']) [0.000853012956213206, 0.007524501532316208, 10.893052447636572, 0.0030801421962678432, 0.00018864285084418952] val loss:  -0.6976659284272724 lr:  [0.001]\n",
      "Iteration:  165  time:  4.898756742477417e-07 dict_keys(['loss_cls', 'loss_box_reg', 'redshift_loss', 'loss_rpn_cls', 'loss_rpn_loc']) [0.0008945651352405548, 0.009409346617758274, 14.33629142508591, 0.0033711278811097145, 0.00024818387464620173] val loss:  -0.7596747318694252 lr:  [0.001]\n",
      "Iteration:  170  time:  5.466863512992859e-07 dict_keys(['loss_cls', 'loss_box_reg', 'redshift_loss', 'loss_rpn_cls', 'loss_rpn_loc']) [0.0005554540548473597, 0.009077435359358788, 1.9175118585094917, 0.00397650059312582, 0.00015858122787903994] val loss:  -0.8154844423669692 lr:  [0.001]\n",
      "Iteration:  175  time:  4.7497451305389404e-07 dict_keys(['loss_cls', 'loss_box_reg', 'redshift_loss', 'loss_rpn_cls', 'loss_rpn_loc']) [0.0006547938100993633, 0.007821138016879559, 2.628015921861559, 0.002946978434920311, 0.00013522320659831166] val loss:  -0.845865460918221 lr:  [0.001]\n",
      "Iteration:  180  time:  3.2316893339157104e-07 dict_keys(['loss_cls', 'loss_box_reg', 'redshift_loss', 'loss_rpn_cls', 'loss_rpn_loc']) [0.000549173098988831, 0.007122625596821308, 0.31368086462867795, 0.0024772549513727427, 0.0001351397077087313] val loss:  -0.857051662781513 lr:  [0.001]\n",
      "Iteration:  185  time:  5.085021257400513e-07 dict_keys(['loss_cls', 'loss_box_reg', 'redshift_loss', 'loss_rpn_cls', 'loss_rpn_loc']) [0.0012283765245229006, 0.010641595348715782, -0.9074046090634558, 0.002365408930927515, 0.00017605125322006643] val loss:  -0.8910424610269893 lr:  [0.001]\n",
      "Iteration:  190  time:  4.12575900554657e-07 dict_keys(['loss_cls', 'loss_box_reg', 'redshift_loss', 'loss_rpn_cls', 'loss_rpn_loc']) [0.0005084750009700656, 0.0030502215959131718, 0.9538899481779242, 0.0022436112631112337, 6.315880455076694e-05] val loss:  -0.9128021325965328 lr:  [0.001]\n",
      "Iteration:  195  time:  4.3213367462158203e-07 dict_keys(['loss_cls', 'loss_box_reg', 'redshift_loss', 'loss_rpn_cls', 'loss_rpn_loc']) [0.00046027699136175215, 0.004409679211676121, 0.10664861585636509, 0.0020567765459418297, 0.00011939392425119877] val loss:  -0.9021295268820811 lr:  [0.001]\n",
      "Iteration:  200  time:  4.0512531995773315e-07 dict_keys(['loss_cls', 'loss_box_reg', 'redshift_loss', 'loss_rpn_cls', 'loss_rpn_loc']) [0.0003832015790976584, 0.005568074993789196, -0.14289804989304455, 0.0021035256795585155, 0.00014371277939062566] val loss:  -0.8913103660400739 lr:  [0.001]\n",
      "saving test_informer\n",
      "Inserting handle into data store.  model_Inform_DeepDISC: inprogress_test_informer.pkl, Inform_DeepDISC\n"
     ]
    },
    {
     "data": {
      "text/plain": [
       "<rail.core.data.ModelHandle at 0x7ffde12fe7f0>"
      ]
     },
     "execution_count": 12,
     "metadata": {},
     "output_type": "execute_result"
    }
   ],
   "source": [
    "Inform.inform(training)"
   ]
  },
  {
   "cell_type": "markdown",
   "id": "1c69b958",
   "metadata": {
    "tags": []
   },
   "source": [
    "### Inference"
   ]
  },
  {
   "cell_type": "code",
   "execution_count": 13,
   "id": "7360caf2-5b3d-4998-be0c-3ca28fb5e035",
   "metadata": {},
   "outputs": [],
   "source": [
    "#Estimator = DeepDiscEstimator.make_stage(name='DeepDiscEstimator',\n",
    "#                                       model=Inform.get_handle('model'), **deep_dict)\n",
    "\n",
    "Estimator = DeepDiscPDFEstimator.make_stage(name='DeepDiscEstimator',\n",
    "                                       model=Inform.get_handle('model'), hdf5_groupname=None, **deep_dict)"
   ]
  },
  {
   "cell_type": "code",
   "execution_count": 14,
   "id": "c74bb222-f53c-415c-acab-f8b978a2af5d",
   "metadata": {},
   "outputs": [
    {
     "name": "stdout",
     "output_type": "stream",
     "text": [
      "\u001b[32m[11/16 13:27:33 d2.checkpoint.detection_checkpoint]: \u001b[0m[DetectionCheckpointer] Loading from ./test_informer.pth ...\n",
      "Processing Data\n",
      "Matching objects\n",
      "Inserting handle into data store.  output_DeepDiscEstimator: inprogress_output_DeepDiscEstimator.hdf5, DeepDiscEstimator\n"
     ]
    }
   ],
   "source": [
    "\n",
    "results = Estimator.estimate(testing)\n",
    "\n"
   ]
  },
  {
   "cell_type": "code",
   "execution_count": 15,
   "id": "5b402ba2-3779-44e7-8654-113f19731464",
   "metadata": {},
   "outputs": [],
   "source": [
    "res = results.read()"
   ]
  },
  {
   "cell_type": "code",
   "execution_count": 16,
   "id": "42326512-837e-4ac6-87c6-2d59c90312db",
   "metadata": {},
   "outputs": [
    {
     "data": {
      "text/plain": [
       "<qp.ensemble.Ensemble at 0x7ffddd806e50>"
      ]
     },
     "execution_count": 16,
     "metadata": {},
     "output_type": "execute_result"
    }
   ],
   "source": [
    "res"
   ]
  },
  {
   "cell_type": "code",
   "execution_count": null,
   "id": "f7417fa3-0c51-4a04-837c-f9e54431eeda",
   "metadata": {},
   "outputs": [],
   "source": []
  }
 ],
 "metadata": {
  "kernelspec": {
   "display_name": "Python [conda env:.conda-ddrailnv]",
   "language": "python",
   "name": "conda-env-.conda-ddrailnv-py"
  },
  "language_info": {
   "codemirror_mode": {
    "name": "ipython",
    "version": 3
   },
   "file_extension": ".py",
   "mimetype": "text/x-python",
   "name": "python",
   "nbconvert_exporter": "python",
   "pygments_lexer": "ipython3",
   "version": "3.9.18"
  }
 },
 "nbformat": 4,
 "nbformat_minor": 5
}
