{
 "cells": [
  {
   "cell_type": "code",
   "execution_count": 1,
   "id": "1c2a2dbf",
   "metadata": {},
   "outputs": [],
   "source": [
    "# Training script for LazyConfig models\n",
    "try:\n",
    "    # ignore ShapelyDeprecationWarning from fvcore\n",
    "    import warnings\n",
    "\n",
    "    from shapely.errors import ShapelyDeprecationWarning\n",
    "\n",
    "    warnings.filterwarnings(\"ignore\", category=ShapelyDeprecationWarning)\n",
    "\n",
    "except:\n",
    "    pass\n",
    "warnings.filterwarnings(\"ignore\", category=RuntimeWarning)\n",
    "warnings.filterwarnings(\"ignore\", category=UserWarning)\n",
    "\n",
    "# Some basic setup:\n",
    "# Setup detectron2 logger\n",
    "from detectron2.utils.logger import setup_logger\n",
    "\n",
    "setup_logger()\n",
    "\n",
    "import gc\n",
    "import os\n",
    "import time\n",
    "\n",
    "import detectron2.utils.comm as comm\n",
    "\n",
    "# import some common libraries\n",
    "import numpy as np\n",
    "import torch\n",
    "\n",
    "# import some common detectron2 utilities\n",
    "from detectron2.config import LazyConfig, get_cfg\n",
    "import detectron2.data as data\n",
    "from detectron2.engine import (\n",
    "    launch,\n",
    ")\n",
    "\n",
    "from deepdisc.data_format.augment_image import train_augs\n",
    "from deepdisc.data_format.image_readers import DC2ImageReader\n",
    "from deepdisc.data_format.register_data import (\n",
    "    register_data_set,\n",
    ")  # , register_loaded_data_set\n",
    "from deepdisc.model.loaders import (\n",
    "    RedshiftFlatDictMapper,\n",
    "    return_test_loader,\n",
    "    return_train_loader,\n",
    ")\n",
    "from deepdisc.model.models import (\n",
    "    RedshiftPointCasROIHeads,\n",
    "    RedshiftPointROIHeads,\n",
    "    RedshiftPDFROIHeads,\n",
    "    return_lazy_model,\n",
    ")\n",
    "from deepdisc.training.trainers import (\n",
    "    return_evallosshook,\n",
    "    return_lazy_trainer,\n",
    "    return_optimizer,\n",
    "    return_savehook,\n",
    "    return_schedulerhook,\n",
    ")\n",
    "from deepdisc.utils.parse_arguments import make_training_arg_parser"
   ]
  },
  {
   "cell_type": "code",
   "execution_count": 2,
   "id": "a46af65a-b45d-4455-92d6-d2d68dd89eda",
   "metadata": {},
   "outputs": [
    {
     "name": "stdout",
     "output_type": "stream",
     "text": [
      "Mon Dec 11 16:23:02 2023       \n",
      "+---------------------------------------------------------------------------------------+\n",
      "| NVIDIA-SMI 545.23.08              Driver Version: 545.23.08    CUDA Version: 12.3     |\n",
      "|-----------------------------------------+----------------------+----------------------+\n",
      "| GPU  Name                 Persistence-M | Bus-Id        Disp.A | Volatile Uncorr. ECC |\n",
      "| Fan  Temp   Perf          Pwr:Usage/Cap |         Memory-Usage | GPU-Util  Compute M. |\n",
      "|                                         |                      |               MIG M. |\n",
      "|=========================================+======================+======================|\n",
      "|   0  Tesla V100-SXM2-16GB           On  | 00000004:04:00.0 Off |                    0 |\n",
      "| N/A   34C    P0              36W / 300W |      1MiB / 16384MiB |      0%      Default |\n",
      "|                                         |                      |                  N/A |\n",
      "+-----------------------------------------+----------------------+----------------------+\n",
      "|   1  Tesla V100-SXM2-16GB           On  | 00000035:04:00.0 Off |                    0 |\n",
      "| N/A   38C    P0              40W / 300W |      1MiB / 16384MiB |      0%      Default |\n",
      "|                                         |                      |                  N/A |\n",
      "+-----------------------------------------+----------------------+----------------------+\n",
      "                                                                                         \n",
      "+---------------------------------------------------------------------------------------+\n",
      "| Processes:                                                                            |\n",
      "|  GPU   GI   CI        PID   Type   Process name                            GPU Memory |\n",
      "|        ID   ID                                                             Usage      |\n",
      "|=======================================================================================|\n",
      "|  No running processes found                                                           |\n",
      "+---------------------------------------------------------------------------------------+\n"
     ]
    }
   ],
   "source": [
    "!nvidia-smi"
   ]
  },
  {
   "cell_type": "code",
   "execution_count": 3,
   "id": "5244b7ff-1501-47ad-b74e-c575f9758089",
   "metadata": {},
   "outputs": [],
   "source": [
    "# from rail.estimation.algos.deepdisc import DeepDiscInformer\n",
    "import rail\n",
    "from rail.estimation.algos.deepdisc import *\n",
    "from rail.core.data import TableHandle, JsonHandle\n",
    "from rail.core.stage import RailStage\n",
    "\n",
    "from rail.deepdisc.configs import *"
   ]
  },
  {
   "cell_type": "code",
   "execution_count": 4,
   "id": "4e82e6de-f6ec-46b5-a6a7-60e79cd79c31",
   "metadata": {},
   "outputs": [],
   "source": [
    "#/home/shared/hsc/DC2/test_data/dataset_3/flattened_images_train_small.npy\n",
    "cfgfile = \"/home/shared/hsc/detectron2/configs/COCO-InstanceSegmentation/mask_rcnn_R_50_FPN_1x.py\"\n",
    "dirpath = \"./tests/deepdisc/test_data/dc2/\"\n",
    "output_dir = \"./\"\n",
    "output_name = \"test\"\n",
    "\n",
    "#trainfile = dirpath + \"flattened_data_test.npy\"\n",
    "trainfile = \"/home/shared/hsc/DC2/test_data/dataset_3/flattened_images_train.hdf5\"\n",
    "testfile = \"/home/shared/hsc/DC2/test_data/dataset_3/flattened_images_test.hdf5\"\n",
    "metadatafile = \"/home/shared/hsc/DC2/test_data/dataset_3/train_metadata.json\"\n",
    "test_metadatafile = \"/home/shared/hsc/DC2/test_data/dataset_3/test_metadata.json\"\n",
    "\n",
    "classes = [\"object\"]\n",
    "numclasses = 1"
   ]
  },
  {
   "cell_type": "code",
   "execution_count": 5,
   "id": "4ed14575-d55b-4400-90f9-752f27cc75c6",
   "metadata": {},
   "outputs": [
    {
     "data": {
      "text/plain": [
       "'detectron2://ImageNetPretrained/MSRA/R-50.pkl'"
      ]
     },
     "execution_count": 5,
     "metadata": {},
     "output_type": "execute_result"
    }
   ],
   "source": [
    "cfg = get_lazy_config(cfgfile, 1, 1)\n",
    "cfg.train.init_checkpoint"
   ]
  },
  {
   "cell_type": "code",
   "execution_count": 6,
   "id": "ffd06982-1e98-4b8a-a3a8-b68ac71cd6bc",
   "metadata": {},
   "outputs": [],
   "source": [
    "DS = RailStage.data_store\n",
    "DS.__class__.allow_overwrite = True"
   ]
  },
  {
   "cell_type": "code",
   "execution_count": null,
   "id": "c476d78e-9c5d-44a5-9489-de1b9e0d39f1",
   "metadata": {},
   "outputs": [],
   "source": []
  },
  {
   "cell_type": "code",
   "execution_count": 7,
   "id": "9940c5c2-b692-4e3b-a595-0afec0c21e93",
   "metadata": {},
   "outputs": [],
   "source": [
    "from deepdisc.data_format.file_io import get_data_from_json\n",
    "\n",
    "#testdata = np.load(trainfile, allow_pickle=True)\n",
    "#testdata = DS.read_file(\"testdata\", TableHandle, trainfile)\n",
    "metadata = get_data_from_json(metadatafile)\n",
    "test_metadata = get_data_from_json(test_metadatafile)"
   ]
  },
  {
   "cell_type": "code",
   "execution_count": 8,
   "id": "01f48f9e-16a3-423d-a550-ed9298b6fafb",
   "metadata": {},
   "outputs": [],
   "source": [
    "#training = DS.add_data(\"training\", testdata(), TableHandle, path=trainfile) #()[\"images\"]\n",
    "#testing = DS.add_data(\"testing\", testdata, TableHandle)\n",
    "\n",
    "training = DS.add_data(\"training\", data=None, handle_class=TableHandle, path=trainfile) #()[\"images\"]\n",
    "testing = DS.add_data(\"testing\", data=None, handle_class=TableHandle, path=testfile)\n",
    "\n",
    "metadatahandle = DS.add_data(\"metadata\", metadata, JsonHandle, path=metadatafile)\n",
    "#metadatahandle = DS.add_data(\"test_metadata\", test_metadata, JsonHandle, path=test_metadatafile)"
   ]
  },
  {
   "cell_type": "code",
   "execution_count": 9,
   "id": "a57e206a-c5c6-4526-a278-868ef2a6047b",
   "metadata": {},
   "outputs": [],
   "source": [
    "deep_dict = dict(\n",
    "    chunk_size=100,\n",
    "    epoch=20,\n",
    "    numclasses=1,\n",
    "    batch_size=4,\n",
    "    output_dir=\"./\",\n",
    "    cfgfile=\"/home/shared/hsc/detectron2/configs/COCO-InstanceSegmentation/mask_rcnn_R_50_FPN_1x.py\",\n",
    "    output_name=\"test_informer\",\n",
    "    num_gpus=2,\n",
    "    period = 5,\n",
    "    head_iters =20,\n",
    "    full_iters=20,\n",
    "    machine_rank=0,\n",
    "#     hdf5_groupname=\"images\",\n",
    "    \n",
    ")"
   ]
  },
  {
   "cell_type": "code",
   "execution_count": 10,
   "id": "d611ae20-a7c7-4f52-9390-1d27eca138f0",
   "metadata": {},
   "outputs": [],
   "source": [
    "# Inform = DeepDiscInformer.make_stage(name='Inform_DeepDISC', model='detectron2://ImageNetPretrained/MSRA/R-50.pkl', **deep_dict)\n",
    "Inform = DeepDiscInformer.make_stage(\n",
    "    name=\"Inform_DeepDISC\", model=\"test_informer.pkl\", **deep_dict\n",
    ")"
   ]
  },
  {
   "cell_type": "code",
   "execution_count": 11,
   "id": "87b6a9d1-697e-4bde-abee-e519253daa6f",
   "metadata": {},
   "outputs": [
    {
     "name": "stdout",
     "output_type": "stream",
     "text": [
      "Caching data\n",
      "Chunk index: 0\n",
      "Chunk index: 100\n",
      "Chunk index: 200\n",
      "Chunk index: 300\n",
      "Chunk index: 400\n",
      "Chunk index: 500\n",
      "Chunk index: 600\n",
      "Chunk index: 700\n",
      "Chunk index: 800\n",
      "Chunk index: 900\n",
      "Training head layers\n",
      "In train method\n",
      "\u001b[32m[12/11 16:24:24 d2.data.common]: \u001b[0mSerializing the dataset using: <class 'detectron2.data.common._TorchSerializedList'>\n",
      "\u001b[32m[12/11 16:24:24 d2.data.common]: \u001b[0mSerializing 1000 elements to byte tensors and concatenating them all ...\n",
      "In train method\n",
      "\u001b[32m[12/11 16:24:24 d2.data.common]: \u001b[0mSerializing the dataset using: <class 'detectron2.data.common._TorchSerializedList'>\n",
      "\u001b[32m[12/11 16:24:24 d2.data.common]: \u001b[0mSerializing 1000 elements to byte tensors and concatenating them all ...\n",
      "\u001b[32m[12/11 16:24:27 d2.data.common]: \u001b[0mSerialized dataset takes 274.77 MiB\n",
      "\u001b[32m[12/11 16:24:27 d2.data.common]: \u001b[0mSerialized dataset takes 274.77 MiB\n",
      "\u001b[32m[12/11 16:24:27 d2.data.build]: \u001b[0mMaking batched data loader with batch_size=2\n",
      "\u001b[32m[12/11 16:24:27 d2.data.build]: \u001b[0mMaking batched data loader with batch_size=2\n",
      "\u001b[32m[12/11 16:24:28 d2.checkpoint.detection_checkpoint]: \u001b[0m[DetectionCheckpointer] Loading from None ...\n",
      "\u001b[32m[12/11 16:24:28 d2.checkpoint.detection_checkpoint]: \u001b[0m[DetectionCheckpointer] Loading from None ...\n",
      "\u001b[32m[12/11 16:24:28 d2.engine.train_loop]: \u001b[0mStarting training from iteration 0\n",
      "\u001b[32m[12/11 16:24:28 d2.engine.train_loop]: \u001b[0mStarting training from iteration 0\n"
     ]
    },
    {
     "name": "stderr",
     "output_type": "stream",
     "text": [
      "/home/g4merz/.conda/envs/ddrailnv/lib/python3.9/site-packages/torch/functional.py:504: UserWarning: torch.meshgrid: in an upcoming release, it will be required to pass the indexing argument. (Triggered internally at /data/miniconda3/envs/opence-1.7/conda-bld/pytorch-base_1672876060819/work/aten/src/ATen/native/TensorShape.cpp:3190.)\n",
      "  return _VF.meshgrid(tensors, **kwargs)  # type: ignore[attr-defined]\n",
      "/home/g4merz/.conda/envs/ddrailnv/lib/python3.9/site-packages/torch/functional.py:504: UserWarning: torch.meshgrid: in an upcoming release, it will be required to pass the indexing argument. (Triggered internally at /data/miniconda3/envs/opence-1.7/conda-bld/pytorch-base_1672876060819/work/aten/src/ATen/native/TensorShape.cpp:3190.)\n",
      "  return _VF.meshgrid(tensors, **kwargs)  # type: ignore[attr-defined]\n"
     ]
    },
    {
     "name": "stdout",
     "output_type": "stream",
     "text": [
      "<detectron2.solver.lr_scheduler.LRMultiplier object at 0x7ffd3b2f8430>\n",
      "saving test_informer\n",
      "<detectron2.solver.lr_scheduler.LRMultiplier object at 0x7ffd54b5c220>\n",
      "Iteration:  5  time:  4.3795444071292877e-07 dict_keys(['loss_cls', 'loss_box_reg', 'loss_mask', 'redshift_loss', 'loss_rpn_cls', 'loss_rpn_loc']) [0.76545250415802, 0.2884536385536194, 0.6952187418937683, 0.10115199536085129, 0.5010137557983398, 0.5072656869888306] val loss:  0 lr:  [0.001]\n",
      "Iteration:  10  time:  4.66126948595047e-07 dict_keys(['loss_cls', 'loss_box_reg', 'loss_mask', 'redshift_loss', 'loss_rpn_cls', 'loss_rpn_loc']) [0.8376395106315613, 0.26021525263786316, 0.6696279644966125, 0.10349781066179276, 0.3520268499851227, 0.36980313062667847] val loss:  0 lr:  [0.001]\n",
      "Iteration:  15  time:  3.979075700044632e-07 dict_keys(['loss_cls', 'loss_box_reg', 'loss_mask', 'redshift_loss', 'loss_rpn_cls', 'loss_rpn_loc']) [4.49190616607666, 1.2243200540542603, 0.8021403551101685, 0.10784193873405457, 0.3691522777080536, 2.550419330596924] val loss:  0 lr:  [0.001]\n",
      "Iteration:  20  time:  6.039626896381378e-07 dict_keys(['loss_cls', 'loss_box_reg', 'loss_mask', 'redshift_loss', 'loss_rpn_cls', 'loss_rpn_loc']) [2.358276128768921, 0.9275603294372559, 0.6545084118843079, 0.09688108414411545, 0.3661026954650879, 1.2199403047561646] val loss:  0 lr:  [0.001]\n",
      "saving test_informer\n",
      "Training full model\n",
      "In train method\n",
      "\u001b[32m[12/11 16:26:30 d2.data.common]: \u001b[0mSerializing the dataset using: <class 'detectron2.data.common._TorchSerializedList'>\n",
      "\u001b[32m[12/11 16:26:30 d2.data.common]: \u001b[0mSerializing 1000 elements to byte tensors and concatenating them all ...\n",
      "In train method\n",
      "\u001b[32m[12/11 16:26:30 d2.data.common]: \u001b[0mSerializing the dataset using: <class 'detectron2.data.common._TorchSerializedList'>\n",
      "\u001b[32m[12/11 16:26:30 d2.data.common]: \u001b[0mSerializing 1000 elements to byte tensors and concatenating them all ...\n",
      "\u001b[32m[12/11 16:26:33 d2.data.common]: \u001b[0mSerialized dataset takes 274.77 MiB\n",
      "\u001b[32m[12/11 16:26:33 d2.data.common]: \u001b[0mSerialized dataset takes 274.77 MiB\n",
      "\u001b[32m[12/11 16:26:33 d2.data.build]: \u001b[0mMaking batched data loader with batch_size=2\n",
      "\u001b[32m[12/11 16:26:33 d2.data.build]: \u001b[0mMaking batched data loader with batch_size=2\n",
      "\u001b[32m[12/11 16:26:34 d2.checkpoint.detection_checkpoint]: \u001b[0m[DetectionCheckpointer] Loading from ./test_informer.pth ...\n",
      "\u001b[32m[12/11 16:26:34 d2.checkpoint.detection_checkpoint]: \u001b[0m[DetectionCheckpointer] Loading from ./test_informer.pth ...\n",
      "\u001b[32m[12/11 16:26:34 d2.engine.train_loop]: \u001b[0mStarting training from iteration 0\n",
      "\u001b[32m[12/11 16:26:34 d2.engine.train_loop]: \u001b[0mStarting training from iteration 0\n"
     ]
    },
    {
     "name": "stderr",
     "output_type": "stream",
     "text": [
      "/home/g4merz/.conda/envs/ddrailnv/lib/python3.9/site-packages/torch/functional.py:504: UserWarning: torch.meshgrid: in an upcoming release, it will be required to pass the indexing argument. (Triggered internally at /data/miniconda3/envs/opence-1.7/conda-bld/pytorch-base_1672876060819/work/aten/src/ATen/native/TensorShape.cpp:3190.)\n",
      "  return _VF.meshgrid(tensors, **kwargs)  # type: ignore[attr-defined]\n",
      "/home/g4merz/.conda/envs/ddrailnv/lib/python3.9/site-packages/torch/functional.py:504: UserWarning: torch.meshgrid: in an upcoming release, it will be required to pass the indexing argument. (Triggered internally at /data/miniconda3/envs/opence-1.7/conda-bld/pytorch-base_1672876060819/work/aten/src/ATen/native/TensorShape.cpp:3190.)\n",
      "  return _VF.meshgrid(tensors, **kwargs)  # type: ignore[attr-defined]\n"
     ]
    },
    {
     "name": "stdout",
     "output_type": "stream",
     "text": [
      "<detectron2.solver.lr_scheduler.LRMultiplier object at 0x7ffd38077fd0>\n",
      "saving test_informer\n",
      "<detectron2.solver.lr_scheduler.LRMultiplier object at 0x7ffd3c8cf910>\n",
      "Iteration:  5  time:  4.670582711696625e-07 dict_keys(['loss_cls', 'loss_box_reg', 'loss_mask', 'redshift_loss', 'loss_rpn_cls', 'loss_rpn_loc']) [0.6180359125137329, 0.2224951982498169, 0.6510549783706665, 0.10252635926008224, 0.35783475637435913, 0.3508787155151367] val loss:  0 lr:  [0.0001]\n",
      "Iteration:  10  time:  5.860347300767899e-07 dict_keys(['loss_cls', 'loss_box_reg', 'loss_mask', 'redshift_loss', 'loss_rpn_cls', 'loss_rpn_loc']) [0.6356019973754883, 0.21548715233802795, 0.6499048471450806, 0.10431337356567383, 0.3457149267196655, 0.25347018241882324] val loss:  0 lr:  [0.0001]\n",
      "Iteration:  15  time:  5.401670932769775e-07 dict_keys(['loss_cls', 'loss_box_reg', 'loss_mask', 'redshift_loss', 'loss_rpn_cls', 'loss_rpn_loc']) [1.0274044275283813, 0.3286333680152893, 0.6354073286056519, 0.10416862368583679, 0.354312539100647, 0.8173131942749023] val loss:  0 lr:  [0.0001]\n",
      "Iteration:  20  time:  4.470348358154297e-07 dict_keys(['loss_cls', 'loss_box_reg', 'loss_mask', 'redshift_loss', 'loss_rpn_cls', 'loss_rpn_loc']) [0.6998026371002197, 0.23761145770549774, 0.6447119116783142, 0.10092363506555557, 0.3548352122306824, 0.4970526099205017] val loss:  0 lr:  [0.0001]\n",
      "saving test_informer\n",
      "Inserting handle into data store.  model_Inform_DeepDISC: inprogress_test_informer.pkl, Inform_DeepDISC\n"
     ]
    },
    {
     "data": {
      "text/plain": [
       "<rail.core.data.ModelHandle at 0x7fffa84cde80>"
      ]
     },
     "execution_count": 11,
     "metadata": {},
     "output_type": "execute_result"
    }
   ],
   "source": [
    "Inform.inform(training, metadatahandle)"
   ]
  },
  {
   "cell_type": "markdown",
   "id": "1c69b958",
   "metadata": {
    "tags": []
   },
   "source": [
    "### Inference"
   ]
  },
  {
   "cell_type": "code",
   "execution_count": 12,
   "id": "7070dcb2-0de8-42af-af8d-f40c689b7cb1",
   "metadata": {},
   "outputs": [],
   "source": [
    "metadatahandle = DS.add_data(\"metadata\", test_metadata, JsonHandle, path=test_metadatafile)"
   ]
  },
  {
   "cell_type": "code",
   "execution_count": 13,
   "id": "7360caf2-5b3d-4998-be0c-3ca28fb5e035",
   "metadata": {},
   "outputs": [],
   "source": [
    "# Estimator = DeepDiscEstimator.make_stage(name='DeepDiscEstimator',\n",
    "#                                       model=Inform.get_handle('model'), **deep_dict)\n",
    "\n",
    "Estimator = DeepDiscPDFEstimator.make_stage(\n",
    "    name=\"DeepDiscEstimator\",\n",
    "    model=Inform.get_handle(\"model\"),\n",
    "    #hdf5_groupname=\"images\",\n",
    "    **deep_dict,\n",
    ")"
   ]
  },
  {
   "cell_type": "code",
   "execution_count": 14,
   "id": "c74bb222-f53c-415c-acab-f8b978a2af5d",
   "metadata": {},
   "outputs": [
    {
     "name": "stdout",
     "output_type": "stream",
     "text": [
      "caching data\n",
      "\u001b[32m[12/11 16:28:03 d2.checkpoint.detection_checkpoint]: \u001b[0m[DetectionCheckpointer] Loading from ./test_informer.pth ...\n",
      "Processing Data\n",
      "Matching objects\n",
      "Inserting handle into data store.  output_DeepDiscEstimator: inprogress_output_DeepDiscEstimator.hdf5, DeepDiscEstimator\n",
      "Inserting handle into data store.  truth_DeepDiscEstimator: inprogress_truth_DeepDiscEstimator, DeepDiscEstimator\n"
     ]
    }
   ],
   "source": [
    "results = Estimator.estimate(testing, metadatahandle)"
   ]
  },
  {
   "cell_type": "code",
   "execution_count": 15,
   "id": "5b402ba2-3779-44e7-8654-113f19731464",
   "metadata": {},
   "outputs": [
    {
     "data": {
      "text/plain": [
       "<qp.ensemble.Ensemble at 0x7ffdc3377b80>"
      ]
     },
     "execution_count": 15,
     "metadata": {},
     "output_type": "execute_result"
    }
   ],
   "source": [
    "res = results.read()\n",
    "res"
   ]
  },
  {
   "cell_type": "code",
   "execution_count": 16,
   "id": "41d2b4a5-0422-4f8f-8e08-49811549c46a",
   "metadata": {},
   "outputs": [],
   "source": [
    "truth = Estimator.get_handle('truth')\n"
   ]
  },
  {
   "cell_type": "code",
   "execution_count": 17,
   "id": "94da4c4a-93c6-4203-a1b3-4fe186bad242",
   "metadata": {},
   "outputs": [],
   "source": [
    "ztrue = truth.data['redshift']"
   ]
  },
  {
   "cell_type": "code",
   "execution_count": 18,
   "id": "b958d33f-c330-4149-aa97-fe1970555bc6",
   "metadata": {},
   "outputs": [],
   "source": [
    "from rail.evaluation.evaluator import Evaluator"
   ]
  },
  {
   "cell_type": "code",
   "execution_count": 19,
   "id": "18e185eb-397a-41b8-978e-871a9f624cab",
   "metadata": {},
   "outputs": [],
   "source": [
    "deep_eval_dict = dict(\n",
    "    chunk_size=100,\n",
    "    zmin=-1,\n",
    "    zmax=5,\n",
    "    nzbins=200,\n",
    "    epochs=20,\n",
    "    output_name=\"test_evaluator\",\n",
    "    point_metrics=''\n",
    "    \n",
    ")"
   ]
  },
  {
   "cell_type": "code",
   "execution_count": 20,
   "id": "f7417fa3-0c51-4a04-837c-f9e54431eeda",
   "metadata": {},
   "outputs": [],
   "source": [
    "DeepEvaluator = Evaluator.make_stage(name=\"DeepDiscEvaluator\",**deep_eval_dict)"
   ]
  },
  {
   "cell_type": "code",
   "execution_count": 21,
   "id": "e7ba5ca0-7ded-4b4c-ac63-264c8c23ec98",
   "metadata": {},
   "outputs": [
    {
     "name": "stderr",
     "output_type": "stream",
     "text": [
      "WARNING:root:Number of pit samples is smaller than the evaluation grid size. Will create a new evaluation grid with size = number of pit samples\n"
     ]
    },
    {
     "name": "stdout",
     "output_type": "stream",
     "text": [
      "Inserting handle into data store.  input: None, DeepDiscEvaluator\n",
      "Inserting handle into data store.  output_DeepDiscEvaluator: inprogress_output_DeepDiscEvaluator.hdf5, DeepDiscEvaluator\n"
     ]
    }
   ],
   "source": [
    "eval_res = DeepEvaluator.evaluate(res,truth)"
   ]
  },
  {
   "cell_type": "code",
   "execution_count": 22,
   "id": "6cf80908-9582-45ca-b78f-f5163fb415a7",
   "metadata": {},
   "outputs": [
    {
     "data": {
      "text/plain": [
       "{'PIT_AD_stat': array([-0.34717129]),\n",
       " 'PIT_AD_pval': array([nan]),\n",
       " 'PIT_AD_significance_level': array([0.25]),\n",
       " 'PIT_CvM_stat': array([0.29620651]),\n",
       " 'PIT_CvM_pval': array([nan]),\n",
       " 'PIT_CvM_significance_level': array([nan]),\n",
       " 'PIT_KS_stat': array([0.1987354]),\n",
       " 'PIT_KS_pval': array([nan]),\n",
       " 'PIT_KS_significance_level': array([nan]),\n",
       " 'PIT_OutRate_stat': array([nan]),\n",
       " 'PIT_OutRate_pval': array([nan]),\n",
       " 'PIT_OutRate_significance_level': array([nan]),\n",
       " 'CDE_stat': array([-0.36182664]),\n",
       " 'CDE_pval': array([nan])}"
      ]
     },
     "execution_count": 22,
     "metadata": {},
     "output_type": "execute_result"
    }
   ],
   "source": [
    "eval_res.data"
   ]
  },
  {
   "cell_type": "code",
   "execution_count": 23,
   "id": "f874ba48-786b-46d9-845d-d659c86cdc78",
   "metadata": {},
   "outputs": [
    {
     "name": "stderr",
     "output_type": "stream",
     "text": [
      "WARNING:root:Number of pit samples is smaller than the evaluation grid size. Will create a new evaluation grid with size = number of pit samples\n"
     ]
    }
   ],
   "source": [
    "from qp.metrics.pit import PIT\n",
    "from utils import * #plot_pit_qq, ks_plot\n",
    "pitobj = PIT(res, ztrue)\n",
    "pit_out_rate = pitobj.evaluate_PIT_outlier_rate()"
   ]
  },
  {
   "cell_type": "code",
   "execution_count": 24,
   "id": "e6de28b4-61c2-4d6f-ab20-46a0d369364f",
   "metadata": {},
   "outputs": [],
   "source": [
    "from qp.ensemble import Ensemble\n",
    "\n",
    "class Sample(Ensemble):\n",
    "    \"\"\" Expand qp.Ensemble to append true redshifts\n",
    "    array, metadata, and specific plots. \"\"\"\n",
    "\n",
    "    def __init__(self, pdfs, zgrid, ztrue, photoz_mode=None, code=\"\", name=\"\", n_quant=100):\n",
    "        \"\"\"Class constructor\n",
    "\n",
    "        Parameters\n",
    "        ----------\n",
    "        pdfs: `ndarray`\n",
    "            photo-z PDFs array, shape=(Ngals, Nbins)\n",
    "        zgrid: `ndarray`\n",
    "            PDF bins centers, shape=(Nbins,)\n",
    "        ztrue: `ndarray`\n",
    "            true redshifts, shape=(Ngals,)\n",
    "        photoz_mode: `ndarray`\n",
    "            photo-z (PDF mode), shape=(Ngals,)\n",
    "        code: `str`, (optional)\n",
    "            algorithm name (for plot legends)\n",
    "        name: `str`, (optional)\n",
    "            sample name (for plot legends)\n",
    "        \"\"\"\n",
    "\n",
    "        super().__init__(interp, data=dict(xvals=zgrid, yvals=pdfs))\n",
    "        self._pdfs = pdfs\n",
    "        self._zgrid = zgrid\n",
    "        self._ztrue = ztrue\n",
    "        self._photoz_mode = photoz_mode\n",
    "        self._code = code\n",
    "        self._name = name\n",
    "        self._n_quant = n_quant\n",
    "        self._pit = None\n",
    "        self._qq = None\n",
    "\n",
    "\n",
    "    @property\n",
    "    def code(self):\n",
    "        \"\"\"Photo-z code/algorithm name\"\"\"\n",
    "        return self._code\n",
    "\n",
    "    @property\n",
    "    def name(self):\n",
    "        \"\"\"Sample name\"\"\"\n",
    "        return self._name\n",
    "\n",
    "    @property\n",
    "    def ztrue(self):\n",
    "        \"\"\"True redshifts array\"\"\"\n",
    "        return self._ztrue\n",
    "\n",
    "    @property\n",
    "    def zgrid(self):\n",
    "        \"\"\"Redshift grid (binning)\"\"\"\n",
    "        return self._zgrid\n",
    "\n",
    "    @property\n",
    "    def photoz_mode(self):\n",
    "        \"\"\"Photo-z (mode) array\"\"\"\n",
    "        return self._photoz_mode\n",
    "\n",
    "    @property\n",
    "    def n_quant(self):\n",
    "        return self._n_quant\n",
    "\n",
    "    @property\n",
    "    def pit(self):\n",
    "        if self._pit is None:\n",
    "            pit_array = np.array([self[i].cdf(self.ztrue[i])[0][0] for i in range(len(self))])\n",
    "            self._pit = pit_array\n",
    "        return self._pit\n",
    "\n",
    "    @property\n",
    "    def qq(self, n_quant=100):\n",
    "        q_theory = np.linspace(0., 1., n_quant)\n",
    "        q_data = np.quantile(self.pit, q_theory)\n",
    "        self._qq = (q_theory, q_data)\n",
    "        return self._qq\n",
    "\n",
    "    def __len__(self):\n",
    "        if len(self._ztrue) != len(self._pdfs):\n",
    "            raise ValueError(\"Number of pdfs and true redshifts do not match!!!\")\n",
    "        return len(self._ztrue)\n",
    "\n",
    "    def __str__(self):\n",
    "        code_str = f'Algorithm: {self._code}'\n",
    "        name_str = f'Sample: {self._name}'\n",
    "        line_str = '-' * (max(len(code_str), len(name_str)))\n",
    "        text = str(line_str + '\\n' +\n",
    "                   name_str + '\\n' +\n",
    "                   code_str + '\\n' +\n",
    "                   line_str + '\\n' +\n",
    "                   f'{len(self)} PDFs with {len(self.zgrid)} probabilities each \\n' +\n",
    "                   f'qp representation: {self.gen_class.name} \\n' +\n",
    "                   f'z grid: {len(self.zgrid)} z values from {np.min(self.zgrid)} to {np.max(self.zgrid)} inclusive')\n",
    "        return text\n",
    "\n",
    "    def plot_pdfs(self, gals, show_ztrue=True, show_photoz_mode=False):\n",
    "        colors = plot_pdfs(self, gals, show_ztrue=show_ztrue,\n",
    "                                 show_photoz_mode=show_photoz_mode)\n",
    "        return colors\n",
    "\n",
    "    def plot_old_valid(self, gals=None, colors=None):\n",
    "        old_metrics_table = plot_old_valid(self, gals=gals, colors=colors)\n",
    "        return old_metrics_table\n",
    "\n",
    "    def plot_pit_qq(self, bins=None, label=None, title=None, show_pit=True,\n",
    "                    show_qq=True, show_pit_out_rate=True, savefig=False):\n",
    "        \"\"\"Make plot PIT-QQ as Figure 2 from Schmidt et al. 2020.\"\"\"\n",
    "        fig_filename = plot_pit_qq(self, bins=bins, label=label, title=title,\n",
    "                                         show_pit=show_pit, show_qq=show_qq,\n",
    "                                         show_pit_out_rate=show_pit_out_rate,\n",
    "                                         savefig=savefig)\n",
    "        return fig_filename"
   ]
  },
  {
   "cell_type": "code",
   "execution_count": 25,
   "id": "ee26258c-8401-45ed-a75d-92da6ed7f41b",
   "metadata": {},
   "outputs": [],
   "source": [
    "def plot_pit_qq(pdfs, zgrid, ztrue, bins=None, title=None, code=None,\n",
    "                show_pit=True, show_qq=True,\n",
    "                pit_out_rate=None, savefig=False) -> str:\n",
    "    \"\"\"Quantile-quantile plot\n",
    "    Ancillary function to be used by class Metrics.\n",
    "​\n",
    "    Parameters\n",
    "    ----------\n",
    "    pit: `PIT` object\n",
    "        class from metrics.py\n",
    "    bins: `int`, optional\n",
    "        number of PIT bins\n",
    "        if None, use the same number of quantiles (sample.n_quant)\n",
    "    title: `str`, optional\n",
    "        if None, use formatted sample's name (sample.name)\n",
    "    label: `str`, optional\n",
    "        if None, use formatted code's name (sample.code)\n",
    "    show_pit: `bool`, optional\n",
    "        include PIT histogram (default=True)\n",
    "    show_qq: `bool`, optional\n",
    "        include QQ plot (default=True)\n",
    "    pit_out_rate: `ndarray`, optional\n",
    "        print metric value on the plot panel (default=None)\n",
    "    savefig: `bool`, optional\n",
    "        save plot in .png file (default=False)\n",
    "    \"\"\"\n",
    "\n",
    "    if bins is None:\n",
    "        bins = 100\n",
    "    if title is None:\n",
    "        title = \"\"\n",
    "\n",
    "    if code is None:\n",
    "        code = \"\"\n",
    "        label = \"\"\n",
    "    else:\n",
    "        label = code + \"\\n\"\n",
    "\n",
    "    if pit_out_rate is not None:\n",
    "        try:\n",
    "            label += \"PIT$_{out}$: \"\n",
    "            label += f\"{float(pit_out_rate):.4f}\"\n",
    "        except:\n",
    "            print(\"Unsupported format for pit_out_rate.\")\n",
    "\n",
    "    plt.figure(figsize=[4, 5])\n",
    "    gs = gridspec.GridSpec(2, 1, height_ratios=[3, 1])\n",
    "    ax0 = plt.subplot(gs[0])\n",
    "    sample = Sample(pdfs, zgrid, ztrue)\n",
    "\n",
    "    if show_qq:\n",
    "        ax0.plot(sample.qq[0], sample.qq[1], c='r',\n",
    "                 linestyle='-', linewidth=3, label=label)\n",
    "        ax0.plot([0, 1], [0, 1], color='k', linestyle='--', linewidth=2)\n",
    "        ax0.set_ylabel(\"Q$_{data}$\", fontsize=18)\n",
    "        plt.ylim(-0.001, 1.001)\n",
    "    plt.xlim(-0.001, 1.001)\n",
    "    plt.title(title)\n",
    "    if show_pit:\n",
    "        fzdata = Ensemble(interp, data=dict(xvals=zgrid, yvals=pdfs))\n",
    "        pitobj = PIT(fzdata, ztrue)\n",
    "        pit_vals = np.array(pitobj.pit_samps)\n",
    "        pit_out_rate = pitobj.evaluate_PIT_outlier_rate()\n",
    "        \n",
    "        try:\n",
    "            y_uni = float(len(pit_vals)) / float(bins)\n",
    "        except:\n",
    "            y_uni = float(len(pit_vals)) / float(len(bins))\n",
    "        if not show_qq:\n",
    "            ax0.hist(pit_vals, bins=bins, alpha=0.7, label=label)\n",
    "            ax0.set_ylabel('Number')\n",
    "            ax0.hlines(y_uni, xmin=0, xmax=1, color='k')\n",
    "            plt.ylim(0, )  # -0.001, 1.001)\n",
    "        else:\n",
    "            ax1 = ax0.twinx()\n",
    "            ax1.hist(pit_vals, bins=bins, alpha=0.7)\n",
    "            ax1.set_ylabel('Number')\n",
    "            ax1.hlines(y_uni, xmin=0, xmax=1, color='k')\n",
    "    leg = ax0.legend(handlelength=0, handletextpad=0, fancybox=True)\n",
    "    for item in leg.legendHandles:\n",
    "        item.set_visible(False)\n",
    "    if show_qq:\n",
    "        ax2 = plt.subplot(gs[1])\n",
    "        ax2.plot(sample.qq[0], (sample.qq[1] - sample.qq[0]), c='r', linestyle='-', linewidth=3)\n",
    "        plt.ylabel(\"$\\Delta$Q\", fontsize=18)\n",
    "        ax2.plot([0, 1], [0, 0], color='k', linestyle='--', linewidth=2)\n",
    "        plt.xlim(-0.001, 1.001)\n",
    "        plt.ylim(np.min([-0.12, np.min(sample.qq[1] - sample.qq[0]) * 1.05]),\n",
    "                 np.max([0.12, np.max(sample.qq[1] - sample.qq[0]) * 1.05]))\n",
    "    if show_pit:\n",
    "        if show_qq:\n",
    "            plt.xlabel(\"Q$_{theory}$ / PIT Value\", fontsize=18)\n",
    "        else:\n",
    "            plt.xlabel(\"PIT Value\", fontsize=18)\n",
    "    else:\n",
    "        if show_qq:\n",
    "            plt.xlabel(\"Q$_{theory}$\", fontsize=18)\n",
    "    if savefig:\n",
    "        fig_filename = str(\"plot_pit_qq_\" +\n",
    "                           f\"{(code).replace(' ', '_')}.png\")\n",
    "        plt.savefig(fig_filename)\n",
    "    else:\n",
    "        fig_filename = None\n",
    "\n",
    "    return fig_filename"
   ]
  },
  {
   "cell_type": "code",
   "execution_count": 26,
   "id": "7a1263c0-1b38-4042-956c-902f1065c611",
   "metadata": {},
   "outputs": [
    {
     "name": "stderr",
     "output_type": "stream",
     "text": [
      "WARNING:root:Number of pit samples is smaller than the evaluation grid size. Will create a new evaluation grid with size = number of pit samples\n",
      "/tmp/ipykernel_3121028/663945040.py:80: MatplotlibDeprecationWarning: The legendHandles attribute was deprecated in Matplotlib 3.7 and will be removed two minor releases later. Use legend_handles instead.\n",
      "  for item in leg.legendHandles:\n"
     ]
    },
    {
     "data": {
      "image/png": "[encoded data removed]",
      "text/plain": [
       "<Figure size 400x500 with 3 Axes>"
      ]
     },
     "metadata": {},
     "output_type": "display_data"
    }
   ],
   "source": [
    "import matplotlib.pyplot as plt\n",
    "from matplotlib import gridspec\n",
    "from qp import interp\n",
    "\n",
    "\n",
    "zgrid = np.linspace(-1,5,200)\n",
    "pdfs = res.objdata()['yvals']\n",
    "plot_pit_qq(pdfs, zgrid, ztrue, title=\"PIT-QQ - toy data\", code=\"DeepDISC\",\n",
    "                pit_out_rate=pit_out_rate, savefig=False)"
   ]
  },
  {
   "cell_type": "code",
   "execution_count": 27,
   "id": "49bb4cfe-af95-45f1-91f1-ed9c08009f82",
   "metadata": {},
   "outputs": [
    {
     "data": {
      "text/plain": [
       "{'yvals': array([[3.77518555e-03, 4.28129010e-03, 4.84738566e-03, ...,\n",
       "         5.79195234e-06, 4.77436396e-06, 3.92919124e-06],\n",
       "        [4.76507803e-03, 5.37903097e-03, 6.06249193e-03, ...,\n",
       "         6.15650533e-06, 5.08963189e-06, 4.20099148e-06],\n",
       "        [3.77560535e-03, 4.28175608e-03, 4.84790390e-03, ...,\n",
       "         5.79214631e-06, 4.77453280e-06, 3.92933406e-06],\n",
       "        ...,\n",
       "        [6.92137612e-04, 8.16282812e-04, 9.60735808e-04, ...,\n",
       "         7.38316969e-07, 5.82823753e-07, 4.59141973e-07],\n",
       "        [3.77518555e-03, 4.28129010e-03, 4.84738566e-03, ...,\n",
       "         5.79195234e-06, 4.77436396e-06, 3.92919124e-06],\n",
       "        [2.96421382e-03, 3.37946760e-03, 3.84645826e-03, ...,\n",
       "         4.71864772e-06, 3.87031300e-06, 3.16918900e-06]])}"
      ]
     },
     "execution_count": 27,
     "metadata": {},
     "output_type": "execute_result"
    }
   ],
   "source": [
    "res.objdata()"
   ]
  },
  {
   "cell_type": "code",
   "execution_count": null,
   "id": "78982146-0b5d-49d3-bb04-77931ea3aa5b",
   "metadata": {},
   "outputs": [],
   "source": [
    "5"
   ]
  },
  {
   "cell_type": "code",
   "execution_count": null,
   "id": "73b2cf39-8446-4888-b304-85637c2fba92",
   "metadata": {},
   "outputs": [],
   "source": []
  }
 ],
 "metadata": {
  "kernelspec": {
   "display_name": "Python [conda env:.conda-ddrailnv]",
   "language": "python",
   "name": "conda-env-.conda-ddrailnv-py"
  },
  "language_info": {
   "codemirror_mode": {
    "name": "ipython",
    "version": 3
   },
   "file_extension": ".py",
   "mimetype": "text/x-python",
   "name": "python",
   "nbconvert_exporter": "python",
   "pygments_lexer": "ipython3",
   "version": "3.9.18"
  }
 },
 "nbformat": 4,
 "nbformat_minor": 5
}
