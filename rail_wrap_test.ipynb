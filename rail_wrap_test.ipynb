{
 "cells": [
  {
   "cell_type": "code",
   "execution_count": 1,
   "id": "1c2a2dbf",
   "metadata": {},
   "outputs": [],
   "source": [
    "# Training script for LazyConfig models\n",
    "try:\n",
    "    # ignore ShapelyDeprecationWarning from fvcore\n",
    "    import warnings\n",
    "\n",
    "    from shapely.errors import ShapelyDeprecationWarning\n",
    "\n",
    "    warnings.filterwarnings(\"ignore\", category=ShapelyDeprecationWarning)\n",
    "\n",
    "except:\n",
    "    pass\n",
    "warnings.filterwarnings(\"ignore\", category=RuntimeWarning)\n",
    "warnings.filterwarnings(\"ignore\", category=UserWarning)\n",
    "\n",
    "# Some basic setup:\n",
    "# Setup detectron2 logger\n",
    "from detectron2.utils.logger import setup_logger\n",
    "\n",
    "setup_logger()\n",
    "\n",
    "import gc\n",
    "import os\n",
    "import time\n",
    "\n",
    "import detectron2.utils.comm as comm\n",
    "\n",
    "# import some common libraries\n",
    "import numpy as np\n",
    "import torch\n",
    "\n",
    "# import some common detectron2 utilities\n",
    "from detectron2.config import LazyConfig, get_cfg\n",
    "import detectron2.data as data\n",
    "from detectron2.engine import (\n",
    "    launch,\n",
    ")\n",
    "\n",
    "from deepdisc.data_format.augment_image import train_augs\n",
    "from deepdisc.data_format.image_readers import DC2ImageReader\n",
    "from deepdisc.data_format.register_data import register_data_set#, register_loaded_data_set\n",
    "from deepdisc.model.loaders import (\n",
    "    RedshiftFlatDictMapper,\n",
    "    return_test_loader,\n",
    "    return_train_loader,\n",
    ")\n",
    "from deepdisc.model.models import RedshiftPointCasROIHeads, RedshiftPointROIHeads, RedshiftPDFROIHeads, return_lazy_model\n",
    "from deepdisc.training.trainers import (\n",
    "    return_evallosshook,\n",
    "    return_lazy_trainer,\n",
    "    return_optimizer,\n",
    "    return_savehook,\n",
    "    return_schedulerhook,\n",
    ")\n",
    "from deepdisc.utils.parse_arguments import make_training_arg_parser\n",
    "\n"
   ]
  },
  {
   "cell_type": "code",
   "execution_count": 2,
   "id": "6167f21e-0bbc-45cb-bc06-aac14f765fa4",
   "metadata": {},
   "outputs": [],
   "source": [
    "#import importlib\n",
    "#importlib.reload(rail.estimation.algos.deepdisc)"
   ]
  },
  {
   "cell_type": "code",
   "execution_count": 3,
   "id": "5244b7ff-1501-47ad-b74e-c575f9758089",
   "metadata": {},
   "outputs": [],
   "source": [
    "#from rail.estimation.algos.deepdisc import DeepDiscInformer\n",
    "import rail\n",
    "from rail.estimation.algos.deepdisc import *\n",
    "from rail.core.data import TableHandle\n",
    "from rail.core.stage import RailStage\n",
    "\n",
    "from rail.deepdisc.configs import *"
   ]
  },
  {
   "cell_type": "code",
   "execution_count": 4,
   "id": "4e82e6de-f6ec-46b5-a6a7-60e79cd79c31",
   "metadata": {},
   "outputs": [],
   "source": [
    "cfgfile = \"/home/shared/hsc/detectron2/configs/COCO-InstanceSegmentation/mask_rcnn_R_50_FPN_1x.py\"\n",
    "dirpath = './tests/deepdisc/test_data/dc2/'\n",
    "output_dir = './'\n",
    "output_name = 'test'\n",
    "\n",
    "trainfile = dirpath + \"flattened_data_test.npy\"\n",
    "testfile = dirpath + \"flattened_data_test.npy\"\n",
    "classes = ['object']\n",
    "numclasses = 1"
   ]
  },
  {
   "cell_type": "code",
   "execution_count": 5,
   "id": "4ed14575-d55b-4400-90f9-752f27cc75c6",
   "metadata": {},
   "outputs": [
    {
     "data": {
      "text/plain": [
       "'detectron2://ImageNetPretrained/MSRA/R-50.pkl'"
      ]
     },
     "execution_count": 5,
     "metadata": {},
     "output_type": "execute_result"
    }
   ],
   "source": [
    "cfg = get_lazy_config(cfgfile, 1, 1)\n",
    "cfg.train.init_checkpoint"
   ]
  },
  {
   "cell_type": "code",
   "execution_count": 6,
   "id": "ffd06982-1e98-4b8a-a3a8-b68ac71cd6bc",
   "metadata": {},
   "outputs": [],
   "source": [
    "DS = RailStage.data_store\n",
    "DS.__class__.allow_overwrite = True"
   ]
  },
  {
   "cell_type": "code",
   "execution_count": null,
   "id": "9940c5c2-b692-4e3b-a595-0afec0c21e93",
   "metadata": {},
   "outputs": [],
   "source": []
  },
  {
   "cell_type": "code",
   "execution_count": 7,
   "id": "ef5887b5-f2d2-4047-8d81-af04dfa54bf7",
   "metadata": {},
   "outputs": [],
   "source": [
    "testdata = np.load('./tests/deepdisc/test_data/dc2/flattened_data_test.npy')\n",
    "mapper = RedshiftFlatDictMapper().map_data"
   ]
  },
  {
   "cell_type": "code",
   "execution_count": 8,
   "id": "12521313-e75d-4ebb-afd4-03d65a3d6931",
   "metadata": {},
   "outputs": [
    {
     "data": {
      "text/plain": [
       "10"
      ]
     },
     "execution_count": 8,
     "metadata": {},
     "output_type": "execute_result"
    }
   ],
   "source": [
    "len(testdata)"
   ]
  },
  {
   "cell_type": "code",
   "execution_count": 9,
   "id": "d7e9a2e4-0bae-4b0d-9e62-60fd09795e8a",
   "metadata": {},
   "outputs": [],
   "source": [
    "dataset_dicts={}\n",
    "dds = []\n",
    "for row in testdata:\n",
    "    dds.append(mapper(row))\n",
    "dataset_dicts['test'] = dds"
   ]
  },
  {
   "cell_type": "code",
   "execution_count": 10,
   "id": "01f48f9e-16a3-423d-a550-ed9298b6fafb",
   "metadata": {},
   "outputs": [],
   "source": [
    "training = DS.add_data(\"training\", testdata, TableHandle)\n",
    "testing = DS.add_data(\"testing\", testdata, TableHandle)"
   ]
  },
  {
   "cell_type": "code",
   "execution_count": 11,
   "id": "a57e206a-c5c6-4526-a278-868ef2a6047b",
   "metadata": {},
   "outputs": [],
   "source": [
    "deep_dict = dict(epochs=200,\n",
    "                numclasses=1,\n",
    "                batch_size=1,\n",
    "                output_dir ='./',\n",
    "                cfgfile=\"/home/shared/hsc/detectron2/configs/COCO-InstanceSegmentation/mask_rcnn_R_50_FPN_1x.py\",\n",
    "                output_name ='test_informer')"
   ]
  },
  {
   "cell_type": "code",
   "execution_count": 12,
   "id": "d611ae20-a7c7-4f52-9390-1d27eca138f0",
   "metadata": {},
   "outputs": [],
   "source": [
    "#Inform = DeepDiscInformer.make_stage(name='Inform_DeepDISC', model='detectron2://ImageNetPretrained/MSRA/R-50.pkl', **deep_dict)\n",
    "Inform = DeepDiscInformer.make_stage(name='Inform_DeepDISC', model='test_informer.pkl', **deep_dict)\n"
   ]
  },
  {
   "cell_type": "code",
   "execution_count": 13,
   "id": "87b6a9d1-697e-4bde-abee-e519253daa6f",
   "metadata": {},
   "outputs": [
    {
     "name": "stdout",
     "output_type": "stream",
     "text": [
      "\u001b[32m[12/01 16:56:06 d2.data.build]: \u001b[0mMaking batched data loader with batch_size=1\n",
      "\u001b[32m[12/01 16:56:06 d2.checkpoint.detection_checkpoint]: \u001b[0m[DetectionCheckpointer] Loading from detectron2://ImageNetPretrained/MSRA/R-50.pkl ...\n",
      "\u001b[32m[12/01 16:56:06 d2.checkpoint.c2_model_loading]: \u001b[0mRenaming Caffe2 weights ......\n",
      "\u001b[5m\u001b[31mWARNING\u001b[0m \u001b[32m[12/01 16:56:06 d2.checkpoint.c2_model_loading]: \u001b[0mShape of stem.conv1.weight in checkpoint is torch.Size([64, 3, 7, 7]), while shape of backbone.bottom_up.stem.conv1.weight in model is torch.Size([64, 6, 7, 7]).\n",
      "\u001b[5m\u001b[31mWARNING\u001b[0m \u001b[32m[12/01 16:56:06 d2.checkpoint.c2_model_loading]: \u001b[0mstem.conv1.weight will not be loaded. Please double check and see if this is desired.\n",
      "\u001b[32m[12/01 16:56:06 d2.checkpoint.c2_model_loading]: \u001b[0mFollowing weights matched with submodule backbone.bottom_up - Total num: 53\n"
     ]
    },
    {
     "name": "stderr",
     "output_type": "stream",
     "text": [
      "Some model parameters or buffers are not found in the checkpoint:\n",
      "\u001b[34mbackbone.bottom_up.stem.conv1.weight\u001b[0m\n",
      "\u001b[34mbackbone.fpn_lateral2.{bias, weight}\u001b[0m\n",
      "\u001b[34mbackbone.fpn_lateral3.{bias, weight}\u001b[0m\n",
      "\u001b[34mbackbone.fpn_lateral4.{bias, weight}\u001b[0m\n",
      "\u001b[34mbackbone.fpn_lateral5.{bias, weight}\u001b[0m\n",
      "\u001b[34mbackbone.fpn_output2.{bias, weight}\u001b[0m\n",
      "\u001b[34mbackbone.fpn_output3.{bias, weight}\u001b[0m\n",
      "\u001b[34mbackbone.fpn_output4.{bias, weight}\u001b[0m\n",
      "\u001b[34mbackbone.fpn_output5.{bias, weight}\u001b[0m\n",
      "\u001b[34mproposal_generator.rpn_head.anchor_deltas.{bias, weight}\u001b[0m\n",
      "\u001b[34mproposal_generator.rpn_head.conv.{bias, weight}\u001b[0m\n",
      "\u001b[34mproposal_generator.rpn_head.objectness_logits.{bias, weight}\u001b[0m\n",
      "\u001b[34mroi_heads.box_head.fc1.{bias, weight}\u001b[0m\n",
      "\u001b[34mroi_heads.box_head.fc2.{bias, weight}\u001b[0m\n",
      "\u001b[34mroi_heads.box_predictor.bbox_pred.{bias, weight}\u001b[0m\n",
      "\u001b[34mroi_heads.box_predictor.cls_score.{bias, weight}\u001b[0m\n",
      "\u001b[34mroi_heads.mask_head.deconv.{bias, weight}\u001b[0m\n",
      "\u001b[34mroi_heads.mask_head.mask_fcn1.{bias, weight}\u001b[0m\n",
      "\u001b[34mroi_heads.mask_head.mask_fcn2.{bias, weight}\u001b[0m\n",
      "\u001b[34mroi_heads.mask_head.mask_fcn3.{bias, weight}\u001b[0m\n",
      "\u001b[34mroi_heads.mask_head.mask_fcn4.{bias, weight}\u001b[0m\n",
      "\u001b[34mroi_heads.mask_head.predictor.{bias, weight}\u001b[0m\n",
      "\u001b[34mroi_heads.redshift_fc.0.{bias, weight}\u001b[0m\n",
      "\u001b[34mroi_heads.redshift_fc.2.{bias, weight}\u001b[0m\n",
      "The checkpoint state_dict contains keys that are not used by the model:\n",
      "  \u001b[35mfc1000.{bias, weight}\u001b[0m\n",
      "  \u001b[35mstem.conv1.{bias, weight}\u001b[0m\n"
     ]
    },
    {
     "name": "stdout",
     "output_type": "stream",
     "text": [
      "Model training:\n",
      "\u001b[32m[12/01 16:56:06 d2.engine.train_loop]: \u001b[0mStarting training from iteration 0\n",
      "<detectron2.solver.lr_scheduler.LRMultiplier object at 0x7ffdc0f6c910>\n",
      "Iteration:  5  time:  5.330657586455345e-07 dict_keys(['loss_cls', 'loss_box_reg', 'redshift_loss', 'loss_rpn_cls', 'loss_rpn_loc']) [0.08687936514616013, 0.0319983996450901, 0.08183295460407622, 0.5904174447059631, 0.0012347408337518573] val loss:  0 lr:  [0.001]\n",
      "Iteration:  10  time:  4.860339686274529e-07 dict_keys(['loss_cls', 'loss_box_reg', 'redshift_loss', 'loss_rpn_cls', 'loss_rpn_loc']) [0.10693631321191788, 0.0009584849467501044, 0.09898990684640033, 0.1155373752117157, 0.0026927324943244457] val loss:  0.7558740005624784 lr:  [0.001]\n",
      "Iteration:  15  time:  3.7904828786849976e-07 dict_keys(['loss_cls', 'loss_box_reg', 'redshift_loss', 'loss_rpn_cls', 'loss_rpn_loc']) [0.7131125330924988, 0.010698140598833561, 0.08806353672680713, 0.017151888459920883, 0.003353145206347108] val loss:  0.2721466369486179 lr:  [0.001]\n",
      "Iteration:  20  time:  4.769535735249519e-07 dict_keys(['loss_cls', 'loss_box_reg', 'redshift_loss', 'loss_rpn_cls', 'loss_rpn_loc']) [0.07163672894239426, 0.0027786714490503073, 0.12138187771957801, 0.06300009042024612, 0.0006592281861230731] val loss:  0.20366278177490504 lr:  [0.001]\n",
      "Iteration:  25  time:  5.409820005297661e-07 dict_keys(['loss_cls', 'loss_box_reg', 'redshift_loss', 'loss_rpn_cls', 'loss_rpn_loc']) [0.05076618120074272, 0.0020359517075121403, 0.0796900776330039, 0.04737043380737305, 0.00044006010284647346] val loss:  0.19874217779421782 lr:  [0.001]\n",
      "Iteration:  30  time:  5.84055669605732e-07 dict_keys(['loss_cls', 'loss_box_reg', 'redshift_loss', 'loss_rpn_cls', 'loss_rpn_loc']) [0.0600929856300354, 0.0406324565410614, 0.061007511441934885, 0.02741837128996849, 0.0006866002804599702] val loss:  0.15381737744830137 lr:  [0.001]\n",
      "Iteration:  35  time:  5.230540409684181e-07 dict_keys(['loss_cls', 'loss_box_reg', 'redshift_loss', 'loss_rpn_cls', 'loss_rpn_loc']) [0.03125191107392311, 0.025341859087347984, 0.06038825093638692, 0.01572505198419094, 0.0008856806089170277] val loss:  0.1722319375924824 lr:  [0.001]\n",
      "Iteration:  40  time:  4.860339686274529e-07 dict_keys(['loss_cls', 'loss_box_reg', 'redshift_loss', 'loss_rpn_cls', 'loss_rpn_loc']) [0.02058708481490612, 0.028902312740683556, 0.05572136847949248, 0.012451574206352234, 0.0012078136205673218] val loss:  0.1365829533474761 lr:  [0.001]\n",
      "Iteration:  45  time:  3.969762474298477e-07 dict_keys(['loss_cls', 'loss_box_reg', 'redshift_loss', 'loss_rpn_cls', 'loss_rpn_loc']) [0.004435101058334112, 0.028463734313845634, 0.06997197520196727, 0.010417204350233078, 0.0004610008909367025] val loss:  0.11264655032705156 lr:  [0.001]\n",
      "Iteration:  50  time:  5.17931766808033e-07 dict_keys(['loss_cls', 'loss_box_reg', 'redshift_loss', 'loss_rpn_cls', 'loss_rpn_loc']) [0.07802068442106247, 0.10005497932434082, 0.1228615932386068, 0.007537108846008778, 0.0004912540898658335] val loss:  0.08234527737290812 lr:  [0.001]\n",
      "Iteration:  55  time:  3.5099219530820847e-07 dict_keys(['loss_cls', 'loss_box_reg', 'redshift_loss', 'loss_rpn_cls', 'loss_rpn_loc']) [0.008065268397331238, 0.006711124442517757, 0.046684176681804336, 0.0089432243257761, 0.00054544786689803] val loss:  0.10165621147862111 lr:  [0.001]\n",
      "Iteration:  60  time:  5.100155249238014e-07 dict_keys(['loss_cls', 'loss_box_reg', 'redshift_loss', 'loss_rpn_cls', 'loss_rpn_loc']) [0.017044540494680405, 0.02069685235619545, 0.0630373438435492, 0.009785359725356102, 0.0005061141564510763] val loss:  0.09845936703479416 lr:  [0.001]\n",
      "Iteration:  65  time:  6.069894880056381e-07 dict_keys(['loss_cls', 'loss_box_reg', 'redshift_loss', 'loss_rpn_cls', 'loss_rpn_loc']) [0.00780165521427989, 0.008987454697489738, 0.0403771689521385, 0.007902566343545914, 0.00025085097877308726] val loss:  0.08743833320088303 lr:  [0.001]\n",
      "Iteration:  70  time:  5.019828677177429e-07 dict_keys(['loss_cls', 'loss_box_reg', 'redshift_loss', 'loss_rpn_cls', 'loss_rpn_loc']) [0.006798956077545881, 0.013825545087456703, 0.13962003879740575, 0.004589930176734924, 0.00024303561076521873] val loss:  0.06263249826956344 lr:  [0.001]\n",
      "Iteration:  75  time:  5.629844963550568e-07 dict_keys(['loss_cls', 'loss_box_reg', 'redshift_loss', 'loss_rpn_cls', 'loss_rpn_loc']) [0.0017056679353117943, 0.015291577205061913, 0.05327686538936598, 0.004702035803347826, 0.00034354880335740745] val loss:  0.060281561140899866 lr:  [0.001]\n",
      "Iteration:  80  time:  4.700850695371628e-07 dict_keys(['loss_cls', 'loss_box_reg', 'redshift_loss', 'loss_rpn_cls', 'loss_rpn_loc']) [0.0026682657189667225, 0.02352105639874935, 0.03003228848651196, 0.0037210010923445225, 0.00032531842589378357] val loss:  0.05445981188050132 lr:  [0.001]\n",
      "Iteration:  85  time:  6.170012056827545e-07 dict_keys(['loss_cls', 'loss_box_reg', 'redshift_loss', 'loss_rpn_cls', 'loss_rpn_loc']) [0.0017574320081621408, 0.018894977867603302, 0.0678347626604053, 0.0034790239296853542, 0.00029601191636174917] val loss:  0.05291864759130503 lr:  [0.001]\n",
      "Iteration:  90  time:  4.980247467756271e-07 dict_keys(['loss_cls', 'loss_box_reg', 'redshift_loss', 'loss_rpn_cls', 'loss_rpn_loc']) [0.0015495616244152188, 0.015080807730555534, 0.031220774245105186, 0.0034762865398079157, 0.00047600941616110504] val loss:  0.056618442564696725 lr:  [0.001]\n",
      "Iteration:  95  time:  5.819601938128471e-07 dict_keys(['loss_cls', 'loss_box_reg', 'redshift_loss', 'loss_rpn_cls', 'loss_rpn_loc']) [0.0015356028452515602, 0.022744815796613693, 0.06846313374553514, 0.004485695622861385, 0.0005680883768945932] val loss:  0.04885598755857681 lr:  [0.001]\n",
      "Iteration:  100  time:  4.6496279537677765e-07 dict_keys(['loss_cls', 'loss_box_reg', 'redshift_loss', 'loss_rpn_cls', 'loss_rpn_loc']) [0.0010004420764744282, 0.011422120966017246, 0.020924745090343602, 0.005207641050219536, 0.0002901482512243092] val loss:  0.0505638110516857 lr:  [0.001]\n",
      "Iteration:  105  time:  4.409812390804291e-07 dict_keys(['loss_cls', 'loss_box_reg', 'redshift_loss', 'loss_rpn_cls', 'loss_rpn_loc']) [0.0015515959821641445, 0.018859807401895523, 0.01816557167543178, 0.0026329567190259695, 0.0003090207464993] val loss:  0.04446087794737287 lr:  [0.001]\n",
      "Iteration:  110  time:  5.149049684405327e-07 dict_keys(['loss_cls', 'loss_box_reg', 'redshift_loss', 'loss_rpn_cls', 'loss_rpn_loc']) [0.0010659284889698029, 0.013482033275067806, 0.1868766853174447, 0.0037024817429482937, 6.4239909988828e-05] val loss:  0.042496952477021496 lr:  [0.001]\n",
      "Iteration:  115  time:  3.9406586438417435e-07 dict_keys(['loss_cls', 'loss_box_reg', 'redshift_loss', 'loss_rpn_cls', 'loss_rpn_loc']) [0.003668067045509815, 0.013433064334094524, 0.06581927907795943, 0.004991375375539064, 0.0005028059240430593] val loss:  0.030690395986578967 lr:  [0.001]\n",
      "Iteration:  120  time:  5.019828677177429e-07 dict_keys(['loss_cls', 'loss_box_reg', 'redshift_loss', 'loss_rpn_cls', 'loss_rpn_loc']) [0.0009841504506766796, 0.016076477244496346, 0.05266367080930752, 0.003297786694020033, 0.0006054393015801907] val loss:  0.03535819991461929 lr:  [0.001]\n",
      "Iteration:  125  time:  5.469191819429398e-07 dict_keys(['loss_cls', 'loss_box_reg', 'redshift_loss', 'loss_rpn_cls', 'loss_rpn_loc']) [0.0011749527184292674, 0.011570488102734089, 0.023771476429258614, 0.003892152104526758, 0.00031014432897791266] val loss:  0.024736938411495546 lr:  [0.001]\n",
      "Iteration:  130  time:  7.210765033960342e-07 dict_keys(['loss_cls', 'loss_box_reg', 'redshift_loss', 'loss_rpn_cls', 'loss_rpn_loc']) [0.0009098591399379075, 0.0212770476937294, 0.0465167370202134, 0.0037423898465931416, 0.00045097930706106126] val loss:  0.026698146363056424 lr:  [0.001]\n",
      "Iteration:  135  time:  5.00003807246685e-07 dict_keys(['loss_cls', 'loss_box_reg', 'redshift_loss', 'loss_rpn_cls', 'loss_rpn_loc']) [0.0007211356423795223, 0.012983473017811775, 0.07789748147184071, 0.003733015852048993, 0.0003558544267434627] val loss:  0.03464012739283844 lr:  [0.001]\n",
      "Iteration:  140  time:  8.479692041873932e-07 dict_keys(['loss_cls', 'loss_box_reg', 'redshift_loss', 'loss_rpn_cls', 'loss_rpn_loc']) [0.0009152466082014143, 0.007622201461344957, 0.04536397349729508, 0.002498081885278225, 0.0002113353693857789] val loss:  0.030564484724115253 lr:  [0.001]\n",
      "Iteration:  145  time:  4.360917955636978e-07 dict_keys(['loss_cls', 'loss_box_reg', 'redshift_loss', 'loss_rpn_cls', 'loss_rpn_loc']) [0.0003326603036839515, 0.012868154793977737, 0.020473820197889014, 0.0021998067386448383, 0.0003475943813100457] val loss:  0.017430061953613955 lr:  [0.001]\n",
      "Iteration:  150  time:  4.7299545258283615e-07 dict_keys(['loss_cls', 'loss_box_reg', 'redshift_loss', 'loss_rpn_cls', 'loss_rpn_loc']) [0.0007203026907518506, 0.017872603610157967, 0.034977471363544746, 0.0038169128820300102, 0.00017369796114508063] val loss:  0.018196011917548542 lr:  [0.001]\n",
      "Iteration:  155  time:  6.170012056827545e-07 dict_keys(['loss_cls', 'loss_box_reg', 'redshift_loss', 'loss_rpn_cls', 'loss_rpn_loc']) [0.0004860233166255057, 0.01529479306191206, -0.00010494286874320747, 0.002173059154301882, 0.00025552025181241333] val loss:  0.021309493903796994 lr:  [0.001]\n",
      "Iteration:  160  time:  3.5599805414676666e-07 dict_keys(['loss_cls', 'loss_box_reg', 'redshift_loss', 'loss_rpn_cls', 'loss_rpn_loc']) [0.00047717304551042616, 0.014333908446133137, 0.25117975493466493, 0.003241333644837141, 0.0002502458228264004] val loss:  0.019158183423402093 lr:  [0.001]\n",
      "Iteration:  165  time:  5.00003807246685e-07 dict_keys(['loss_cls', 'loss_box_reg', 'redshift_loss', 'loss_rpn_cls', 'loss_rpn_loc']) [0.0015017673140391707, 0.009333211928606033, 0.25093334463864125, 0.004378320183604956, 0.00018201953207608312] val loss:  0.014756001477668274 lr:  [0.001]\n",
      "Iteration:  170  time:  6.150221452116966e-07 dict_keys(['loss_cls', 'loss_box_reg', 'redshift_loss', 'loss_rpn_cls', 'loss_rpn_loc']) [0.0010266777826473117, 0.010790582746267319, 0.022785797652940372, 0.004900434985756874, 0.00026990717742592096] val loss:  0.014721557732990892 lr:  [0.001]\n",
      "Iteration:  175  time:  8.33999365568161e-07 dict_keys(['loss_cls', 'loss_box_reg', 'redshift_loss', 'loss_rpn_cls', 'loss_rpn_loc']) [0.000847282528411597, 0.005391319282352924, 0.08126765257313592, 0.0017659428995102644, 0.00020662954193539917] val loss:  0.013650568235624116 lr:  [0.001]\n",
      "Iteration:  180  time:  5.119945853948593e-07 dict_keys(['loss_cls', 'loss_box_reg', 'redshift_loss', 'loss_rpn_cls', 'loss_rpn_loc']) [0.0004088470886927098, 0.013604129664599895, 0.006056819453050083, 0.002453751629218459, 0.00017304113134741783] val loss:  0.011042189248698191 lr:  [0.001]\n",
      "Iteration:  185  time:  4.780013114213943e-07 dict_keys(['loss_cls', 'loss_box_reg', 'redshift_loss', 'loss_rpn_cls', 'loss_rpn_loc']) [0.00038443278754130006, 0.008810658007860184, -0.0006450068670875997, 0.0015217730542644858, 0.00014733130228705704] val loss:  0.011759445974655225 lr:  [0.001]\n",
      "Iteration:  190  time:  4.7392677515745163e-07 dict_keys(['loss_cls', 'loss_box_reg', 'redshift_loss', 'loss_rpn_cls', 'loss_rpn_loc']) [0.00070172268897295, 0.006339903920888901, 0.007107748561007116, 0.0020051428582519293, 0.0002614525146782398] val loss:  0.009405737064818603 lr:  [0.001]\n",
      "Iteration:  195  time:  6.989575922489166e-07 dict_keys(['loss_cls', 'loss_box_reg', 'redshift_loss', 'loss_rpn_cls', 'loss_rpn_loc']) [0.0004948540008626878, 0.005254889838397503, 0.00502875268102897, 0.0018732987809926271, 0.00015270142466761172] val loss:  0.006462154470029097 lr:  [0.001]\n",
      "Iteration:  200  time:  4.919711500406265e-07 dict_keys(['loss_cls', 'loss_box_reg', 'redshift_loss', 'loss_rpn_cls', 'loss_rpn_loc']) [0.0002082809660350904, 0.007443971931934357, 0.004922552152068028, 0.0014437376521527767, 0.00016796599084045738] val loss:  0.00563332430665881 lr:  [0.001]\n",
      "saving test_informer\n",
      "Inserting handle into data store.  model_Inform_DeepDISC: inprogress_test_informer.pkl, Inform_DeepDISC\n"
     ]
    },
    {
     "data": {
      "text/plain": [
       "<rail.core.data.ModelHandle at 0x7ffdc0f59e80>"
      ]
     },
     "execution_count": 13,
     "metadata": {},
     "output_type": "execute_result"
    }
   ],
   "source": [
    "Inform.inform(training)"
   ]
  },
  {
   "cell_type": "markdown",
   "id": "1c69b958",
   "metadata": {
    "tags": []
   },
   "source": [
    "### Inference"
   ]
  },
  {
   "cell_type": "code",
   "execution_count": 14,
   "id": "7360caf2-5b3d-4998-be0c-3ca28fb5e035",
   "metadata": {},
   "outputs": [],
   "source": [
    "#Estimator = DeepDiscEstimator.make_stage(name='DeepDiscEstimator',\n",
    "#                                       model=Inform.get_handle('model'), **deep_dict)\n",
    "\n",
    "Estimator = DeepDiscPDFEstimator.make_stage(name='DeepDiscEstimator',\n",
    "                                       model=Inform.get_handle('model'), hdf5_groupname=None, **deep_dict)"
   ]
  },
  {
   "cell_type": "code",
   "execution_count": 15,
   "id": "c74bb222-f53c-415c-acab-f8b978a2af5d",
   "metadata": {},
   "outputs": [
    {
     "name": "stdout",
     "output_type": "stream",
     "text": [
      "\u001b[32m[12/01 16:58:02 d2.checkpoint.detection_checkpoint]: \u001b[0m[DetectionCheckpointer] Loading from /home/g4merz/deepdisc/Swin_test.pth ...\n",
      "Processing Data\n",
      "Matching objects\n",
      "Inserting handle into data store.  output_DeepDiscEstimator: inprogress_output_DeepDiscEstimator.hdf5, DeepDiscEstimator\n"
     ]
    }
   ],
   "source": [
    "\n",
    "results = Estimator.estimate(testing)\n",
    "\n"
   ]
  },
  {
   "cell_type": "code",
   "execution_count": 16,
   "id": "5b402ba2-3779-44e7-8654-113f19731464",
   "metadata": {},
   "outputs": [],
   "source": [
    "res = results.read()"
   ]
  },
  {
   "cell_type": "code",
   "execution_count": 17,
   "id": "42326512-837e-4ac6-87c6-2d59c90312db",
   "metadata": {},
   "outputs": [
    {
     "data": {
      "text/plain": [
       "<qp.ensemble.Ensemble at 0x7ffdb9c1bf70>"
      ]
     },
     "execution_count": 17,
     "metadata": {},
     "output_type": "execute_result"
    }
   ],
   "source": [
    "res"
   ]
  },
  {
   "cell_type": "code",
   "execution_count": null,
   "id": "f7417fa3-0c51-4a04-837c-f9e54431eeda",
   "metadata": {},
   "outputs": [],
   "source": []
  }
 ],
 "metadata": {
  "kernelspec": {
   "display_name": "Python [conda env:.conda-ddrailnv]",
   "language": "python",
   "name": "conda-env-.conda-ddrailnv-py"
  },
  "language_info": {
   "codemirror_mode": {
    "name": "ipython",
    "version": 3
   },
   "file_extension": ".py",
   "mimetype": "text/x-python",
   "name": "python",
   "nbconvert_exporter": "python",
   "pygments_lexer": "ipython3",
   "version": "3.9.18"
  }
 },
 "nbformat": 4,
 "nbformat_minor": 5
}
