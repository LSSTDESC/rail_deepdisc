{
 "cells": [
  {
   "cell_type": "code",
   "execution_count": 1,
   "id": "d614d238-437b-44f0-99da-4c710e2f8309",
   "metadata": {},
   "outputs": [],
   "source": [
    "import rail\n",
    "from rail.estimation.algos.deepdisc import *\n",
    "from rail.core.data import TableHandle, JsonHandle, ModelHandle\n",
    "from rail.core.stage import RailStage\n",
    "import torch.multiprocessing as mp"
   ]
  },
  {
   "cell_type": "code",
   "execution_count": null,
   "id": "8111733d-6e2d-4e52-9abd-c7b1e81c3709",
   "metadata": {},
   "outputs": [],
   "source": []
  },
  {
   "cell_type": "code",
   "execution_count": 2,
   "id": "4d53926d-78e8-4fa3-a0e8-3ec3a3fdc18c",
   "metadata": {},
   "outputs": [],
   "source": [
    "DS = RailStage.data_store\n",
    "DS.__class__.allow_overwrite = True"
   ]
  },
  {
   "cell_type": "code",
   "execution_count": 3,
   "id": "029dedea-8be8-46a0-93a6-0b8ae840db9d",
   "metadata": {},
   "outputs": [],
   "source": [
    "model_file = \"./test_informer.pkl\"\n",
    "model_handle = DS.add_data(\"model\", data=None, handle_class=ModelHandle, path=model_file)\n",
    "test_file_for_chunks = \"/home/shared/hsc/DC2/test_data/dataset_3/flattened_images_test_small.hdf5\"\n",
    "test_handle_for_chunks = DS.add_data(\"testing\", data=None, handle_class=TableHandle, path=test_file_for_chunks)\n",
    "metadatafile_with_chunks = \"/home/shared/hsc/DC2/test_data/dataset_3/test_metadata_example.hdf5\"\n",
    "metadatahandle_with_chunks = DS.add_data(\"metadata\", data=None, handle_class=Hdf5Handle, path=metadatafile_with_chunks)\n",
    "\n",
    "cfgfile = \"./configs/solo/solo_swin_DC2.py\""
   ]
  },
  {
   "cell_type": "code",
   "execution_count": 4,
   "id": "927e5eda-e871-4022-9375-5a53d46d736e",
   "metadata": {},
   "outputs": [],
   "source": [
    "#MH = ModelHandle('model',path='./test_informer.pkl')\n",
    "#data = MH.read()"
   ]
  },
  {
   "cell_type": "code",
   "execution_count": 5,
   "id": "d0adfc74-3159-48dc-b379-e462ae02686e",
   "metadata": {},
   "outputs": [],
   "source": [
    "deep_estimation_dict = dict(\n",
    "    chunk_size=5,\n",
    "    output_dir=\"./\",\n",
    "    cfgfile = cfgfile,\n",
    "    zmin=0,\n",
    "    zmax=5,\n",
    "    nzbins=200,\n",
    "    output_mode='default',\n",
    ")\n",
    "\n",
    "EstimatorWithChunks = DeepDiscPDFEstimatorWithChunking.make_stage(\n",
    "    name=\"DeepDiscEstimatorWithChunks\",\n",
    "    model=model_file,\n",
    "    **deep_estimation_dict,\n",
    ")"
   ]
  },
  {
   "cell_type": "code",
   "execution_count": null,
   "id": "4bb55a78-337b-4af9-8804-436873a54074",
   "metadata": {},
   "outputs": [
    {
     "name": "stderr",
     "output_type": "stream",
     "text": [
      "/home/g4merz/.conda/envs/ddrailnv/lib/python3.9/site-packages/torch/functional.py:504: UserWarning: torch.meshgrid: in an upcoming release, it will be required to pass the indexing argument. (Triggered internally at /data/miniconda3/envs/opence-1.7/conda-bld/pytorch-base_1672876060819/work/aten/src/ATen/native/TensorShape.cpp:3190.)\n",
      "  return _VF.meshgrid(tensors, **kwargs)  # type: ignore[attr-defined]\n"
     ]
    }
   ],
   "source": [
    "results_from_chunks = EstimatorWithChunks.estimate(test_handle_for_chunks, metadatahandle_with_chunks)"
   ]
  },
  {
   "cell_type": "code",
   "execution_count": null,
   "id": "2bab95c9-2dab-48a1-a9a6-da272e586c20",
   "metadata": {},
   "outputs": [],
   "source": [
    "res_ens = results_from_chunks.read()\n"
   ]
  },
  {
   "cell_type": "code",
   "execution_count": null,
   "id": "9fa33f83-87fe-4dc5-8456-9353555a0b7c",
   "metadata": {},
   "outputs": [],
   "source": [
    "writeout = QPHandle('output',path='./output_DeepDiscEstimatorWithChunks.hdf5')\n",
    "data = writeout.read()"
   ]
  },
  {
   "cell_type": "code",
   "execution_count": null,
   "id": "50deeead-03a7-4a9d-9066-5833f858047c",
   "metadata": {},
   "outputs": [],
   "source": [
    "data.npdf"
   ]
  },
  {
   "cell_type": "code",
   "execution_count": null,
   "id": "ec99a3e9-df98-4673-9b75-4021bbafa314",
   "metadata": {},
   "outputs": [],
   "source": [
    "data.ancil"
   ]
  },
  {
   "cell_type": "code",
   "execution_count": 8,
   "id": "fe569a5c-03a6-4e4c-927e-8a88fb3ea95d",
   "metadata": {},
   "outputs": [
    {
     "data": {
      "text/plain": [
       "array([[0.        , 0.00201005, 0.0040201 , 0.00603015, 0.0080402 ,\n",
       "        0.01005025, 0.0120603 , 0.01407035, 0.0160804 , 0.01809045,\n",
       "        0.0201005 , 0.02211055, 0.0241206 , 0.02613065, 0.0281407 ,\n",
       "        0.03015075, 0.0321608 , 0.03417085, 0.0361809 , 0.03819095,\n",
       "        0.04020101, 0.04221106, 0.04422111, 0.04623116, 0.04824121,\n",
       "        0.05025126, 0.05226131, 0.05427136, 0.05628141, 0.05829146,\n",
       "        0.06030151, 0.06231156, 0.06432161, 0.06633166, 0.06834171,\n",
       "        0.07035176, 0.07236181, 0.07437186, 0.07638191, 0.07839196,\n",
       "        0.08040201, 0.08241206, 0.08442211, 0.08643216, 0.08844221,\n",
       "        0.09045226, 0.09246231, 0.09447236, 0.09648241, 0.09849246,\n",
       "        0.10050251, 0.10251256, 0.10452261, 0.10653266, 0.10854271,\n",
       "        0.11055276, 0.11256281, 0.11457286, 0.11658291, 0.11859296,\n",
       "        0.12060302, 0.12261307, 0.12462312, 0.12663317, 0.12864322,\n",
       "        0.13065327, 0.13266332, 0.13467337, 0.13668342, 0.13869347,\n",
       "        0.14070352, 0.14271357, 0.14472362, 0.14673367, 0.14874372,\n",
       "        0.15075377, 0.15276382, 0.15477387, 0.15678392, 0.15879397,\n",
       "        0.16080402, 0.16281407, 0.16482412, 0.16683417, 0.16884422,\n",
       "        0.17085427, 0.17286432, 0.17487437, 0.17688442, 0.17889447,\n",
       "        0.18090452, 0.18291457, 0.18492462, 0.18693467, 0.18894472,\n",
       "        0.19095477, 0.19296482, 0.19497487, 0.19698492, 0.19899497,\n",
       "        0.20100503, 0.20301508, 0.20502513, 0.20703518, 0.20904523,\n",
       "        0.21105528, 0.21306533, 0.21507538, 0.21708543, 0.21909548,\n",
       "        0.22110553, 0.22311558, 0.22512563, 0.22713568, 0.22914573,\n",
       "        0.23115578, 0.23316583, 0.23517588, 0.23718593, 0.23919598,\n",
       "        0.24120603, 0.24321608, 0.24522613, 0.24723618, 0.24924623,\n",
       "        0.25125628, 0.25326633, 0.25527638, 0.25728643, 0.25929648,\n",
       "        0.26130653, 0.26331658, 0.26532663, 0.26733668, 0.26934673,\n",
       "        0.27135678, 0.27336683, 0.27537688, 0.27738693, 0.27939698,\n",
       "        0.28140704, 0.28341709, 0.28542714, 0.28743719, 0.28944724,\n",
       "        0.29145729, 0.29346734, 0.29547739, 0.29748744, 0.29949749,\n",
       "        0.30150754, 0.30351759, 0.30552764, 0.30753769, 0.30954774,\n",
       "        0.31155779, 0.31356784, 0.31557789, 0.31758794, 0.31959799,\n",
       "        0.32160804, 0.32361809, 0.32562814, 0.32763819, 0.32964824,\n",
       "        0.33165829, 0.33366834, 0.33567839, 0.33768844, 0.33969849,\n",
       "        0.34170854, 0.34371859, 0.34572864, 0.34773869, 0.34974874,\n",
       "        0.35175879, 0.35376884, 0.35577889, 0.35778894, 0.35979899,\n",
       "        0.36180905, 0.3638191 , 0.36582915, 0.3678392 , 0.36984925,\n",
       "        0.3718593 , 0.37386935, 0.3758794 , 0.37788945, 0.3798995 ,\n",
       "        0.38190955, 0.3839196 , 0.38592965, 0.3879397 , 0.38994975,\n",
       "        0.3919598 , 0.39396985, 0.3959799 , 0.39798995, 0.4       ]])"
      ]
     },
     "execution_count": 8,
     "metadata": {},
     "output_type": "execute_result"
    }
   ],
   "source": [
    "zgrid = np.linspace(0,5,200)\n",
    "data[7].pdf(zgrid)"
   ]
  },
  {
   "cell_type": "code",
   "execution_count": 18,
   "id": "ae64f41c-c218-45d2-bc89-4da30a69dd11",
   "metadata": {},
   "outputs": [
    {
     "data": {
      "text/plain": [
       "array([0.        , 0.00201005, 0.0040201 , 0.00603015, 0.0080402 ,\n",
       "       0.01005025, 0.0120603 , 0.01407035, 0.0160804 , 0.01809045,\n",
       "       0.0201005 , 0.02211055, 0.0241206 , 0.02613065, 0.0281407 ,\n",
       "       0.03015075, 0.0321608 , 0.03417085, 0.0361809 , 0.03819095,\n",
       "       0.04020101, 0.04221106, 0.04422111, 0.04623116, 0.04824121,\n",
       "       0.05025126, 0.05226131, 0.05427136, 0.05628141, 0.05829146,\n",
       "       0.06030151, 0.06231156, 0.06432161, 0.06633166, 0.06834171,\n",
       "       0.07035176, 0.07236181, 0.07437186, 0.07638191, 0.07839196,\n",
       "       0.08040201, 0.08241206, 0.08442211, 0.08643216, 0.08844221,\n",
       "       0.09045226, 0.09246231, 0.09447236, 0.09648241, 0.09849246,\n",
       "       0.10050251, 0.10251256, 0.10452261, 0.10653266, 0.10854271,\n",
       "       0.11055276, 0.11256281, 0.11457286, 0.11658291, 0.11859296,\n",
       "       0.12060302, 0.12261307, 0.12462312, 0.12663317, 0.12864322,\n",
       "       0.13065327, 0.13266332, 0.13467337, 0.13668342, 0.13869347,\n",
       "       0.14070352, 0.14271357, 0.14472362, 0.14673367, 0.14874372,\n",
       "       0.15075377, 0.15276382, 0.15477387, 0.15678392, 0.15879397,\n",
       "       0.16080402, 0.16281407, 0.16482412, 0.16683417, 0.16884422,\n",
       "       0.17085427, 0.17286432, 0.17487437, 0.17688442, 0.17889447,\n",
       "       0.18090452, 0.18291457, 0.18492462, 0.18693467, 0.18894472,\n",
       "       0.19095477, 0.19296482, 0.19497487, 0.19698492, 0.19899497,\n",
       "       0.20100503, 0.20301508, 0.20502513, 0.20703518, 0.20904523,\n",
       "       0.21105528, 0.21306533, 0.21507538, 0.21708543, 0.21909548,\n",
       "       0.22110553, 0.22311558, 0.22512563, 0.22713568, 0.22914573,\n",
       "       0.23115578, 0.23316583, 0.23517588, 0.23718593, 0.23919598,\n",
       "       0.24120603, 0.24321608, 0.24522613, 0.24723618, 0.24924623,\n",
       "       0.25125628, 0.25326633, 0.25527638, 0.25728643, 0.25929648,\n",
       "       0.26130653, 0.26331658, 0.26532663, 0.26733668, 0.26934673,\n",
       "       0.27135678, 0.27336683, 0.27537688, 0.27738693, 0.27939698,\n",
       "       0.28140704, 0.28341709, 0.28542714, 0.28743719, 0.28944724,\n",
       "       0.29145729, 0.29346734, 0.29547739, 0.29748744, 0.29949749,\n",
       "       0.30150754, 0.30351759, 0.30552764, 0.30753769, 0.30954774,\n",
       "       0.31155779, 0.31356784, 0.31557789, 0.31758794, 0.31959799,\n",
       "       0.32160804, 0.32361809, 0.32562814, 0.32763819, 0.32964824,\n",
       "       0.33165829, 0.33366834, 0.33567839, 0.33768844, 0.33969849,\n",
       "       0.34170854, 0.34371859, 0.34572864, 0.34773869, 0.34974874,\n",
       "       0.35175879, 0.35376884, 0.35577889, 0.35778894, 0.35979899,\n",
       "       0.36180905, 0.3638191 , 0.36582915, 0.3678392 , 0.36984925,\n",
       "       0.3718593 , 0.37386935, 0.3758794 , 0.37788945, 0.3798995 ,\n",
       "       0.38190955, 0.3839196 , 0.38592965, 0.3879397 , 0.38994975,\n",
       "       0.3919598 , 0.39396985, 0.3959799 , 0.39798995, 0.4       ])"
      ]
     },
     "execution_count": 18,
     "metadata": {},
     "output_type": "execute_result"
    }
   ],
   "source": [
    "data.pdf(zgrid)[4]"
   ]
  },
  {
   "cell_type": "code",
   "execution_count": 8,
   "id": "87d03c59-7696-49ce-a49f-d57153396076",
   "metadata": {},
   "outputs": [
    {
     "ename": "NameError",
     "evalue": "name 'res' is not defined",
     "output_type": "error",
     "traceback": [
      "\u001b[0;31m---------------------------------------------------------------------------\u001b[0m",
      "\u001b[0;31mNameError\u001b[0m                                 Traceback (most recent call last)",
      "Cell \u001b[0;32mIn[8], line 1\u001b[0m\n\u001b[0;32m----> 1\u001b[0m \u001b[38;5;28mlen\u001b[39m(\u001b[43mres\u001b[49m)\n",
      "\u001b[0;31mNameError\u001b[0m: name 'res' is not defined"
     ]
    }
   ],
   "source": [
    "res.an"
   ]
  },
  {
   "cell_type": "code",
   "execution_count": null,
   "id": "5dfc284e-7701-4a72-8370-49a405a71cfb",
   "metadata": {},
   "outputs": [],
   "source": [
    "import matplotlib.pyplot as plt\n",
    "fig, ax = plt.subplots()\n",
    "x = np.linspace(0,3,100)\n",
    "ax.plot(x, res_ens[0].pdf(x)[0])\n",
    "ax.plot(x, res_ens[1].pdf(x)[0])"
   ]
  }
 ],
 "metadata": {
  "kernelspec": {
   "display_name": "Python [conda env:.conda-ddrailnv]",
   "language": "python",
   "name": "conda-env-.conda-ddrailnv-py"
  },
  "language_info": {
   "codemirror_mode": {
    "name": "ipython",
    "version": 3
   },
   "file_extension": ".py",
   "mimetype": "text/x-python",
   "name": "python",
   "nbconvert_exporter": "python",
   "pygments_lexer": "ipython3",
   "version": "3.9.18"
  }
 },
 "nbformat": 4,
 "nbformat_minor": 5
}
