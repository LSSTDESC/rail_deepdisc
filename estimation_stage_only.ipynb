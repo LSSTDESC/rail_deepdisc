{
 "cells": [
  {
   "cell_type": "code",
   "execution_count": 1,
   "id": "d614d238-437b-44f0-99da-4c710e2f8309",
   "metadata": {},
   "outputs": [],
   "source": [
    "import rail\n",
    "from rail.estimation.algos.deepdisc import *\n",
    "from rail.core.data import TableHandle, ModelHandle\n",
    "from rail.core.stage import RailStage\n",
    "import torch.multiprocessing as mp"
   ]
  },
  {
   "cell_type": "code",
   "execution_count": null,
   "id": "8111733d-6e2d-4e52-9abd-c7b1e81c3709",
   "metadata": {},
   "outputs": [],
   "source": []
  },
  {
   "cell_type": "code",
   "execution_count": 2,
   "id": "4d53926d-78e8-4fa3-a0e8-3ec3a3fdc18c",
   "metadata": {},
   "outputs": [],
   "source": [
    "DS = RailStage.data_store\n",
    "DS.__class__.allow_overwrite = True"
   ]
  },
  {
   "cell_type": "code",
   "execution_count": 3,
   "id": "029dedea-8be8-46a0-93a6-0b8ae840db9d",
   "metadata": {},
   "outputs": [],
   "source": [
    "model_file = \"./test_informer.pkl\"\n",
    "model_handle = DS.add_data(\"model\", data=None, handle_class=ModelHandle, path=model_file)\n",
    "test_file_for_chunks = \"/home/shared/hsc/DC2/test_data/dataset_3/flattened_images_test_small.hdf5\"\n",
    "test_handle_for_chunks = DS.add_data(\"testing\", data=None, handle_class=TableHandle, path=test_file_for_chunks)\n",
    "metadatafile_with_chunks = \"/home/shared/hsc/DC2/test_data/dataset_3/test_metadata_example.hdf5\"\n",
    "metadatahandle_with_chunks = DS.add_data(\"metadata\", data=None, handle_class=Hdf5Handle, path=metadatafile_with_chunks)\n",
    "\n",
    "cfgfile = \"./configs/solo/solo_swin_DC2.py\""
   ]
  },
  {
   "cell_type": "code",
   "execution_count": 4,
   "id": "927e5eda-e871-4022-9375-5a53d46d736e",
   "metadata": {},
   "outputs": [],
   "source": [
    "#MH = ModelHandle('model',path='./test_informer.pkl')\n",
    "#data = MH.read()"
   ]
  },
  {
   "cell_type": "code",
   "execution_count": 5,
   "id": "d0adfc74-3159-48dc-b379-e462ae02686e",
   "metadata": {},
   "outputs": [],
   "source": [
    "deep_estimation_dict = dict(\n",
    "    chunk_size=5,\n",
    "    batch_size=1,\n",
    "    output_dir=\"./\",\n",
    "    cfgfile = cfgfile,\n",
    "    zmin=0,\n",
    "    zmax=5,\n",
    "    nzbins=200,\n",
    "    output_mode='default',\n",
    ")\n",
    "\n",
    "EstimatorWithChunks = DeepDiscPDFEstimatorWithChunking.make_stage(\n",
    "    name=\"DeepDiscEstimatorWithChunks\",\n",
    "    model=model_file,\n",
    "    **deep_estimation_dict,\n",
    ")"
   ]
  },
  {
   "cell_type": "code",
   "execution_count": 6,
   "id": "4bb55a78-337b-4af9-8804-436873a54074",
   "metadata": {},
   "outputs": [
    {
     "name": "stderr",
     "output_type": "stream",
     "text": [
      "/home/g4merz/.conda/envs/ddrailnv/lib/python3.9/site-packages/torch/functional.py:504: UserWarning: torch.meshgrid: in an upcoming release, it will be required to pass the indexing argument. (Triggered internally at /data/miniconda3/envs/opence-1.7/conda-bld/pytorch-base_1672876060819/work/aten/src/ATen/native/TensorShape.cpp:3190.)\n",
      "  return _VF.meshgrid(tensors, **kwargs)  # type: ignore[attr-defined]\n"
     ]
    },
    {
     "name": "stdout",
     "output_type": "stream",
     "text": [
      "Caching data\n",
      "Processing chunk (start:end) - (0:5)\n"
     ]
    },
    {
     "ename": "AttributeError",
     "evalue": "module 'torch.multiprocessing' has no attribute 'Mananger'",
     "output_type": "error",
     "traceback": [
      "\u001b[0;31m---------------------------------------------------------------------------\u001b[0m",
      "\u001b[0;31mAttributeError\u001b[0m                            Traceback (most recent call last)",
      "Cell \u001b[0;32mIn[6], line 1\u001b[0m\n\u001b[0;32m----> 1\u001b[0m results_from_chunks \u001b[38;5;241m=\u001b[39m \u001b[43mEstimatorWithChunks\u001b[49m\u001b[38;5;241;43m.\u001b[39;49m\u001b[43mestimate\u001b[49m\u001b[43m(\u001b[49m\u001b[43mtest_handle_for_chunks\u001b[49m\u001b[43m,\u001b[49m\u001b[43m \u001b[49m\u001b[43mmetadatahandle_with_chunks\u001b[49m\u001b[43m)\u001b[49m\n",
      "File \u001b[0;32m~/rail_deepdisc/src/rail/estimation/algos/deepdisc.py:477\u001b[0m, in \u001b[0;36mDeepDiscPDFEstimatorWithChunking.estimate\u001b[0;34m(self, input_data, input_metadata)\u001b[0m\n\u001b[1;32m    475\u001b[0m     \u001b[38;5;28mself\u001b[39m\u001b[38;5;241m.\u001b[39mset_data(\u001b[38;5;124m\"\u001b[39m\u001b[38;5;124minput\u001b[39m\u001b[38;5;124m\"\u001b[39m, input_data)\n\u001b[1;32m    476\u001b[0m     \u001b[38;5;28mself\u001b[39m\u001b[38;5;241m.\u001b[39mset_data(\u001b[38;5;124m\"\u001b[39m\u001b[38;5;124mmetadata\u001b[39m\u001b[38;5;124m\"\u001b[39m, input_metadata)\n\u001b[0;32m--> 477\u001b[0m     \u001b[38;5;28;43mself\u001b[39;49m\u001b[38;5;241;43m.\u001b[39;49m\u001b[43mrun\u001b[49m\u001b[43m(\u001b[49m\u001b[43m)\u001b[49m\n\u001b[1;32m    478\u001b[0m     \u001b[38;5;28mself\u001b[39m\u001b[38;5;241m.\u001b[39mfinalize()\n\u001b[1;32m    479\u001b[0m \u001b[38;5;28;01mreturn\u001b[39;00m \u001b[38;5;28mself\u001b[39m\u001b[38;5;241m.\u001b[39mget_handle(\u001b[38;5;124m\"\u001b[39m\u001b[38;5;124moutput\u001b[39m\u001b[38;5;124m\"\u001b[39m)\n",
      "File \u001b[0;32m~/rail_deepdisc/src/rail/estimation/algos/deepdisc.py:528\u001b[0m, in \u001b[0;36mDeepDiscPDFEstimatorWithChunking.run\u001b[0;34m(self)\u001b[0m\n\u001b[1;32m    526\u001b[0m \u001b[38;5;66;03m# process this chunk of data\u001b[39;00m\n\u001b[1;32m    527\u001b[0m \u001b[38;5;28mprint\u001b[39m(\u001b[38;5;124mf\u001b[39m\u001b[38;5;124m\"\u001b[39m\u001b[38;5;124mProcessing chunk (start:end) - (\u001b[39m\u001b[38;5;132;01m{\u001b[39;00mstart_idx\u001b[38;5;132;01m}\u001b[39;00m\u001b[38;5;124m:\u001b[39m\u001b[38;5;132;01m{\u001b[39;00mend_idx\u001b[38;5;132;01m}\u001b[39;00m\u001b[38;5;124m)\u001b[39m\u001b[38;5;124m\"\u001b[39m)\n\u001b[0;32m--> 528\u001b[0m \u001b[38;5;28;43mself\u001b[39;49m\u001b[38;5;241;43m.\u001b[39;49m\u001b[43m_process_chunk\u001b[49m\u001b[43m(\u001b[49m\u001b[43mstart_idx\u001b[49m\u001b[43m,\u001b[49m\u001b[43m \u001b[49m\u001b[43mmetadata\u001b[49m\u001b[43m)\u001b[49m\n",
      "File \u001b[0;32m~/rail_deepdisc/src/rail/estimation/algos/deepdisc.py:542\u001b[0m, in \u001b[0;36mDeepDiscPDFEstimatorWithChunking._process_chunk\u001b[0;34m(self, start_idx, metadata)\u001b[0m\n\u001b[1;32m    530\u001b[0m \u001b[38;5;28;01mdef\u001b[39;00m \u001b[38;5;21m_process_chunk\u001b[39m(\u001b[38;5;28mself\u001b[39m, start_idx, metadata):\n\u001b[1;32m    531\u001b[0m \u001b[38;5;250m    \u001b[39m\u001b[38;5;124;03m\"\"\"For a given block of images and metadata, calculate the PDFs and\u001b[39;00m\n\u001b[1;32m    532\u001b[0m \u001b[38;5;124;03m    write them to a temporary file.\u001b[39;00m\n\u001b[1;32m    533\u001b[0m \n\u001b[0;32m   (...)\u001b[0m\n\u001b[1;32m    539\u001b[0m \u001b[38;5;124;03m        The list of metadata dictionaries for this block of images\u001b[39;00m\n\u001b[1;32m    540\u001b[0m \u001b[38;5;124;03m    \"\"\"\u001b[39;00m\n\u001b[0;32m--> 542\u001b[0m     \u001b[38;5;28;01mwith\u001b[39;00m \u001b[43mmp\u001b[49m\u001b[38;5;241;43m.\u001b[39;49m\u001b[43mMananger\u001b[49m() \u001b[38;5;28;01mas\u001b[39;00m manager:\n\u001b[1;32m    543\u001b[0m         q \u001b[38;5;241m=\u001b[39m manager\u001b[38;5;241m.\u001b[39mQueue()\n\u001b[1;32m    545\u001b[0m         \u001b[38;5;66;03m# call detectron2's `launch` function to parallelize the inference\u001b[39;00m\n",
      "\u001b[0;31mAttributeError\u001b[0m: module 'torch.multiprocessing' has no attribute 'Mananger'"
     ]
    }
   ],
   "source": [
    "results_from_chunks = EstimatorWithChunks.estimate(test_handle_for_chunks, metadatahandle_with_chunks)"
   ]
  },
  {
   "cell_type": "code",
   "execution_count": null,
   "id": "2bab95c9-2dab-48a1-a9a6-da272e586c20",
   "metadata": {},
   "outputs": [],
   "source": [
    "res_ens = results_from_chunks.read()\n"
   ]
  },
  {
   "cell_type": "code",
   "execution_count": null,
   "id": "9fa33f83-87fe-4dc5-8456-9353555a0b7c",
   "metadata": {},
   "outputs": [],
   "source": [
    "writeout = QPHandle('output',path='./output_DeepDiscEstimatorWithChunks.hdf5')\n",
    "data = writeout.read()"
   ]
  },
  {
   "cell_type": "code",
   "execution_count": null,
   "id": "50deeead-03a7-4a9d-9066-5833f858047c",
   "metadata": {},
   "outputs": [],
   "source": [
    "data.npdf"
   ]
  },
  {
   "cell_type": "code",
   "execution_count": null,
   "id": "ec99a3e9-df98-4673-9b75-4021bbafa314",
   "metadata": {},
   "outputs": [],
   "source": [
    "data.ancil"
   ]
  },
  {
   "cell_type": "code",
   "execution_count": null,
   "id": "fe569a5c-03a6-4e4c-927e-8a88fb3ea95d",
   "metadata": {},
   "outputs": [],
   "source": [
    "zgrid = np.linspace(0,5,200)\n",
    "data[7].pdf(zgrid)"
   ]
  },
  {
   "cell_type": "code",
   "execution_count": null,
   "id": "ae64f41c-c218-45d2-bc89-4da30a69dd11",
   "metadata": {},
   "outputs": [],
   "source": [
    "data.pdf(zgrid)[4]"
   ]
  },
  {
   "cell_type": "code",
   "execution_count": null,
   "id": "87d03c59-7696-49ce-a49f-d57153396076",
   "metadata": {},
   "outputs": [],
   "source": [
    "res.an"
   ]
  },
  {
   "cell_type": "code",
   "execution_count": null,
   "id": "5dfc284e-7701-4a72-8370-49a405a71cfb",
   "metadata": {},
   "outputs": [],
   "source": [
    "import matplotlib.pyplot as plt\n",
    "fig, ax = plt.subplots()\n",
    "x = np.linspace(0,3,100)\n",
    "ax.plot(x, res_ens[0].pdf(x)[0])\n",
    "ax.plot(x, res_ens[1].pdf(x)[0])"
   ]
  }
 ],
 "metadata": {
  "kernelspec": {
   "display_name": "Python [conda env:.conda-ddrailnv]",
   "language": "python",
   "name": "conda-env-.conda-ddrailnv-py"
  },
  "language_info": {
   "codemirror_mode": {
    "name": "ipython",
    "version": 3
   },
   "file_extension": ".py",
   "mimetype": "text/x-python",
   "name": "python",
   "nbconvert_exporter": "python",
   "pygments_lexer": "ipython3",
   "version": "3.9.18"
  }
 },
 "nbformat": 4,
 "nbformat_minor": 5
}
