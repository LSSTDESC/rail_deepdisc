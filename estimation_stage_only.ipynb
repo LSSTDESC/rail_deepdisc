{
 "cells": [
  {
   "cell_type": "code",
   "execution_count": 1,
   "id": "d614d238-437b-44f0-99da-4c710e2f8309",
   "metadata": {},
   "outputs": [
    {
     "name": "stderr",
     "output_type": "stream",
     "text": [
      "/home/drewoldag/.conda/envs/rail_deepdisc39/lib/python3.9/site-packages/tqdm/auto.py:21: TqdmWarning: IProgress not found. Please update jupyter and ipywidgets. See https://ipywidgets.readthedocs.io/en/stable/user_install.html\n",
      "  from .autonotebook import tqdm as notebook_tqdm\n"
     ]
    }
   ],
   "source": [
    "import rail\n",
    "from rail.estimation.algos.deepdisc import *\n",
    "from rail.core.data import TableHandle, ModelHandle\n",
    "from rail.core.stage import RailStage\n",
    "import torch.multiprocessing as mp"
   ]
  },
  {
   "cell_type": "code",
   "execution_count": null,
   "id": "8111733d-6e2d-4e52-9abd-c7b1e81c3709",
   "metadata": {},
   "outputs": [],
   "source": []
  },
  {
   "cell_type": "code",
   "execution_count": 2,
   "id": "4d53926d-78e8-4fa3-a0e8-3ec3a3fdc18c",
   "metadata": {},
   "outputs": [],
   "source": [
    "DS = RailStage.data_store\n",
    "DS.__class__.allow_overwrite = True"
   ]
  },
  {
   "cell_type": "code",
   "execution_count": 3,
   "id": "029dedea-8be8-46a0-93a6-0b8ae840db9d",
   "metadata": {},
   "outputs": [],
   "source": [
    "model_file = \"./test_informer.pkl\"\n",
    "model_handle = DS.add_data(\"model\", data=None, handle_class=ModelHandle, path=model_file)\n",
    "test_file_for_chunks = \"/home/shared/hsc/DC2/test_data/dataset_3/flattened_images_test_small.hdf5\"\n",
    "test_handle_for_chunks = DS.add_data(\"testing\", data=None, handle_class=TableHandle, path=test_file_for_chunks)\n",
    "metadatafile_with_chunks = \"/home/shared/hsc/DC2/test_data/dataset_3/test_metadata_example.hdf5\"\n",
    "metadatahandle_with_chunks = DS.add_data(\"metadata\", data=None, handle_class=Hdf5Handle, path=metadatafile_with_chunks)\n",
    "\n",
    "cfgfile = \"./configs/solo/solo_swin_DC2.py\""
   ]
  },
  {
   "cell_type": "code",
   "execution_count": 4,
   "id": "927e5eda-e871-4022-9375-5a53d46d736e",
   "metadata": {},
   "outputs": [],
   "source": [
    "#MH = ModelHandle('model',path='./test_informer.pkl')\n",
    "#data = MH.read()"
   ]
  },
  {
   "cell_type": "code",
   "execution_count": 5,
   "id": "d0adfc74-3159-48dc-b379-e462ae02686e",
   "metadata": {},
   "outputs": [],
   "source": [
    "deep_estimation_dict = dict(\n",
    "    chunk_size=5,\n",
    "    batch_size=1,\n",
    "    output_dir=\"./\",\n",
    "    cfgfile = cfgfile,\n",
    "    zmin=0,\n",
    "    zmax=5,\n",
    "    nzbins=200,\n",
    "    output_mode='default',\n",
    ")\n",
    "\n",
    "EstimatorWithChunks = DeepDiscPDFEstimatorWithChunking.make_stage(\n",
    "    name=\"DeepDiscEstimatorWithChunks\",\n",
    "    model=model_file,\n",
    "    **deep_estimation_dict,\n",
    ")"
   ]
  },
  {
   "cell_type": "code",
   "execution_count": null,
   "id": "4bb55a78-337b-4af9-8804-436873a54074",
   "metadata": {},
   "outputs": [
    {
     "name": "stderr",
     "output_type": "stream",
     "text": [
      "/home/drewoldag/.conda/envs/rail_deepdisc39/lib/python3.9/site-packages/torch/functional.py:504: UserWarning: torch.meshgrid: in an upcoming release, it will be required to pass the indexing argument. (Triggered internally at /data/miniconda3/envs/opence-1.7/conda-bld/pytorch-base_1672876060819/work/aten/src/ATen/native/TensorShape.cpp:3190.)\n",
      "  return _VF.meshgrid(tensors, **kwargs)  # type: ignore[attr-defined]\n"
     ]
    },
    {
     "name": "stdout",
     "output_type": "stream",
     "text": [
      "Caching data\n",
      "Processing chunk (start:end) - (0:5)\n",
      "\u001b[32m[01/17 18:56:24 d2.data.common]: \u001b[0mSerializing the dataset using: <class 'detectron2.data.common._TorchSerializedList'>\n",
      "\u001b[32m[01/17 18:56:24 d2.data.common]: \u001b[0mSerializing 5 elements to byte tensors and concatenating them all ...\n",
      "\u001b[32m[01/17 18:56:24 d2.data.common]: \u001b[0mSerialized dataset takes 1.29 MiB\n",
      "\u001b[32m[01/17 18:56:24 d2.data.common]: \u001b[0mSerializing the dataset using: <class 'detectron2.data.common._TorchSerializedList'>\n",
      "\u001b[32m[01/17 18:56:24 d2.data.common]: \u001b[0mSerializing 5 elements to byte tensors and concatenating them all ...\n",
      "\u001b[32m[01/17 18:56:24 d2.data.common]: \u001b[0mSerialized dataset takes 1.29 MiB\n"
     ]
    },
    {
     "name": "stderr",
     "output_type": "stream",
     "text": [
      "/home/drewoldag/.conda/envs/rail_deepdisc39/lib/python3.9/site-packages/torch/functional.py:504: UserWarning: torch.meshgrid: in an upcoming release, it will be required to pass the indexing argument. (Triggered internally at /data/miniconda3/envs/opence-1.7/conda-bld/pytorch-base_1672876060819/work/aten/src/ATen/native/TensorShape.cpp:3190.)\n",
      "  return _VF.meshgrid(tensors, **kwargs)  # type: ignore[attr-defined]\n",
      "/home/drewoldag/.conda/envs/rail_deepdisc39/lib/python3.9/site-packages/torch/functional.py:504: UserWarning: torch.meshgrid: in an upcoming release, it will be required to pass the indexing argument. (Triggered internally at /data/miniconda3/envs/opence-1.7/conda-bld/pytorch-base_1672876060819/work/aten/src/ATen/native/TensorShape.cpp:3190.)\n",
      "  return _VF.meshgrid(tensors, **kwargs)  # type: ignore[attr-defined]\n"
     ]
    },
    {
     "name": "stdout",
     "output_type": "stream",
     "text": [
      "Processing chunk (start:end) - (5:10)\n",
      "\u001b[32m[01/17 18:57:12 d2.data.common]: \u001b[0mSerializing the dataset using: <class 'detectron2.data.common._TorchSerializedList'>\n",
      "\u001b[32m[01/17 18:57:12 d2.data.common]: \u001b[0mSerializing the dataset using: <class 'detectron2.data.common._TorchSerializedList'>\n",
      "\u001b[32m[01/17 18:57:12 d2.data.common]: \u001b[0mSerializing 5 elements to byte tensors and concatenating them all ...\n",
      "\u001b[32m[01/17 18:57:12 d2.data.common]: \u001b[0mSerializing 5 elements to byte tensors and concatenating them all ...\n",
      "\u001b[32m[01/17 18:57:12 d2.data.common]: \u001b[0mSerialized dataset takes 1.37 MiB\n",
      "\u001b[32m[01/17 18:57:12 d2.data.common]: \u001b[0mSerialized dataset takes 1.37 MiB\n"
     ]
    },
    {
     "name": "stderr",
     "output_type": "stream",
     "text": [
      "/home/drewoldag/.conda/envs/rail_deepdisc39/lib/python3.9/site-packages/torch/functional.py:504: UserWarning: torch.meshgrid: in an upcoming release, it will be required to pass the indexing argument. (Triggered internally at /data/miniconda3/envs/opence-1.7/conda-bld/pytorch-base_1672876060819/work/aten/src/ATen/native/TensorShape.cpp:3190.)\n",
      "  return _VF.meshgrid(tensors, **kwargs)  # type: ignore[attr-defined]\n",
      "/home/drewoldag/.conda/envs/rail_deepdisc39/lib/python3.9/site-packages/torch/functional.py:504: UserWarning: torch.meshgrid: in an upcoming release, it will be required to pass the indexing argument. (Triggered internally at /data/miniconda3/envs/opence-1.7/conda-bld/pytorch-base_1672876060819/work/aten/src/ATen/native/TensorShape.cpp:3190.)\n",
      "  return _VF.meshgrid(tensors, **kwargs)  # type: ignore[attr-defined]\n"
     ]
    }
   ],
   "source": [
    "results_from_chunks = EstimatorWithChunks.estimate(test_handle_for_chunks, metadatahandle_with_chunks)"
   ]
  },
  {
   "cell_type": "code",
   "execution_count": null,
   "id": "2bab95c9-2dab-48a1-a9a6-da272e586c20",
   "metadata": {},
   "outputs": [],
   "source": [
    "res_ens = results_from_chunks.read()\n"
   ]
  },
  {
   "cell_type": "code",
   "execution_count": null,
   "id": "9fa33f83-87fe-4dc5-8456-9353555a0b7c",
   "metadata": {},
   "outputs": [],
   "source": [
    "writeout = QPHandle('output',path='./output_DeepDiscEstimatorWithChunks.hdf5')\n",
    "data = writeout.read()"
   ]
  },
  {
   "cell_type": "code",
   "execution_count": null,
   "id": "50deeead-03a7-4a9d-9066-5833f858047c",
   "metadata": {},
   "outputs": [],
   "source": [
    "data.npdf"
   ]
  },
  {
   "cell_type": "code",
   "execution_count": null,
   "id": "ec99a3e9-df98-4673-9b75-4021bbafa314",
   "metadata": {},
   "outputs": [],
   "source": [
    "data.ancil"
   ]
  },
  {
   "cell_type": "code",
   "execution_count": null,
   "id": "fe569a5c-03a6-4e4c-927e-8a88fb3ea95d",
   "metadata": {},
   "outputs": [],
   "source": [
    "zgrid = np.linspace(0,5,200)\n",
    "data[7].pdf(zgrid)"
   ]
  },
  {
   "cell_type": "code",
   "execution_count": null,
   "id": "ae64f41c-c218-45d2-bc89-4da30a69dd11",
   "metadata": {},
   "outputs": [],
   "source": [
    "data.pdf(zgrid)[4]"
   ]
  },
  {
   "cell_type": "code",
   "execution_count": null,
   "id": "87d03c59-7696-49ce-a49f-d57153396076",
   "metadata": {},
   "outputs": [],
   "source": [
    "res.an"
   ]
  },
  {
   "cell_type": "code",
   "execution_count": null,
   "id": "5dfc284e-7701-4a72-8370-49a405a71cfb",
   "metadata": {},
   "outputs": [],
   "source": [
    "import matplotlib.pyplot as plt\n",
    "fig, ax = plt.subplots()\n",
    "x = np.linspace(0,3,100)\n",
    "ax.plot(x, res_ens[0].pdf(x)[0])\n",
    "ax.plot(x, res_ens[1].pdf(x)[0])"
   ]
  }
 ],
 "metadata": {
  "kernelspec": {
   "display_name": "Python [conda env:.conda-rail_deepdisc39]",
   "language": "python",
   "name": "conda-env-.conda-rail_deepdisc39-py"
  },
  "language_info": {
   "codemirror_mode": {
    "name": "ipython",
    "version": 3
   },
   "file_extension": ".py",
   "mimetype": "text/x-python",
   "name": "python",
   "nbconvert_exporter": "python",
   "pygments_lexer": "ipython3",
   "version": "3.9.18"
  }
 },
 "nbformat": 4,
 "nbformat_minor": 5
}
